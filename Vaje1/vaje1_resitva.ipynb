{
 "cells": [
  {
   "attachments": {},
   "cell_type": "markdown",
   "metadata": {},
   "source": [
    "# NSU, vaje 1: osnove strojnega učenja v Pythonu"
   ]
  },
  {
   "cell_type": "code",
   "execution_count": 1,
   "metadata": {},
   "outputs": [],
   "source": [
    "import numpy as np\n",
    "import pandas as pd"
   ]
  },
  {
   "attachments": {},
   "cell_type": "markdown",
   "metadata": {},
   "source": [
    "A.1: Naložite podatke iz CSV datoteke s paketom **pandas**. "
   ]
  },
  {
   "cell_type": "code",
   "execution_count": 3,
   "metadata": {},
   "outputs": [],
   "source": [
    "# Naložimo podatke\n",
    "df = pd.read_csv('podatki.csv', index_col=0)"
   ]
  },
  {
   "attachments": {},
   "cell_type": "markdown",
   "metadata": {},
   "source": [
    "A.2: Osnovne informacij o podatkih. Izpišite prvih nekaj vrstic podatkov in si jih oglejte, nato pa izpišite še:\n",
    "- število vrstic in stolpcev\n",
    "- vrsto spremenljivke v vsakem stolpcu (v pomoč je funkcija **dtypes**), \n",
    "- povzetek statistike (pandas nam pomaga z **describe**), \n",
    "- število manjkajočih vrednosti v vsakem stolpcu (koristna je funkcija **isnull**)."
   ]
  },
  {
   "cell_type": "code",
   "execution_count": 4,
   "metadata": {},
   "outputs": [
    {
     "name": "stdout",
     "output_type": "stream",
     "text": [
      "         X1         X2        X3    X4         X5                X6  Y\n",
      "1  0.452553  69.113756 -2.558555   car  23.210163               NaN  1\n",
      "2  0.865373  39.855286 -0.727901  bike  24.136736               NaN  0\n",
      "3       NaN  82.321769 -6.092819  bike  70.441331  937875.790987164  0\n",
      "4  0.568116  82.638111 -8.248877   car        NaN  197308.828588575  1\n",
      "5  0.936621  34.460152 -9.577684   NaN  46.773121  253860.316937789  0\n",
      "Velikost podatkov:  (500, 7)\n",
      "Tipi stolpcev: \n",
      "X1    float64\n",
      "X2    float64\n",
      "X3    float64\n",
      "X4     object\n",
      "X5    float64\n",
      "X6     object\n",
      "Y       int64\n",
      "dtype: object\n",
      "Povzetek statistike: \n",
      "               X1          X2          X3          X5           Y\n",
      "count  417.000000  425.000000  401.000000  418.000000  500.000000\n",
      "mean     0.480240   49.712517   -0.326907   50.498433    0.376000\n",
      "std      0.284564   28.518534    5.705867   29.939186    0.484865\n",
      "min      0.002002    0.185484   -9.974356    0.048450    0.000000\n",
      "25%      0.241174   25.220756   -5.220926   24.334954    0.000000\n",
      "50%      0.466964   50.124783   -0.611887   49.792287    0.000000\n",
      "75%      0.722863   74.834014    4.451901   78.042819    1.000000\n",
      "max      0.999430   99.852905    9.928626   99.584908    1.000000\n",
      "Manjkajoče vrednosti: \n",
      "X1     83\n",
      "X2     75\n",
      "X3     99\n",
      "X4     91\n",
      "X5     82\n",
      "X6    134\n",
      "Y       0\n",
      "dtype: int64\n"
     ]
    }
   ],
   "source": [
    "# Prve vrstice\n",
    "print(df.head())\n",
    "\n",
    "# Število vrstic in stolpcev\n",
    "print(\"Velikost podatkov: \", df.shape)\n",
    "\n",
    "# Tipi stolpcev\n",
    "print(\"Tipi stolpcev: \")\n",
    "print(df.dtypes)\n",
    "\n",
    "# Povzetek statistike\n",
    "print(\"Povzetek statistike: \")\n",
    "print(df.describe())\n",
    "\n",
    "# Manjkajoče vrednosti\n",
    "print(\"Manjkajoče vrednosti: \")\n",
    "manjkajoce = df.isnull().sum()\n",
    "print(manjkajoce)"
   ]
  },
  {
   "attachments": {},
   "cell_type": "markdown",
   "metadata": {},
   "source": [
    "A.3: Očistite podatke tako, da odpravite manjkajoče vrednosti. Na stolpcih, v katerih manjka manj kot petina vrednosti, izvedete imputacijo manjkajočih vrednosti s povprečjem oziroma najpogostejšo vrednostjo. Stolpce, v katerih manjka več kot petina vrednosti, odstranite."
   ]
  },
  {
   "cell_type": "code",
   "execution_count": 5,
   "metadata": {},
   "outputs": [
    {
     "name": "stdout",
     "output_type": "stream",
     "text": [
      "X1    0\n",
      "X2    0\n",
      "X3    0\n",
      "X4    0\n",
      "X5    0\n",
      "Y     0\n",
      "dtype: int64\n"
     ]
    }
   ],
   "source": [
    "meja = 0.2\n",
    "for col in df.columns:\n",
    "    if manjkajoce[col] > 0:\n",
    "        # Imputiramo manjkajoče vrednosti\n",
    "        if manjkajoce[col] < len(df)*meja:\n",
    "            if df[col].dtype == 'float64':\n",
    "                df[col].fillna(df[col].mean(), inplace=True)\n",
    "            else:\n",
    "                df[col].fillna(df[col].mode()[0], inplace=True)\n",
    "        # ali pa stolpcec zavržemo\n",
    "        else:\n",
    "            df.drop(col, axis=1, inplace=True)\n",
    "    \n",
    "print(df.isnull().sum())"
   ]
  },
  {
   "attachments": {},
   "cell_type": "markdown",
   "metadata": {},
   "source": [
    "A.4: Narišite grafe, ki vam bodo pomagali razumeti značilnosti podatkov:\n",
    "- histogrami značilk in ciljne spremenljivke (pandas nudi **hist**)\n",
    "- korelacijska matrika (pandas nudi tudi **corr**)"
   ]
  },
  {
   "cell_type": "code",
   "execution_count": 6,
   "metadata": {},
   "outputs": [
    {
     "data": {
      "image/png": "[encoded data removed]",
      "text/plain": [
       "<Figure size 1008x576 with 6 Axes>"
      ]
     },
     "metadata": {
      "needs_background": "light"
     },
     "output_type": "display_data"
    },
    {
     "name": "stderr",
     "output_type": "stream",
     "text": [
      "c:\\ProgramData\\Anaconda3\\lib\\site-packages\\ipykernel_launcher.py:9: FutureWarning: this method is deprecated in favour of `Styler.format(precision=..)`\n",
      "  if __name__ == '__main__':\n"
     ]
    },
    {
     "data": {
      "text/html": [
       "<style type=\"text/css\">\n",
       "#T_bbdc8_row0_col0, #T_bbdc8_row1_col1, #T_bbdc8_row2_col2, #T_bbdc8_row3_col3, #T_bbdc8_row4_col4 {\n",
       "  background-color: #b40426;\n",
       "  color: #f1f1f1;\n",
       "}\n",
       "#T_bbdc8_row0_col1 {\n",
       "  background-color: #688aef;\n",
       "  color: #f1f1f1;\n",
       "}\n",
       "#T_bbdc8_row0_col2 {\n",
       "  background-color: #4e68d8;\n",
       "  color: #f1f1f1;\n",
       "}\n",
       "#T_bbdc8_row0_col3 {\n",
       "  background-color: #4a63d3;\n",
       "  color: #f1f1f1;\n",
       "}\n",
       "#T_bbdc8_row0_col4 {\n",
       "  background-color: #6c8ff1;\n",
       "  color: #f1f1f1;\n",
       "}\n",
       "#T_bbdc8_row1_col0, #T_bbdc8_row1_col4, #T_bbdc8_row4_col1, #T_bbdc8_row4_col2, #T_bbdc8_row4_col3 {\n",
       "  background-color: #3b4cc0;\n",
       "  color: #f1f1f1;\n",
       "}\n",
       "#T_bbdc8_row1_col2 {\n",
       "  background-color: #3c4ec2;\n",
       "  color: #f1f1f1;\n",
       "}\n",
       "#T_bbdc8_row1_col3 {\n",
       "  background-color: #5470de;\n",
       "  color: #f1f1f1;\n",
       "}\n",
       "#T_bbdc8_row2_col0 {\n",
       "  background-color: #455cce;\n",
       "  color: #f1f1f1;\n",
       "}\n",
       "#T_bbdc8_row2_col1 {\n",
       "  background-color: #6282ea;\n",
       "  color: #f1f1f1;\n",
       "}\n",
       "#T_bbdc8_row2_col3 {\n",
       "  background-color: #4c66d6;\n",
       "  color: #f1f1f1;\n",
       "}\n",
       "#T_bbdc8_row2_col4 {\n",
       "  background-color: #5f7fe8;\n",
       "  color: #f1f1f1;\n",
       "}\n",
       "#T_bbdc8_row3_col0 {\n",
       "  background-color: #485fd1;\n",
       "  color: #f1f1f1;\n",
       "}\n",
       "#T_bbdc8_row3_col1 {\n",
       "  background-color: #7ea1fa;\n",
       "  color: #f1f1f1;\n",
       "}\n",
       "#T_bbdc8_row3_col2 {\n",
       "  background-color: #536edd;\n",
       "  color: #f1f1f1;\n",
       "}\n",
       "#T_bbdc8_row3_col4 {\n",
       "  background-color: #6687ed;\n",
       "  color: #f1f1f1;\n",
       "}\n",
       "#T_bbdc8_row4_col0 {\n",
       "  background-color: #3f53c6;\n",
       "  color: #f1f1f1;\n",
       "}\n",
       "</style>\n",
       "<table id=\"T_bbdc8_\">\n",
       "  <thead>\n",
       "    <tr>\n",
       "      <th class=\"blank level0\" >&nbsp;</th>\n",
       "      <th class=\"col_heading level0 col0\" >X1</th>\n",
       "      <th class=\"col_heading level0 col1\" >X2</th>\n",
       "      <th class=\"col_heading level0 col2\" >X3</th>\n",
       "      <th class=\"col_heading level0 col3\" >X5</th>\n",
       "      <th class=\"col_heading level0 col4\" >Y</th>\n",
       "    </tr>\n",
       "  </thead>\n",
       "  <tbody>\n",
       "    <tr>\n",
       "      <th id=\"T_bbdc8_level0_row0\" class=\"row_heading level0 row0\" >X1</th>\n",
       "      <td id=\"T_bbdc8_row0_col0\" class=\"data row0 col0\" >1.00</td>\n",
       "      <td id=\"T_bbdc8_row0_col1\" class=\"data row0 col1\" >-0.02</td>\n",
       "      <td id=\"T_bbdc8_row0_col2\" class=\"data row0 col2\" >0.01</td>\n",
       "      <td id=\"T_bbdc8_row0_col3\" class=\"data row0 col3\" >0.02</td>\n",
       "      <td id=\"T_bbdc8_row0_col4\" class=\"data row0 col4\" >-0.01</td>\n",
       "    </tr>\n",
       "    <tr>\n",
       "      <th id=\"T_bbdc8_level0_row1\" class=\"row_heading level0 row1\" >X2</th>\n",
       "      <td id=\"T_bbdc8_row1_col0\" class=\"data row1 col0\" >-0.02</td>\n",
       "      <td id=\"T_bbdc8_row1_col1\" class=\"data row1 col1\" >1.00</td>\n",
       "      <td id=\"T_bbdc8_row1_col2\" class=\"data row1 col2\" >-0.05</td>\n",
       "      <td id=\"T_bbdc8_row1_col3\" class=\"data row1 col3\" >0.05</td>\n",
       "      <td id=\"T_bbdc8_row1_col4\" class=\"data row1 col4\" >-0.20</td>\n",
       "    </tr>\n",
       "    <tr>\n",
       "      <th id=\"T_bbdc8_level0_row2\" class=\"row_heading level0 row2\" >X3</th>\n",
       "      <td id=\"T_bbdc8_row2_col0\" class=\"data row2 col0\" >0.01</td>\n",
       "      <td id=\"T_bbdc8_row2_col1\" class=\"data row2 col1\" >-0.05</td>\n",
       "      <td id=\"T_bbdc8_row2_col2\" class=\"data row2 col2\" >1.00</td>\n",
       "      <td id=\"T_bbdc8_row2_col3\" class=\"data row2 col3\" >0.03</td>\n",
       "      <td id=\"T_bbdc8_row2_col4\" class=\"data row2 col4\" >-0.05</td>\n",
       "    </tr>\n",
       "    <tr>\n",
       "      <th id=\"T_bbdc8_level0_row3\" class=\"row_heading level0 row3\" >X5</th>\n",
       "      <td id=\"T_bbdc8_row3_col0\" class=\"data row3 col0\" >0.02</td>\n",
       "      <td id=\"T_bbdc8_row3_col1\" class=\"data row3 col1\" >0.05</td>\n",
       "      <td id=\"T_bbdc8_row3_col2\" class=\"data row3 col2\" >0.03</td>\n",
       "      <td id=\"T_bbdc8_row3_col3\" class=\"data row3 col3\" >1.00</td>\n",
       "      <td id=\"T_bbdc8_row3_col4\" class=\"data row3 col4\" >-0.03</td>\n",
       "    </tr>\n",
       "    <tr>\n",
       "      <th id=\"T_bbdc8_level0_row4\" class=\"row_heading level0 row4\" >Y</th>\n",
       "      <td id=\"T_bbdc8_row4_col0\" class=\"data row4 col0\" >-0.01</td>\n",
       "      <td id=\"T_bbdc8_row4_col1\" class=\"data row4 col1\" >-0.20</td>\n",
       "      <td id=\"T_bbdc8_row4_col2\" class=\"data row4 col2\" >-0.05</td>\n",
       "      <td id=\"T_bbdc8_row4_col3\" class=\"data row4 col3\" >-0.03</td>\n",
       "      <td id=\"T_bbdc8_row4_col4\" class=\"data row4 col4\" >1.00</td>\n",
       "    </tr>\n",
       "  </tbody>\n",
       "</table>\n"
      ],
      "text/plain": [
       "<pandas.io.formats.style.Styler at 0x1e6ab06eb08>"
      ]
     },
     "execution_count": 6,
     "metadata": {},
     "output_type": "execute_result"
    }
   ],
   "source": [
    "from matplotlib import pyplot as plt\n",
    "# Histogrami vseh spremenljivk\n",
    "df.hist(figsize=(14,8))\n",
    "plt.tight_layout()\n",
    "plt.show()\n",
    "\n",
    "# Korelacijska matrika\n",
    "corr = df.corr()\n",
    "corr.style.background_gradient(cmap='coolwarm').set_precision(2)"
   ]
  },
  {
   "attachments": {},
   "cell_type": "markdown",
   "metadata": {},
   "source": [
    "A.5: V nadaljevanju bomo za strojno učenje uporabljali knjižnico **scikit-learn**, ki ima pomembno omejitev: direktno ne podpira kategoričnih značilk, kot je X4 v naših podatkih. Reši to zagato z uporabo kodirnika **sklearn.preprocessing.OneHotEncoder**."
   ]
  },
  {
   "cell_type": "code",
   "execution_count": 7,
   "metadata": {},
   "outputs": [
    {
     "name": "stdout",
     "output_type": "stream",
     "text": [
      "   X4_bike  X4_car  X4_train        X1         X2        X3         X5  Y\n",
      "1      0.0     1.0       0.0  0.452553  69.113756 -2.558555  23.210163  1\n",
      "2      1.0     0.0       0.0  0.865373  39.855286 -0.727901  24.136736  0\n",
      "3      1.0     0.0       0.0  0.480240  82.321769 -6.092819  70.441331  0\n",
      "4      0.0     1.0       0.0  0.568116  82.638111 -8.248877  50.498433  1\n",
      "5      0.0     1.0       0.0  0.936621  34.460152 -9.577684  46.773121  0\n"
     ]
    }
   ],
   "source": [
    "from sklearn.preprocessing import OneHotEncoder\n",
    "\n",
    "# Izberimo le kategorične stolpce\n",
    "categorical_cols = df.columns[df.dtypes==\"object\"]\n",
    "\n",
    "# Ustvarimo enkoder za kodiranje\n",
    "OH_encoder = OneHotEncoder(handle_unknown='ignore', sparse=False)\n",
    "# Izvedimo kodiranje\n",
    "OH_cols = OH_encoder.fit_transform(df[categorical_cols])\n",
    "\n",
    "# Sestavimo dataframe, z enkodiranimi stolpci namesto originalnih\n",
    "OH_cols = pd.DataFrame(OH_cols, columns = OH_encoder.get_feature_names_out())\n",
    "OH_cols.index = df.index\n",
    "numeric_data = df.drop(categorical_cols, axis=1)\n",
    "data = pd.concat([OH_cols, numeric_data], axis=1)\n",
    "\n",
    "# Preverimo\n",
    "print(data.head())\n"
   ]
  },
  {
   "attachments": {},
   "cell_type": "markdown",
   "metadata": {},
   "source": [
    "### B Strojno učenje s scikit-learn: binarna klasifikacija\n",
    "\n",
    "B.1: Na celotnih podatkih natreniraj model najbližjih sosedov (**sklearn.neighbors.KNeighborsClassifier**)."
   ]
  },
  {
   "cell_type": "code",
   "execution_count": 8,
   "metadata": {},
   "outputs": [
    {
     "data": {
      "text/plain": [
       "KNeighborsClassifier(n_neighbors=2)"
      ]
     },
     "execution_count": 8,
     "metadata": {},
     "output_type": "execute_result"
    }
   ],
   "source": [
    "from sklearn.neighbors import KNeighborsClassifier\n",
    "\n",
    "X = data.drop(\"Y\", axis=1)\n",
    "y = data[\"Y\"]\n",
    "\n",
    "# Instanciramo model\n",
    "knn = KNeighborsClassifier(2)\n",
    "# Naučimo model\n",
    "knn.fit(X, y)\n"
   ]
  },
  {
   "attachments": {},
   "cell_type": "markdown",
   "metadata": {},
   "source": [
    "B.2: Izračunaj natančnost modela na učni množici (celotnih podatkih)."
   ]
  },
  {
   "cell_type": "code",
   "execution_count": 9,
   "metadata": {},
   "outputs": [
    {
     "name": "stdout",
     "output_type": "stream",
     "text": [
      "Natančnost:  0.806\n"
     ]
    }
   ],
   "source": [
    "# Izračunamo napovedi\n",
    "predictions = knn.predict(X)\n",
    "# Izračunamo napako\n",
    "accuracy = np.sum(y == predictions)/len(y)\n",
    "print(\"Natančnost: \", accuracy)"
   ]
  },
  {
   "attachments": {},
   "cell_type": "markdown",
   "metadata": {},
   "source": [
    "B.3: Ocena na učnih podatkih ni dovolj dobra, saj nam ne zagotavlja, da bo model dobro deloval na novih podatkih. Model lahko preprosto zapomni vse podatke v učni množici, vendar ne bo deloval dobro na novih podatkih. Boljša metoda bi bila, da model preskusimo na novih podatkih. Da oceniš sposobnost generaliziranja, razdeli podatke podatkov na učno in testno množico v razmerju 4:1. Pri tem si lahko pomagaš s funkcijo **sklearn.validation.train_test_split**. \n",
    "Potem na novo natreniraj model na učni množici ter izračunaj njegovo natančnost na testni množici.\n",
    "\n",
    "Opomba: deljenje na učno in testno množico vključuje element naključnosti. Za ponovljive poskuse moramo nastaviti seme naključnega generatorja, npr. **np.random.seed(0)**."
   ]
  },
  {
   "cell_type": "code",
   "execution_count": 10,
   "metadata": {},
   "outputs": [
    {
     "name": "stdout",
     "output_type": "stream",
     "text": [
      "0.59\n"
     ]
    }
   ],
   "source": [
    "from sklearn.model_selection import train_test_split\n",
    "\n",
    "# Nastavimo seme\n",
    "np.random.seed(0)\n",
    "# Razdelimo podatke\n",
    "X_train, X_test, y_train, y_test = train_test_split(X, y, train_size=0.8)\n",
    "\n",
    "knn = KNeighborsClassifier()\n",
    "knn.fit(X_train, y_train)\n",
    "\n",
    "predictions = knn.predict(X_test)\n",
    "accuracy = np.sum(y_test == predictions)/len(y_test)\n",
    "print(accuracy)"
   ]
  },
  {
   "attachments": {},
   "cell_type": "markdown",
   "metadata": {},
   "source": [
    "B.4: Se ti zdi, da model deluje dobro? \n",
    "Metoda najbližjih sosedov je lahko občutljiva na relativne magnitude značilk. Poskusi podatke skalirati z standardno transformacijo $x_i' = \\frac{x_i-\\bar{x_i}}{\\sigma_{x_i}}$. Pomagaš si lahko s **sklearn.preprocessing.StandardScaler**.\n",
    "Metoda najbližjih sosedov ima tudi en pomemben *hiperparameter*: število sosedov. Nariši graf odvisnosti natančnosti modela (na skaliranih podatkih) v odvisnosti od števila sosedov 1-30. Katero je najboljše?"
   ]
  },
  {
   "cell_type": "code",
   "execution_count": 11,
   "metadata": {},
   "outputs": [
    {
     "data": {
      "text/plain": [
       "Text(0, 0.5, 'natančnost')"
      ]
     },
     "execution_count": 11,
     "metadata": {},
     "output_type": "execute_result"
    },
    {
     "data": {
      "image/png": "[encoded data removed]",
      "text/plain": [
       "<Figure size 432x288 with 1 Axes>"
      ]
     },
     "metadata": {
      "needs_background": "light"
     },
     "output_type": "display_data"
    }
   ],
   "source": [
    "from sklearn.preprocessing import StandardScaler\n",
    "\n",
    "# Skaliramo podatke\n",
    "scaler = StandardScaler()\n",
    "Xtrain_sc = scaler.fit_transform(X_train)\n",
    "Xtest_sc = scaler.transform(X_test)\n",
    "\n",
    "acc = []\n",
    "k_all = list(range(1, 30))\n",
    "# Zanka, ki teče po številih sosedov, definiranih v k_all\n",
    "for k in k_all:\n",
    "    knn = KNeighborsClassifier(n_neighbors=k)\n",
    "    knn.fit(Xtrain_sc, y_train)\n",
    "    pred = knn.predict(Xtest_sc)\n",
    "    accuracy = np.sum(y_test == pred)/len(y_test)\n",
    "    acc += [accuracy]\n",
    "\n",
    "plt.plot(k_all, acc, \"ko\")\n",
    "plt.xlabel(\"stevilo sosedov\")\n",
    "plt.ylabel(\"natančnost\")"
   ]
  },
  {
   "attachments": {},
   "cell_type": "markdown",
   "metadata": {},
   "source": [
    "B.5: Natančnost je mera uspešnosti, ki se pogosto uporablja pri klasifikacijskih problemih. V našem primeru imamo poseben primer klasifikacije, pri katerem ima ciljna spremenljivka samo dva razreda: binarna klasifikacija. Kadar je porazdelitev razredov v podatkih neenakomerna, natančnost ni več dobra mera. V takih primerih si pomagamo z matriko zmede (confusion matrix), preciznostjo in priklicem (precision and recall), ROC krivuljo (ROC curve) ter ploščino pod le-to (ROC-AUC). Izpiši vse našteto za KNN z izbranim k (vsaj 10)."
   ]
  },
  {
   "cell_type": "code",
   "execution_count": 12,
   "metadata": {},
   "outputs": [
    {
     "name": "stdout",
     "output_type": "stream",
     "text": [
      "Confusion matrix: \n",
      "[[52  7]\n",
      " [22 19]]\n",
      "Report:\n",
      "              precision    recall  f1-score   support\n",
      "\n",
      "           0       0.70      0.88      0.78        59\n",
      "           1       0.73      0.46      0.57        41\n",
      "\n",
      "    accuracy                           0.71       100\n",
      "   macro avg       0.72      0.67      0.67       100\n",
      "weighted avg       0.71      0.71      0.69       100\n",
      "\n",
      "Ploscina pod ROC krivuljo:\n",
      "0.7422488631665978\n"
     ]
    },
    {
     "data": {
      "image/png": "[encoded data removed]",
      "text/plain": [
       "<Figure size 432x432 with 1 Axes>"
      ]
     },
     "metadata": {
      "needs_background": "light"
     },
     "output_type": "display_data"
    }
   ],
   "source": [
    "knn = KNeighborsClassifier(n_neighbors=17)\n",
    "knn.fit(Xtrain_sc, y_train)\n",
    "pred = knn.predict(Xtest_sc)\n",
    "# Nekatere metrike potrebujejo napovedi v obliki verjetnosti pozitivnega razreda.\n",
    "# Pozor: vse metode strojnega učenja ne podpirajo napovedovanja verjetnosti.\n",
    "pred_prob = knn.predict_proba(Xtest_sc)\n",
    "\n",
    "from sklearn.metrics import confusion_matrix, roc_curve, roc_auc_score, classification_report\n",
    "\n",
    "print(\"Confusion matrix: \")\n",
    "print(confusion_matrix(y_test, pred))\n",
    "\n",
    "print(\"Report:\")\n",
    "print(classification_report(y_test, pred))\n",
    "\n",
    "print(\"Ploscina pod ROC krivuljo:\")\n",
    "print(roc_auc_score(y_test, pred_prob[:,1]))\n",
    "\n",
    "# Izračunamo ROC krivuljo\n",
    "fpr, tpr, thr = roc_curve(y_test, pred_prob[:,1])\n",
    "\n",
    "# Nariščemo ROC krivuljo\n",
    "plt.figure(figsize=(6,6))\n",
    "plt.plot(fpr, tpr, lw=3)\n",
    "plt.plot([0,1], [0,1], \"k--\", lw=2)\n",
    "plt.xlabel(\"false positive rate\")\n",
    "plt.ylabel(\"true positive rate\")\n",
    "plt.axis(\"equal\")\n",
    "plt.show()"
   ]
  },
  {
   "attachments": {},
   "cell_type": "markdown",
   "metadata": {},
   "source": [
    "B.DODATNO: Preizkusi še nekaj drugih metod strojnega učenja, npr. logistično regresijo (**sklearn.linear_model.LogisticRegression**), odločitveno drevo (**sklearn.tree.DecisionTreeClassifier**), naključni gozd (**sklearn.ensemble.RandomForestClassifier**) ter metodo podpornih vektorjev (**sklearn.svm.SVC**)."
   ]
  },
  {
   "attachments": {},
   "cell_type": "markdown",
   "metadata": {},
   "source": [
    "### C: regresija - napovedovanje numerične ciljne spremenljivke\n",
    "Za nalogo regresije uporabljamo druge metode strojnega učenja kot za klasifikacijo, vendar pa med njimi pogosto obstajajo analogije.\n",
    "Drugačne so tudi metrike za računanje napake in uspešnosti modelov. Pri regresiji so koristne metrike MSE, RMSE, $R^2$, NMSE, itd.\n",
    "\n",
    "C.1: Naloži podatke v datoteki \"podatki_regresija.csv\". Napovedna spremenljivka se imenuje \"target\", tokrat so podatki že očiščeni. Nauči model linearne regresije (**sklearn.linear_model.LinearRegression**) ter izračunaj njegov RMSE ter $R^2$."
   ]
  },
  {
   "cell_type": "code",
   "execution_count": 13,
   "metadata": {},
   "outputs": [
    {
     "name": "stdout",
     "output_type": "stream",
     "text": [
      "RMSE:  58.51766133582009\n",
      "R^2:  0.33222203269065176\n"
     ]
    }
   ],
   "source": [
    "import pandas as pd\n",
    "from sklearn.model_selection import train_test_split\n",
    "from sklearn.linear_model import LinearRegression\n",
    "from sklearn.metrics import mean_squared_error, r2_score\n",
    "\n",
    "# Naložimo podatke iz CSV datoteke\n",
    "data = pd.read_csv(\"podatki_regresija.csv\")\n",
    "\n",
    "# Ločimo vektor tarčnih vrednosti od matrike značilk\n",
    "y = data[\"target\"]\n",
    "X = data.drop(\"target\", axis=1)\n",
    "\n",
    "# Razdelimo podatke na učno in testno množico\n",
    "np.random.seed(0)\n",
    "X_train, X_test, y_train, y_test = train_test_split(X, y, test_size=0.2)\n",
    "\n",
    "# Naučimo model linearne regresije\n",
    "model = LinearRegression()\n",
    "model.fit(X_train, y_train)\n",
    "\n",
    "# Izračunamo napovedi za testno množico\n",
    "y_pred = model.predict(X_test)\n",
    "\n",
    "# Izračunamo RMSE\n",
    "rmse = mean_squared_error(y_test, y_pred, squared=False)\n",
    "\n",
    "# Izračunamo R^2\n",
    "r2 = r2_score(y_test, y_pred)\n",
    "\n",
    "# Izpišemo rezultate\n",
    "print(\"RMSE: \", rmse)\n",
    "print(\"R^2: \", r2)\n"
   ]
  },
  {
   "attachments": {},
   "cell_type": "markdown",
   "metadata": {},
   "source": [
    "C.2: Delitev na učno in testno množico ni slab pristop, boljšo oceno napake pa lahko pridobimo s prečnim preverjanjem (k-fold cross-validation). Pri tem postopku podatke razdelimo na k (tipično 5 ali 10) enakih delov. Kot učno množico uporabimo vse razen enega dela, ki služi kot testna množica. Ta postopek izvedemo k-krat, pri čemer na vsaki iteraciji za testno množico razglasimo drug del podatkov. Ponavadi na koncu napake povprečimo. Ker pri prečnem preverjanju učimo model k-krat, je lahko ta postopek zamuden, če imamo zelo veliko podatkov in/ali počasno metodo strojnega učenja.\n",
    "\n",
    "Z metodo 5-kratnega prečnega preverjanja preizkusi vsaj 3 različne metode ter določi, katera je najboljša za naše podatke. Nekaj predlogov: linearna regresija, podporni vektorji (**sklearn.svm.SVR**), naključni gozd (**sklearn.ensemble.RandomForestRegressor**), najbližji sosedi (**sklearn.neighbor.KNeighborsRegressor**). Pomagaš si lahko s funkcijo **sklearn.model_selection.cross_validate** (preprosta) ali **sklearn.model_selection.KFold** (več nadzora)."
   ]
  },
  {
   "cell_type": "code",
   "execution_count": 14,
   "metadata": {},
   "outputs": [
    {
     "name": "stdout",
     "output_type": "stream",
     "text": [
      "r2 za  LR :  0.48231812211149394\n",
      "r2 za  SVR :  0.14680946577304235\n",
      "r2 za  RF :  0.424236610518281\n",
      "r2 za  KNN5 :  0.37650814581101094\n",
      "r2 za  KNN10 :  0.4283905878634148\n",
      "Najboljša izbira je  LR\n"
     ]
    }
   ],
   "source": [
    "from sklearn.model_selection import cross_validate, KFold\n",
    "from sklearn.svm import SVR\n",
    "from sklearn.ensemble import RandomForestRegressor\n",
    "from sklearn.neighbors import KNeighborsRegressor\n",
    "\n",
    "models = {\"LR\": LinearRegression(), \"SVR\": SVR(), \"RF\": RandomForestRegressor(), \"KNN5\": KNeighborsRegressor(5), \"KNN10\": KNeighborsRegressor(10)}\n",
    "cv_method = \"KFold\"\n",
    "\n",
    "r2_all = []\n",
    "np.random.seed(0)\n",
    "\n",
    "# 1. možnost: uporaba cross_validate, nam olajša delo\n",
    "if cv_method == \"cross_validate\":\n",
    "    # zanka po modelih\n",
    "    for name, model in models.items():\n",
    "        result = cross_validate(model, X, y, cv=5, scoring=\"r2\")\n",
    "        r2_mean = result[\"test_score\"].mean()\n",
    "        r2_all += [r2_mean]\n",
    "        print(\"r2 za \", name, \": \", r2_mean)\n",
    "\n",
    "# 2. možnost: uporaba KFold, ki nam zgolj vrne indekse za posamezne iteracije in nam omogoči eksplicitni nadzor nad dogajanjem\n",
    "elif cv_method == \"KFold\":\n",
    "    # zanka po modelih\n",
    "    for name, model in models.items():\n",
    "        CV = KFold(5)\n",
    "        r2 = []\n",
    "        # zanka po iteracijah prečnega preverjanja\n",
    "        for train_ind, test_ind in CV.split(X):\n",
    "            model.fit(X.iloc[train_ind,:], y.iloc[train_ind])\n",
    "            pred = model.predict(X.iloc[test_ind,:])\n",
    "            r2 += [r2_score(y.iloc[test_ind], pred)]\n",
    "\n",
    "        r2_mean = np.mean(r2)\n",
    "        r2_all += [r2_mean]\n",
    "        print(\"r2 za \", name, \": \", r2_mean)\n",
    "\n",
    "best_i = np.argmax(r2_all)\n",
    "print(\"Najboljša izbira je \", list(models.keys())[best_i])"
   ]
  }
 ],
 "metadata": {
  "kernelspec": {
   "display_name": "base",
   "language": "python",
   "name": "python3"
  },
  "language_info": {
   "codemirror_mode": {
    "name": "ipython",
    "version": 3
   },
   "file_extension": ".py",
   "mimetype": "text/x-python",
   "name": "python",
   "nbconvert_exporter": "python",
   "pygments_lexer": "ipython3",
   "version": "3.7.4"
  },
  "orig_nbformat": 4,
  "vscode": {
   "interpreter": {
    "hash": "ad2bdc8ecc057115af97d19610ffacc2b4e99fae6737bb82f5d7fb13d2f2c186"
   }
  }
 },
 "nbformat": 4,
 "nbformat_minor": 2
}
