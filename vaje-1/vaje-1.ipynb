{
 "cells": [
  {
   "attachments": {},
   "cell_type": "markdown",
   "metadata": {},
   "source": [
    "# NSU, vaje 1: osnove strojnega učenja v Pythonu"
   ]
  },
  {
   "cell_type": "code",
   "execution_count": 2,
   "metadata": {},
   "outputs": [],
   "source": [
    "import numpy as np\n",
    "import pandas as pd\n",
    "import openml as oml\n",
    "\n"
   ]
  },
  {
   "attachments": {},
   "cell_type": "markdown",
   "metadata": {},
   "source": [
    "### A: obdelava podatkov\n",
    "A.1: Naložite podatke iz CSV datoteke s paketom **pandas**. "
   ]
  },
  {
   "cell_type": "code",
   "execution_count": 6,
   "metadata": {},
   "outputs": [],
   "source": [
    "dt = pd.read_csv('podatki.csv')\n",
    "dt = dt.iloc[:, 1:]"
   ]
  },
  {
   "attachments": {},
   "cell_type": "markdown",
   "metadata": {},
   "source": [
    "A.2: Osnovne informacij o podatkih. Izpišite prvih nekaj vrstic podatkov in si jih oglejte, nato pa izpišite še:\n",
    "- število vrstic in stolpcev\n",
    "- vrsto spremenljivke v vsakem stolpcu (v pomoč je funkcija **dtypes**), \n",
    "- povzetek statistike (pandas nam pomaga z **describe**), \n",
    "- število manjkajočih vrednosti v vsakem stolpcu (koristna je funkcija **isnull**)."
   ]
  },
  {
   "cell_type": "code",
   "execution_count": 34,
   "metadata": {},
   "outputs": [
    {
     "name": "stdout",
     "output_type": "stream",
     "text": [
      "Stevilo stolpcev: 6 Stevilo vrstic: 500\n",
      "X1    float64\n",
      "X2    float64\n",
      "X3    float64\n",
      "X4     object\n",
      "X5    float64\n",
      "Y       int64\n",
      "dtype: object\n",
      "               X1          X2          X3          X5           Y\n",
      "count  500.000000  500.000000  500.000000  500.000000  500.000000\n",
      "mean     9.119613   56.382808    9.760390   57.596631    0.376000\n",
      "std     19.385854   30.719657   20.954165   31.723972    0.484865\n",
      "min      0.002002    0.185484   -9.974356    0.048450    0.000000\n",
      "25%      0.293359   30.467127   -4.194132   28.283852    0.000000\n",
      "50%      0.567208   58.991391    1.731388   61.778805    0.000000\n",
      "75%      0.874970   87.063210    8.729667   90.510850    1.000000\n",
      "max     52.524655   99.852905   50.619040   99.584908    1.000000\n",
      "X1    0\n",
      "X2    0\n",
      "X3    0\n",
      "X4    0\n",
      "X5    0\n",
      "Y     0\n",
      "dtype: int64\n"
     ]
    }
   ],
   "source": [
    "print('Stevilo stolpcev:',len(dt.columns), 'Stevilo vrstic:', len(dt))\n",
    "print(dt.dtypes)\n",
    "print(dt.describe())\n",
    "print(dt.isnull().sum())"
   ]
  },
  {
   "attachments": {},
   "cell_type": "markdown",
   "metadata": {},
   "source": [
    "A.3: Očistite podatke tako, da odpravite manjkajoče vrednosti. Na stolpcih, v katerih manjka manj kot petina vrednosti, izvedete imputacijo manjkajočih vrednosti s povprečjem oziroma najpogostejšo vrednostjo. Stolpce, v katerih manjka več kot petina vrednosti, odstranite."
   ]
  },
  {
   "cell_type": "code",
   "execution_count": 14,
   "metadata": {},
   "outputs": [
    {
     "name": "stdout",
     "output_type": "stream",
     "text": [
      "X1    0\n",
      "X2    0\n",
      "X3    0\n",
      "X4    0\n",
      "X5    0\n",
      "Y     0\n",
      "dtype: int64\n",
      "            X1         X2         X3     X4         X5  Y\n",
      "0     0.452553  69.113756  -2.558555    car  23.210163  1\n",
      "1     0.865373  39.855286  -0.727901   bike  24.136736  0\n",
      "2    52.524655  82.321769  -6.092819   bike  70.441331  0\n",
      "3     0.568116  82.638111  -8.248877    car  93.780130  1\n",
      "4     0.936621  34.460152  -9.577684    car  46.773121  0\n",
      "..         ...        ...        ...    ...        ... ..\n",
      "495   0.062005   1.529036  50.619040  train  96.551636  0\n",
      "496   0.293445  66.051744   8.402215    car  83.083566  0\n",
      "497  52.524655  27.250772   7.462399  train  54.262281  0\n",
      "498  52.524655  45.993650  50.619040  train  84.765766  0\n",
      "499   0.815238  36.760951  -5.379489    car  18.727611  1\n",
      "\n",
      "[500 rows x 6 columns]\n"
     ]
    }
   ],
   "source": [
    "for c in dt.columns:\n",
    "    #print(c, dt.isnull().sum()[c])\n",
    "    if dt.isnull().sum()[c] < len(dt)/5: \n",
    "        try:\n",
    "            mm = dt[c].describe().mean()\n",
    "        except TypeError:\n",
    "            mm = dt[c].mode()[0]\n",
    "        #print(mm)\n",
    "        dt[c] = dt[c].fillna(mm)\n",
    "        #print(dt.isnull().sum())\n",
    "    else:\n",
    "        dt = dt.drop(columns=[c])\n",
    "\n",
    "print(dt.isnull().sum())\n",
    "print(dt)"
   ]
  },
  {
   "attachments": {},
   "cell_type": "markdown",
   "metadata": {},
   "source": [
    "A.4: Narišite grafe, ki vam bodo pomagali razumeti značilnosti podatkov:\n",
    "- histogrami značilk in ciljne spremenljivke (pandas nudi **hist**)\n",
    "- korelacijska matrika (pandas nudi tudi **corr**)"
   ]
  },
  {
   "cell_type": "code",
   "execution_count": 17,
   "metadata": {},
   "outputs": [
    {
     "name": "stdout",
     "output_type": "stream",
     "text": [
      "          X1        X2        X3        X5         Y\n",
      "X1  1.000000  0.015358  0.048065  0.017994  0.019777\n",
      "X2  0.015358  1.000000  0.000799  0.007191 -0.182243\n",
      "X3  0.048065  0.000799  1.000000 -0.052600 -0.035309\n",
      "X5  0.017994  0.007191 -0.052600  1.000000 -0.009618\n",
      "Y   0.019777 -0.182243 -0.035309 -0.009618  1.000000\n"
     ]
    },
    {
     "name": "stderr",
     "output_type": "stream",
     "text": [
      "/var/folders/xm/sm6v62q54tx5pwxng4_cwyw40000gn/T/ipykernel_33958/1032561457.py:2: FutureWarning: The default value of numeric_only in DataFrame.corr is deprecated. In a future version, it will default to False. Select only valid columns or specify the value of numeric_only to silence this warning.\n",
      "  print(dt.corr())\n"
     ]
    },
    {
     "data": {
      "image/png": "[encoded data removed]",
      "text/plain": [
       "<Figure size 640x480 with 1 Axes>"
      ]
     },
     "metadata": {},
     "output_type": "display_data"
    }
   ],
   "source": [
    "dt.hist(column='X1')\n",
    "print(dt.corr())"
   ]
  },
  {
   "attachments": {},
   "cell_type": "markdown",
   "metadata": {},
   "source": [
    "A.5: V nadaljevanju bomo za strojno učenje uporabljali knjižnico **scikit-learn**, ki ima pomembno omejitev: direktno ne podpira kategoričnih značilk, kot je X4 v naših podatkih. Reši to zagato z uporabo kodirnika **sklearn.preprocessing.OneHotEncoder**."
   ]
  },
  {
   "cell_type": "code",
   "execution_count": 18,
   "metadata": {},
   "outputs": [
    {
     "name": "stdout",
     "output_type": "stream",
     "text": [
      "     X4_bike  X4_car  X4_train         X1         X2         X3         X5  Y\n",
      "0        0.0     1.0       0.0   0.452553  69.113756  -2.558555  23.210163  1\n",
      "1        1.0     0.0       0.0   0.865373  39.855286  -0.727901  24.136736  0\n",
      "2        1.0     0.0       0.0  52.524655  82.321769  -6.092819  70.441331  0\n",
      "3        0.0     1.0       0.0   0.568116  82.638111  -8.248877  93.780130  1\n",
      "4        0.0     1.0       0.0   0.936621  34.460152  -9.577684  46.773121  0\n",
      "..       ...     ...       ...        ...        ...        ...        ... ..\n",
      "495      0.0     0.0       1.0   0.062005   1.529036  50.619040  96.551636  0\n",
      "496      0.0     1.0       0.0   0.293445  66.051744   8.402215  83.083566  0\n",
      "497      0.0     0.0       1.0  52.524655  27.250772   7.462399  54.262281  0\n",
      "498      0.0     0.0       1.0  52.524655  45.993650  50.619040  84.765766  0\n",
      "499      0.0     1.0       0.0   0.815238  36.760951  -5.379489  18.727611  1\n",
      "\n",
      "[500 rows x 8 columns]\n"
     ]
    },
    {
     "name": "stderr",
     "output_type": "stream",
     "text": [
      "/Library/Frameworks/Python.framework/Versions/3.11/lib/python3.11/site-packages/sklearn/preprocessing/_encoders.py:828: FutureWarning: `sparse` was renamed to `sparse_output` in version 1.2 and will be removed in 1.4. `sparse_output` is ignored unless you leave `sparse` to its default value.\n",
      "  warnings.warn(\n"
     ]
    }
   ],
   "source": [
    "from sklearn.preprocessing import OneHotEncoder\n",
    "\n",
    "categ_col = dt.columns[dt.dtypes=='object']\n",
    "enc = OneHotEncoder(sparse=False)\n",
    "\n",
    "OH_col = enc.fit_transform(dt[categ_col])\n",
    "\n",
    "OH_col = pd.DataFrame(OH_col, columns=enc.get_feature_names_out())\n",
    "OH_col.index = dt.index\n",
    "num_data = dt.drop(categ_col, axis=1)\n",
    "data = pd.concat([OH_col, num_data], axis=1)\n",
    "print(data)"
   ]
  },
  {
   "attachments": {},
   "cell_type": "markdown",
   "metadata": {},
   "source": [
    "### B: Binarna klasifikacija s scikit-learn\n",
    "\n",
    "B.1: Na celotnih podatkih natreniraj model najbližjih sosedov (**sklearn.neighbors.KNeighborsClassifier**)."
   ]
  },
  {
   "cell_type": "code",
   "execution_count": 19,
   "metadata": {},
   "outputs": [
    {
     "name": "stdout",
     "output_type": "stream",
     "text": [
      "0.78\n"
     ]
    }
   ],
   "source": [
    "from sklearn.neighbors import KNeighborsClassifier\n",
    "\n",
    "X = data.drop('Y', axis=1)\n",
    "Y = data['Y']\n",
    "\n",
    "knn = KNeighborsClassifier(2)\n",
    "knn.fit(X, Y)\n",
    "\n",
    "napoved = knn.predict(X)\n",
    "acc = sum(napoved == Y)/len(Y)\n",
    "print(acc)"
   ]
  },
  {
   "attachments": {},
   "cell_type": "markdown",
   "metadata": {},
   "source": [
    "B.2: Izračunaj natančnost modela na učni množici (celotnih podatkih)."
   ]
  },
  {
   "cell_type": "code",
   "execution_count": 20,
   "metadata": {},
   "outputs": [
    {
     "name": "stdout",
     "output_type": "stream",
     "text": [
      "0.78\n"
     ]
    }
   ],
   "source": [
    "from sklearn.metrics import accuracy_score\n",
    "acc = accuracy_score(Y, napoved)\n",
    "print(acc)"
   ]
  },
  {
   "attachments": {},
   "cell_type": "markdown",
   "metadata": {},
   "source": [
    "B.3: Ocena na učnih podatkih ni dovolj dobra, saj nam ne zagotavlja, da bo model dobro deloval na novih podatkih. Model lahko preprosto zapomni vse podatke v učni množici, vendar ne bo deloval dobro na novih podatkih. Boljša metoda bi bila, da model preskusimo na novih podatkih. Da oceniš sposobnost generaliziranja, razdeli podatke podatkov na učno in testno množico v razmerju 4:1. Pri tem si lahko pomagaš s funkcijo **sklearn.validation.train_test_split**. \n",
    "Potem na novo natreniraj model na učni množici ter izračunaj njegovo natančnost na testni množici.\n",
    "\n",
    "Opomba: deljenje na učno in testno množico vključuje element naključnosti. Za ponovljive poskuse moramo nastaviti seme naključnega generatorja, npr. **np.random.seed(0)**."
   ]
  },
  {
   "cell_type": "code",
   "execution_count": 21,
   "metadata": {},
   "outputs": [
    {
     "name": "stdout",
     "output_type": "stream",
     "text": [
      "0.57\n"
     ]
    }
   ],
   "source": [
    "from sklearn.model_selection import train_test_split\n",
    "\n",
    "X_train, X_test, y_train, y_test = train_test_split(X, Y, test_size=0.2, random_state=42)\n",
    "KNN = KNeighborsClassifier(3)\n",
    "KNN.fit(X_train, y_train)\n",
    "pred = KNN.predict(X_test)\n",
    "print(accuracy_score(y_test, pred))"
   ]
  },
  {
   "attachments": {},
   "cell_type": "markdown",
   "metadata": {},
   "source": [
    "B.4: Se ti zdi, da model deluje dobro? \n",
    "Metoda najbližjih sosedov je lahko občutljiva na relativne magnitude značilk. Poskusi podatke skalirati z standardno transformacijo $x_i' = \\frac{x_i-\\bar{x_i}}{\\sigma_{x_i}}$. Pomagaš si lahko s **sklearn.preprocessing.StandardScaler**.\n",
    "Metoda najbližjih sosedov ima tudi en pomemben *hiperparameter*: število sosedov. Nariši graf odvisnosti natančnosti modela (na skaliranih podatkih) v odvisnosti od števila sosedov 1-30. Katero je najboljše?"
   ]
  },
  {
   "cell_type": "code",
   "execution_count": 22,
   "metadata": {},
   "outputs": [
    {
     "data": {
      "text/plain": [
       "Text(0, 0.5, 'natančnost')"
      ]
     },
     "execution_count": 22,
     "metadata": {},
     "output_type": "execute_result"
    },
    {
     "data": {
      "image/png": "[encoded data removed]",
      "text/plain": [
       "<Figure size 640x480 with 1 Axes>"
      ]
     },
     "metadata": {},
     "output_type": "display_data"
    }
   ],
   "source": [
    "from sklearn.preprocessing import StandardScaler\n",
    "\n",
    "scaler = StandardScaler()\n",
    "Xtrain_sc = scaler.fit_transform(X_train)\n",
    "Xtest_sc = scaler.transform(X_test)\n",
    "\n",
    "\n",
    "acc = []\n",
    "k_all = list(range(1, 30))\n",
    "# Zanka, ki teče po številih sosedov, definiranih v k_all\n",
    "for k in k_all:\n",
    "    knn = KNeighborsClassifier(n_neighbors=k)\n",
    "    knn.fit(Xtrain_sc, y_train)\n",
    "    pred = knn.predict(Xtest_sc)\n",
    "    accuracy = accuracy_score(y_test, pred)\n",
    "    acc += [accuracy]\n",
    "\n",
    "from matplotlib import pyplot as plt\n",
    "\n",
    "plt.plot(k_all, acc)\n",
    "plt.xlabel(\"stevilo sosedov\")\n",
    "plt.ylabel(\"natančnost\")"
   ]
  },
  {
   "attachments": {},
   "cell_type": "markdown",
   "metadata": {},
   "source": [
    "B.5: Natančnost je mera uspešnosti, ki se pogosto uporablja pri klasifikacijskih problemih. V našem primeru imamo poseben primer klasifikacije, pri katerem ima ciljna spremenljivka samo dva razreda: binarna klasifikacija. Kadar je porazdelitev razredov v podatkih neenakomerna, natančnost ni več dobra mera. V takih primerih si pomagamo z matriko zmede (confusion matrix), preciznostjo in priklicem (precision and recall), ROC krivuljo (ROC curve) ter ploščino pod le-to (ROC-AUC). Izpiši vse našteto za KNN z izbranim k (vsaj 10)."
   ]
  },
  {
   "cell_type": "code",
   "execution_count": 27,
   "metadata": {},
   "outputs": [
    {
     "name": "stdout",
     "output_type": "stream",
     "text": [
      "Confusion matrix: \n",
      " [[60  6]\n",
      " [18 16]]\n",
      "Preciznost: 0.7272727272727273\n",
      "Priklic: 0.47058823529411764\n",
      "ROC AUC: 0.6898395721925134\n"
     ]
    },
    {
     "data": {
      "image/png": "[encoded data removed]",
      "text/plain": [
       "<Figure size 640x480 with 1 Axes>"
      ]
     },
     "metadata": {},
     "output_type": "display_data"
    }
   ],
   "source": [
    "knn = KNeighborsClassifier(n_neighbors=10)\n",
    "knn.fit(Xtrain_sc, y_train)\n",
    "pred = knn.predict(Xtest_sc)\n",
    "\n",
    "# confusion_matrix\n",
    "from sklearn.metrics import confusion_matrix\n",
    "CMx = confusion_matrix(y_test, pred)\n",
    "tn, fp, fn, tp = confusion_matrix(y_test, pred).ravel()\n",
    "print('Confusion matrix: \\n', CMx)\n",
    "\n",
    "from sklearn.metrics import precision_score\n",
    "preciznost = precision_score(y_test, pred)\n",
    "print('Preciznost:', preciznost)\n",
    "\n",
    "from sklearn.metrics import recall_score\n",
    "priklic = recall_score(y_test, pred)\n",
    "print('Priklic:', priklic)\n",
    "\n",
    "from sklearn import metrics\n",
    "fpr, tpr, thresholds = metrics.roc_curve(y_test, pred)\n",
    "#print(fpr, tpr, thresholds)\n",
    "plt.clf()\n",
    "plt.plot(fpr, tpr)\n",
    "plt.xlabel(\"fpr\")\n",
    "plt.ylabel(\"tpr\")\n",
    "\n",
    "from sklearn.metrics import roc_auc_score\n",
    "roc_auc = roc_auc_score(y_test, pred)\n",
    "print('ROC AUC:',roc_auc)"
   ]
  },
  {
   "attachments": {},
   "cell_type": "markdown",
   "metadata": {},
   "source": [
    "B.DODATNO: Preizkusi še nekaj drugih metod strojnega učenja, npr. logistično regresijo (**sklearn.linear_model.LogisticRegression**), odločitveno drevo (**sklearn.tree.DecisionTreeClassifier**), naključni gozd (**sklearn.ensemble.RandomForestClassifier**) ter metodo podpornih vektorjev (**sklearn.svm.SVC**)."
   ]
  },
  {
   "attachments": {},
   "cell_type": "markdown",
   "metadata": {},
   "source": [
    "### C: regresija - napovedovanje numerične ciljne spremenljivke\n",
    "Za nalogo regresije uporabljamo druge metode strojnega učenja kot za klasifikacijo, vendar pa med njimi pogosto obstajajo analogije.\n",
    "Drugačne so tudi metrike za računanje napake in uspešnosti modelov. Pri regresiji so koristne metrike MSE, RMSE, $R^2$, NMSE, itd.\n",
    "\n",
    "C.1: Naloži podatke v datoteki \"podatki_regresija.csv\". Napovedna spremenljivka se imenuje \"target\", tokrat so podatki že očiščeni. Nauči model linearne regresije (**sklearn.linear_model.LinearRegression**) ter izračunaj njegov RMSE ter $R^2$."
   ]
  },
  {
   "cell_type": "code",
   "execution_count": 29,
   "metadata": {},
   "outputs": [
    {
     "name": "stdout",
     "output_type": "stream",
     "text": [
      "        age       sex       bmi        bp        s1        s2        s3  \\\n",
      "0  0.038076  0.050680  0.061696  0.021872 -0.044223 -0.034821 -0.043401   \n",
      "1 -0.001882 -0.044642 -0.051474 -0.026328 -0.008449 -0.019163  0.074412   \n",
      "2  0.085299  0.050680  0.044451 -0.005671 -0.045599 -0.034194 -0.032356   \n",
      "3 -0.089063 -0.044642 -0.011595 -0.036656  0.012191  0.024991 -0.036038   \n",
      "4  0.005383 -0.044642 -0.036385  0.021872  0.003935  0.015596  0.008142   \n",
      "\n",
      "         s4        s5        s6  target  \n",
      "0 -0.002592  0.019908 -0.017646   151.0  \n",
      "1 -0.039493 -0.068330 -0.092204    75.0  \n",
      "2 -0.002592  0.002864 -0.025930   141.0  \n",
      "3  0.034309  0.022692 -0.009362   206.0  \n",
      "4 -0.002592 -0.031991 -0.046641   135.0  \n",
      "RMSE: 53.8532569849144\n",
      "R2: 0.45260660216173787\n"
     ]
    }
   ],
   "source": [
    "from sklearn.linear_model import LinearRegression\n",
    "data = pd.read_csv('podatki_regresija.csv')\n",
    "\n",
    "print(data.head())\n",
    "X = data.drop('target', axis=1)\n",
    "Y = data['target']\n",
    "X_train, X_test, y_train, y_test = train_test_split(X, Y, test_size=0.2, random_state=42)\n",
    "reg = LinearRegression().fit(X_train, y_train)\n",
    "pred = reg.predict(X_test)\n",
    "\n",
    "from sklearn.metrics import mean_squared_error\n",
    "rmse = mean_squared_error(y_test, pred, squared=False)\n",
    "print('RMSE:', rmse)\n",
    "\n",
    "from sklearn.metrics import r2_score\n",
    "R2 = r2_score(y_test, pred)\n",
    "print('R2:',R2)"
   ]
  },
  {
   "attachments": {},
   "cell_type": "markdown",
   "metadata": {},
   "source": [
    "C.2: Delitev na učno in testno množico ni slab pristop, boljšo oceno napake pa lahko pridobimo s prečnim preverjanjem (k-fold cross-validation). Pri tem postopku podatke razdelimo na k (tipično 5 ali 10) enakih delov. Kot učno množico uporabimo vse razen enega dela, ki služi kot testna množica. Ta postopek izvedemo k-krat, pri čemer na vsaki iteraciji za testno množico razglasimo drug del podatkov. Ponavadi na koncu napake povprečimo. Ker pri prečnem preverjanju učimo model k-krat, je lahko ta postopek zamuden, če imamo zelo veliko podatkov in/ali počasno metodo strojnega učenja.\n",
    "\n",
    "Z metodo 5-kratnega prečnega preverjanja preizkusi vsaj 3 različne metode ter določi, katera je najboljša za naše podatke. Nekaj predlogov: linearna regresija, podporni vektorji (**sklearn.svm.SVR**), naključni gozd (**sklearn.ensemble.RandomForestRegressor**), najbližji sosedi (**sklearn.neighbor.KNeighborsRegressor**). Pomagaš si lahko s funkcijo **sklearn.model_selection.cross_validate** (preprosta) ali **sklearn.model_selection.KFold** (več nadzora)."
   ]
  },
  {
   "cell_type": "code",
   "execution_count": 33,
   "metadata": {},
   "outputs": [
    {
     "name": "stdout",
     "output_type": "stream",
     "text": [
      "Model  |   R2  |   Max Error\n",
      "Linearm model: 0.3375597834274946 -141.4637928818965\n"
     ]
    },
    {
     "name": "stderr",
     "output_type": "stream",
     "text": [
      "/Library/Frameworks/Python.framework/Versions/3.11/lib/python3.11/site-packages/sklearn/model_selection/_split.py:700: UserWarning: The least populated class in y has only 1 members, which is less than n_splits=5.\n",
      "  warnings.warn(\n"
     ]
    },
    {
     "name": "stdout",
     "output_type": "stream",
     "text": [
      "Random Forest: -0.018122186657266327 -198.0\n"
     ]
    },
    {
     "name": "stderr",
     "output_type": "stream",
     "text": [
      "/Library/Frameworks/Python.framework/Versions/3.11/lib/python3.11/site-packages/sklearn/model_selection/_split.py:700: UserWarning: The least populated class in y has only 1 members, which is less than n_splits=5.\n",
      "  warnings.warn(\n"
     ]
    },
    {
     "name": "stdout",
     "output_type": "stream",
     "text": [
      "SVM: -0.21519825777432455 -177.4\n"
     ]
    }
   ],
   "source": [
    "from sklearn import linear_model\n",
    "from sklearn.model_selection import cross_validate\n",
    "print('Model  |   R2  |   Max Error')\n",
    "lasso = linear_model.Lasso()\n",
    "cv = cross_validate(lasso, X, Y, cv=5,\n",
    "    scoring=('r2', 'max_error'),\n",
    "    return_train_score=True)\n",
    "lmR2 = np.mean(cv['test_r2'])\n",
    "lmMerr = np.mean(cv['test_max_error'])\n",
    "print('Linearm model:', lmR2, lmMerr)\n",
    "\n",
    "\n",
    "from sklearn.ensemble import RandomForestClassifier\n",
    "\n",
    "rf = RandomForestClassifier(max_depth=2, random_state=0)\n",
    "cvrf = cross_validate(rf, X, Y, cv=5,\n",
    "    scoring=('r2', 'max_error'),\n",
    "    return_train_score=True)\n",
    "RFR2 = np.mean(cvrf['test_r2'])\n",
    "RFMErr = np.mean(cvrf['test_max_error'])\n",
    "\n",
    "print('Random Forest:', RFR2, RFMErr)\n",
    "\n",
    "\n",
    "from sklearn import svm\n",
    "\n",
    "svm = svm.SVC(kernel='linear', C=1, random_state=42)\n",
    "cvsvm = cross_validate(svm, X, Y, cv=5,\n",
    "    scoring=('r2', 'max_error'),\n",
    "    return_train_score=True)\n",
    "SVMR2 = np.mean(cvsvm['test_r2'])\n",
    "SVMMErr = np.mean(cvsvm['test_max_error'])\n",
    "print('SVM:', SVMR2, SVMMErr)"
   ]
  }
 ],
 "metadata": {
  "kernelspec": {
   "display_name": "Python 3",
   "language": "python",
   "name": "python3"
  },
  "language_info": {
   "codemirror_mode": {
    "name": "ipython",
    "version": 3
   },
   "file_extension": ".py",
   "mimetype": "text/x-python",
   "name": "python",
   "nbconvert_exporter": "python",
   "pygments_lexer": "ipython3",
   "version": "3.11.1"
  },
  "orig_nbformat": 4,
  "vscode": {
   "interpreter": {
    "hash": "aee8b7b246df8f9039afb4144a1f6fd8d2ca17a180786b69acc140d282b71a49"
   }
  }
 },
 "nbformat": 4,
 "nbformat_minor": 2
}
