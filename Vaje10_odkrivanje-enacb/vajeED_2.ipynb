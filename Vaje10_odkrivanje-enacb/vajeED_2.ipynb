{
 "cells": [
  {
   "attachments": {},
   "cell_type": "markdown",
   "metadata": {},
   "source": [
    "# Odkrivanje enačb, 2. del: uporaba predznanja\n",
    "\n",
    "## 1. Verjetnostne gramatike in knjižnica ProGED\n",
    "1.1 Za odkrivanje enačb z verjetnostnimi gramatikami bomo uporabili knjižnico ProGED: https://github.com/brencej/ProGED.\n",
    "Instaliramo jo z ukazom \"pip install git+https://github.com/brencej/ProGED\". Če se pojavijo težave, ustvari sveže Pythonovo okolje in poskusi instalirati tja.\n",
    "\n",
    "Poglej si enostaven primer uporabe spodaj. Lahko se poigraš z različnimi nastavitvami in možnostmi. Celoten nabor modelov si lahko ogledaš v \"ED.models\". \n",
    "\n",
    "Tu si lahko ogledas sinakso: https://docs.sympy.org/latest/tutorials/intro-tutorial/gotchas.html#symbols"
   ]
  },
  {
   "cell_type": "code",
   "execution_count": 1,
   "metadata": {},
   "outputs": [],
   "source": [
    "import numpy as np\n",
    "import pandas as pd\n",
    "\n",
    "import ProGED as pg\n",
    "\n",
    "from vajeED_2_podatki import *"
   ]
  },
  {
   "cell_type": "code",
   "execution_count": 2,
   "metadata": {},
   "outputs": [
    {
     "data": {
      "text/plain": [
       "ModelBox: 1 models\n",
       "-> [0.999999997446936*a*m], p = 0.00023040000000000002, parse trees = 1, valid = True, error = 9.851219776892273e-10, time = 0.06095409393310547"
      ]
     },
     "execution_count": 2,
     "metadata": {},
     "output_type": "execute_result"
    }
   ],
   "source": [
    "podatki = generiraj_newton(100)\n",
    "\n",
    "np.random.seed(1)\n",
    "ED = pg.EqDisco(data=podatki, \n",
    "                lhs_vars=[\"F\"],\n",
    "                rhs_vars=[\"m\", \"a\"],\n",
    "                sample_size=10)\n",
    "\n",
    "ED.generate_models()\n",
    "ED.fit_models()\n",
    "ED.get_results()"
   ]
  },
  {
   "attachments": {},
   "cell_type": "markdown",
   "metadata": {},
   "source": [
    "1.2 Prostor možnih enačb, ki ga želimo preiskovati, definiramo z verjetnostno kontekstno-neodvisno gramatiko. ProGED-u jo podamo v obliki stringa, zapisanega po pravilih knjižnice NLTK:\n",
    "\n",
    "- produkcijska pravila so oblike \"A -> B1 ... Bn [p]\", kjer je A neterminal, B1 ... Bn so terminali ali neterminali, p pa je verjetnost pravila\n",
    "- verjetnosti pravil z istim neterminalom na levi strani se morajo sešteti v 1\n",
    "- krajši zapis pravil z istim neterminalom na levi strani je \"A -> B1 ... Bn [p] | D1 ... Dn [q] | ... \" \n",
    "- terminalni simboli se označijo z enojnimi narekovaji, npr. \"A -> B 'x'\"\n",
    "- v ProGED-u je terminalni simbol \"C\" poseben - označuje numerične konstante, katerih vrednosti iščemo z optimizacijo\n",
    "\n",
    "Gramatika za linearne izraze dveh spremenljivk je\n",
    "\n",
    "E -> E + V | V  \n",
    "V -> 'x' | 'y'\n",
    "\n",
    "Uporabi to gramatiko za odkrivanje enačbe $y = x_1 + 3x_2$. Podatke lahko generiraš z \"generiraj_linearno\". Koraki:\n",
    "1. zapiši linearno gramatiko v formalizmu NLTK (ne pozabi da so tudi aritmetični operatorji terminalni simboli)\n",
    "2. naredi ProGED-ov objekt GeneratorGrammar, ki kot argument sprejme string iz točke 1\n",
    "3. gramatiko iz točke 2 podaj ProGED-ovemu EqDisco kot argument generator\n",
    "4. generiraj 15 naključnih izrazov z ED.generate_models in si jih oglej\n",
    "5. kliči še fit\\_models in get\\_results ter si oglej rezultate"
   ]
  },
  {
   "cell_type": "code",
   "execution_count": 26,
   "metadata": {},
   "outputs": [
    {
     "data": {
      "text/plain": [
       "ModelBox: 7 models\n",
       "-> [x1], p = 0.132, parse trees = 30, valid = False\n",
       "-> [2*x1 + 4*x2], p = 0.0006825639291989762, parse trees = 30, valid = False\n",
       "-> [x2], p = 0.268, parse trees = 30, valid = False\n",
       "-> [2*x1], p = 0.026136000000000003, parse trees = 30, valid = False\n",
       "-> [x1 + 3*x2], p = 0.008575354656000001, parse trees = 30, valid = False\n",
       "-> [x1 + 2*x2], p = 0.021331727999999998, parse trees = 30, valid = False\n",
       "-> [x1 + 4*x2], p = 0.0034472925717120005, parse trees = 30, valid = False"
      ]
     },
     "execution_count": 26,
     "metadata": {},
     "output_type": "execute_result"
    }
   ],
   "source": [
    "podatki = generiraj_linearno(100)\n",
    "\n",
    "grammar = \"E -> E '+' V [0.6] | V [0.4]\\n\"\n",
    "grammar += \"V -> 'x1' [0.33] | 'x2' [0.67]\"\n",
    "\n",
    "grammar = pg.GeneratorGrammar(grammar)\n",
    "ED = pg.EqDisco(data=podatki, \n",
    "                lhs_vars=[\"y\"],\n",
    "                rhs_vars=[\"x1\", \"x2\"],\n",
    "                sample_size=15,\n",
    "                generator=grammar)\n",
    "\n",
    "ED.generate_models()"
   ]
  },
  {
   "attachments": {},
   "cell_type": "markdown",
   "metadata": {},
   "source": [
    "Zdaj linearni gramatiki dodaj še numerično konstanto. Kako se spremenijo generirani modeli in rezultati?"
   ]
  },
  {
   "cell_type": "code",
   "execution_count": 30,
   "metadata": {},
   "outputs": [
    {
     "data": {
      "text/plain": [
       "ModelBox: 3 models\n",
       "-> [C0*x1 + C1], p = 0.132, parse trees = 33, valid = False\n",
       "-> [C0*x1 + C1*x2 + C2], p = 0.014730354144000002, parse trees = 33, valid = False\n",
       "-> [C0*x2 + C1], p = 0.28541056854400004, parse trees = 33, valid = False"
      ]
     },
     "execution_count": 30,
     "metadata": {},
     "output_type": "execute_result"
    }
   ],
   "source": [
    "podatki = generiraj_linearno(100)\n",
    "\n",
    "grammar = \"E -> E '+' 'C' '*' V [0.6] | 'C' '+' 'C' '*' V [0.4]\\n\"\n",
    "grammar += \"V -> 'x1' [0.33] | 'x2' [0.67]\"\n",
    "\n",
    "grammar = pg.GeneratorGrammar(grammar)\n",
    "ED = pg.EqDisco(data=podatki, \n",
    "                lhs_vars=[\"y\"],\n",
    "                rhs_vars=[\"x1\", \"x2\"],\n",
    "                sample_size=20,\n",
    "                generator=grammar)\n",
    "\n",
    "ED.generate_models()\n"
   ]
  },
  {
   "attachments": {},
   "cell_type": "markdown",
   "metadata": {},
   "source": [
    "1.3. Napiši gramatiko, ki generira polinome, in jo uporabi za odkrivanje energijskega zakona. Verjetno bo potrebno zgenerirati nekaj sto modelov. Če bo imel ProGED težave z generiranjem toliko unikatnih izrazov, mu lahko daš več poskusov za generiranje z nastavitvijo \"strategy_settings = {\"max_repeat\":1000}.\" \n",
    "\n",
    "Na prejšnjih vajah smo videli, da je šum velik trn v peti odkrivanja enačb. Kako vpliva šum na odkrivanje enačb z verjetnostnimi gramatikami?"
   ]
  },
  {
   "cell_type": "code",
   "execution_count": 33,
   "metadata": {},
   "outputs": [
    {
     "name": "stdout",
     "output_type": "stream",
     "text": [
      "Model skipped. More model parameters than allowed (check max constant).\n",
      "Model skipped. More model parameters than allowed (check max constant).\n"
     ]
    },
    {
     "data": {
      "text/plain": [
       "ModelBox: 1 models\n",
       "-> [9.8099999999971*h*m + 0.499999993727462*m*v**2], p = 2.8349999999999995e-05, parse trees = 434, valid = True, error = 1.5185072515933363e-09, time = 0.33096790313720703"
      ]
     },
     "execution_count": 33,
     "metadata": {},
     "output_type": "execute_result"
    }
   ],
   "source": [
    "podatki = generiraj_energijski_zakon(500, sum=0)\n",
    "\n",
    "grammar = \"P -> P '+' M [0.3] | M [0.7]\\n\"\n",
    "grammar += \"M -> M '*' F [0.5] | 'C' '*' F [0.5]\\n\"\n",
    "grammar += \"F -> 'm' [0.4] | 'h' [0.3] | 'v' [0.3]\"\n",
    "\n",
    "np.random.seed(1)\n",
    "grammar = pg.GeneratorGrammar(grammar)\n",
    "ED = pg.EqDisco(data=podatki, \n",
    "                sample_size=500,\n",
    "                lhs_vars=[\"E\"],\n",
    "                rhs_vars=[\"m\", \"h\", \"v\"],\n",
    "                strategy_settings = {\"max_repeat\":1000},\n",
    "                generator = grammar)\n",
    "ED.generate_models()\n",
    "ED.fit_models()\n",
    "ED.get_results()"
   ]
  },
  {
   "attachments": {},
   "cell_type": "markdown",
   "metadata": {},
   "source": [
    "1.4. Loti se še naslednjih enačb:\n",
    "1. projekcija na y os pri kroženju $y = r\\sin(\\omega t)$, kjer je konstanta (*generiraj_krozenje*).  \n",
    "2. Lorenzov popravek $\\gamma = \\sqrt{1 - v^2/c^2}$, kjer je c hitrost svetlobe, približno $3\\cdot10^8 m/s$ (*generiraj_lorenz*)\n",
    "\n",
    "Za vsako od enačb napiši gramatiko, ki jo lahko odkrije. Premisli tudi, kakšne verjetnosti produkcij bi bile smiselne. Poskusi čim bolj omejiti prostor enačb, pri čemer naj ima gramatika še vedno vsaj eno rekurzivno pravilo. Gramatike lahko preizkusiš tudi na podatkih.\n"
   ]
  },
  {
   "cell_type": "code",
   "execution_count": 39,
   "metadata": {},
   "outputs": [
    {
     "data": {
      "text/plain": [
       "ModelBox: 5 models\n",
       "-> [1.05126239695454*r**2*cos(3.24191883284816*r*t**2)], p = 2.0873541058560008e-08, parse trees = 439, valid = True, error = 0.16078119825087922, time = 0.08463096618652344\n",
       "-> [cos(2.49392835792852*r*t)*tan(r)], p = 2.264924160000001e-06, parse trees = 439, valid = True, error = 0.25474201880142033, time = 0.008666038513183594\n",
       "-> [-0.328774073439291*cos(6.55645272411799*t)], p = 1.4155776000000007e-05, parse trees = 439, valid = True, error = 0.2885593367369822, time = 0.05254197120666504\n",
       "-> [0.392942888046269*r*cos(t)], p = 0.00010616832000000001, parse trees = 439, valid = True, error = 0.3204031830686981, time = 0.012373208999633789\n",
       "-> [-0.4279740520664*r*cos(7.85078232102086*r*t)], p = 1.0871635968000005e-07, parse trees = 439, valid = True, error = 0.32779614935450196, time = 0.05377078056335449"
      ]
     },
     "execution_count": 39,
     "metadata": {},
     "output_type": "execute_result"
    }
   ],
   "source": [
    "gramatika1 = \"E -> E '*' F [0.4] | F [0.6] \\n\"\n",
    "gramatika1 += \"F -> V [0.6] | T '(' M ')' [0.4] \\n\"\n",
    "gramatika1 += \"T -> 'sin' [0.4] | 'cos' [0.4] | 'tan' [0.2] \\n\"\n",
    "gramatika1 += \"M -> M '*' V [0.4] | V [0.6] \\n\"\n",
    "gramatika1 += \"V -> 'r' [0.4] | 't' [0.4] | 'C' [0.2]\"\n",
    "\n",
    "gramatika1 = pg.GeneratorGrammar(gramatika1)\n",
    "podatki = generiraj_krozenje(100)\n",
    "ED = pg.EqDisco(data=podatki, \n",
    "                sample_size=50,\n",
    "                lhs_vars=[\"y\"],\n",
    "                rhs_vars=[\"r\", \"t\"],\n",
    "                generator = gramatika1)\n",
    "ED.generate_models()\n",
    "ED.fit_models()\n",
    "ED.get_results(5)"
   ]
  },
  {
   "cell_type": "code",
   "execution_count": 53,
   "metadata": {},
   "outputs": [
    {
     "name": "stderr",
     "output_type": "stream",
     "text": [
      "<lambdifygenerated-36717>:2: RuntimeWarning: invalid value encountered in sqrt\n",
      "  return -3.64602513252549*sqrt(0.0710681061287593 - v) + 2.62954062636809 + 9.39237565262157/(v**4*log(sqrt(v**2) - 4.0106708960691))\n",
      "<lambdifygenerated-36718>:2: RuntimeWarning: invalid value encountered in sqrt\n",
      "  return -3.64602513252549*sqrt(0.0710681061287593 - v) + 2.62954064126926 + 9.39237565262157/(v**4*log(sqrt(v**2) - 4.0106708960691))\n",
      "<lambdifygenerated-36719>:2: RuntimeWarning: invalid value encountered in sqrt\n",
      "  return -3.64602513252549*sqrt(0.0710681061287593 - v) + 2.62954062636809 + 9.39237566752273/(v**4*log(sqrt(v**2) - 4.0106708960691))\n",
      "<lambdifygenerated-36720>:2: RuntimeWarning: invalid value encountered in sqrt\n",
      "  return -3.64602513252549*sqrt(0.0710681061287593 - v) + 2.62954062636809 + 9.39237565262157/(v**4*log(sqrt(v**2) - 4.01067088116794))\n",
      "<lambdifygenerated-36721>:2: RuntimeWarning: invalid value encountered in sqrt\n",
      "  return -3.64602513048201*sqrt(0.0710681062084221 - v) + 2.62954062636809 + 9.39237565262157/(v**4*log(sqrt(v**2) - 4.0106708960691))\n",
      "<lambdifygenerated-36722>:2: RuntimeWarning: invalid value encountered in sqrt\n",
      "  return -3.64602513252549*sqrt(0.0710681072496953 - v) + 2.62954062636809 + 9.39237565262157/(v**4*log(sqrt(v**2) - 4.0106708960691))\n",
      "<lambdifygenerated-36735>:2: RuntimeWarning: invalid value encountered in sqrt\n",
      "  return -2.28346909131161*sqrt(0.181195675406026 - v) + 2.52117513277612 + 9.39237565262157/(v**4*log(sqrt(v**2) - 4.0106708960691))\n",
      "<lambdifygenerated-36736>:2: RuntimeWarning: invalid value encountered in sqrt\n",
      "  return -2.28346909131161*sqrt(0.181195675406026 - v) + 2.52117514767728 + 9.39237565262157/(v**4*log(sqrt(v**2) - 4.0106708960691))\n",
      "<lambdifygenerated-36737>:2: RuntimeWarning: invalid value encountered in sqrt\n",
      "  return -2.28346909131161*sqrt(0.181195675406026 - v) + 2.52117513277612 + 9.39237566752273/(v**4*log(sqrt(v**2) - 4.0106708960691))\n",
      "<lambdifygenerated-36738>:2: RuntimeWarning: invalid value encountered in sqrt\n",
      "  return -2.28346909131161*sqrt(0.181195675406026 - v) + 2.52117513277612 + 9.39237565262157/(v**4*log(sqrt(v**2) - 4.01067088116794))\n",
      "<lambdifygenerated-36739>:2: RuntimeWarning: invalid value encountered in sqrt\n",
      "  return -2.28346908804877*sqrt(0.181195675923845 - v) + 2.52117513277612 + 9.39237565262157/(v**4*log(sqrt(v**2) - 4.0106708960691))\n",
      "<lambdifygenerated-36740>:2: RuntimeWarning: invalid value encountered in sqrt\n",
      "  return -2.28346909131161*sqrt(0.181195678263813 - v) + 2.52117513277612 + 9.39237565262157/(v**4*log(sqrt(v**2) - 4.0106708960691))\n",
      "<lambdifygenerated-36753>:2: RuntimeWarning: invalid value encountered in sqrt\n",
      "  return -1.08399054264122*sqrt(0.804079772875103 - v) + 2.46699826740055 + 9.39237565262157/(v**4*log(sqrt(v**2) - 4.0106708960691))\n",
      "<lambdifygenerated-36754>:2: RuntimeWarning: invalid value encountered in sqrt\n",
      "  return -1.08399054264122*sqrt(0.804079772875103 - v) + 2.46699828230171 + 9.39237565262157/(v**4*log(sqrt(v**2) - 4.0106708960691))\n",
      "<lambdifygenerated-36755>:2: RuntimeWarning: invalid value encountered in sqrt\n",
      "  return -1.08399054264122*sqrt(0.804079772875103 - v) + 2.46699826740055 + 9.39237566752273/(v**4*log(sqrt(v**2) - 4.0106708960691))\n",
      "<lambdifygenerated-36756>:2: RuntimeWarning: invalid value encountered in sqrt\n",
      "  return -1.08399054264122*sqrt(0.804079772875103 - v) + 2.46699826740055 + 9.39237565262157/(v**4*log(sqrt(v**2) - 4.01067088116794))\n",
      "<lambdifygenerated-36757>:2: RuntimeWarning: invalid value encountered in sqrt\n",
      "  return -1.08399053576793*sqrt(0.804079783072006 - v) + 2.46699826740055 + 9.39237565262157/(v**4*log(sqrt(v**2) - 4.0106708960691))\n",
      "<lambdifygenerated-36758>:2: RuntimeWarning: invalid value encountered in sqrt\n",
      "  return -1.08399054264122*sqrt(0.804079785556559 - v) + 2.46699826740055 + 9.39237565262157/(v**4*log(sqrt(v**2) - 4.0106708960691))\n",
      "<lambdifygenerated-36789>:2: RuntimeWarning: invalid value encountered in sqrt\n",
      "  return -0.972023051256273*sqrt(1 - 0.175004807542135*v) + 2.4534555665205 + 9.39237565262157/(v**4*log(sqrt(v**2) - 4.0106708960691))\n",
      "<lambdifygenerated-36790>:2: RuntimeWarning: invalid value encountered in sqrt\n",
      "  return -0.972023051256273*sqrt(1 - 0.175004807542135*v) + 2.45345558142166 + 9.39237565262157/(v**4*log(sqrt(v**2) - 4.0106708960691))\n",
      "<lambdifygenerated-36791>:2: RuntimeWarning: invalid value encountered in sqrt\n",
      "  return -0.972023051256273*sqrt(1 - 0.175004807542135*v) + 2.4534555665205 + 9.39237566752273/(v**4*log(sqrt(v**2) - 4.0106708960691))\n",
      "<lambdifygenerated-36792>:2: RuntimeWarning: invalid value encountered in sqrt\n",
      "  return -0.972023051256273*sqrt(1 - 0.175004807542135*v) + 2.4534555665205 + 9.39237565262157/(v**4*log(sqrt(v**2) - 4.01067088116794))\n",
      "<lambdifygenerated-36793>:2: RuntimeWarning: invalid value encountered in sqrt\n",
      "  return -0.972023051256273*sqrt(1 - 0.175004791770853*v) + 2.4534555665205 + 9.39237565262157/(v**4*log(sqrt(v**2) - 4.0106708960691))\n",
      "<lambdifygenerated-36794>:2: RuntimeWarning: invalid value encountered in sqrt\n",
      "  return -0.972023058921298*sqrt(1 - 0.175004804782085*v) + 2.4534555665205 + 9.39237565262157/(v**4*log(sqrt(v**2) - 4.0106708960691))\n",
      "<lambdifygenerated-36837>:2: RuntimeWarning: invalid value encountered in sqrt\n",
      "  return -0.972023337074961*sqrt(1 - 0.0841700148986635*v) + 2.45230443721475 + 9.39237565262157/(v**4*log(sqrt(v**2) - 4.0106708960691))\n",
      "<lambdifygenerated-36838>:2: RuntimeWarning: invalid value encountered in sqrt\n",
      "  return -0.972023337074961*sqrt(1 - 0.0841700148986635*v) + 2.45230445211591 + 9.39237565262157/(v**4*log(sqrt(v**2) - 4.0106708960691))\n",
      "<lambdifygenerated-36839>:2: RuntimeWarning: invalid value encountered in sqrt\n",
      "  return -0.972023337074961*sqrt(1 - 0.0841700148986635*v) + 2.45230443721475 + 9.39237566752273/(v**4*log(sqrt(v**2) - 4.0106708960691))\n",
      "<lambdifygenerated-36840>:2: RuntimeWarning: invalid value encountered in sqrt\n",
      "  return -0.972023337074961*sqrt(1 - 0.0841700148986635*v) + 2.45230443721475 + 9.39237565262157/(v**4*log(sqrt(v**2) - 4.01067088116794))\n",
      "<lambdifygenerated-36841>:2: RuntimeWarning: invalid value encountered in sqrt\n",
      "  return -0.972023337074961*sqrt(1 - 0.0841699991273912*v) + 2.45230443721475 + 9.39237565262157/(v**4*log(sqrt(v**2) - 4.0106708960691))\n",
      "<lambdifygenerated-36842>:2: RuntimeWarning: invalid value encountered in sqrt\n",
      "  return -0.972023344739983*sqrt(1 - 0.0841700135711953*v) + 2.45230443721475 + 9.39237565262157/(v**4*log(sqrt(v**2) - 4.0106708960691))\n",
      "<lambdifygenerated-36855>:2: RuntimeWarning: invalid value encountered in sqrt\n",
      "  return -0.972023479984263*sqrt(1 - 0.0387526618963513*v) + 2.45172887260313 + 9.39237565262157/(v**4*log(sqrt(v**2) - 4.0106708960691))\n",
      "<lambdifygenerated-36856>:2: RuntimeWarning: invalid value encountered in sqrt\n",
      "  return -0.972023479984263*sqrt(1 - 0.0387526618963513*v) + 2.45172888750429 + 9.39237565262157/(v**4*log(sqrt(v**2) - 4.0106708960691))\n",
      "<lambdifygenerated-36857>:2: RuntimeWarning: invalid value encountered in sqrt\n",
      "  return -0.972023479984263*sqrt(1 - 0.0387526618963513*v) + 2.45172887260313 + 9.39237566752273/(v**4*log(sqrt(v**2) - 4.0106708960691))\n",
      "<lambdifygenerated-36858>:2: RuntimeWarning: invalid value encountered in sqrt\n",
      "  return -0.972023479984263*sqrt(1 - 0.0387526618963513*v) + 2.45172887260313 + 9.39237565262157/(v**4*log(sqrt(v**2) - 4.01067088116794))\n",
      "<lambdifygenerated-36859>:2: RuntimeWarning: invalid value encountered in sqrt\n",
      "  return -0.972023479984263*sqrt(1 - 0.0387526461250836*v) + 2.45172887260313 + 9.39237565262157/(v**4*log(sqrt(v**2) - 4.0106708960691))\n",
      "<lambdifygenerated-36860>:2: RuntimeWarning: invalid value encountered in sqrt\n",
      "  return -0.972023487649284*sqrt(1 - 0.0387526612851727*v) + 2.45172887260313 + 9.39237565262157/(v**4*log(sqrt(v**2) - 4.0106708960691))\n",
      "<lambdifygenerated-36873>:2: RuntimeWarning: invalid value encountered in sqrt\n",
      "  return -0.972023551438903*sqrt(1 - 0.0160439962250412*v) + 2.45144109030763 + 9.39237565262157/(v**4*log(sqrt(v**2) - 4.0106708960691))\n",
      "<lambdifygenerated-36874>:2: RuntimeWarning: invalid value encountered in sqrt\n",
      "  return -0.972023551438903*sqrt(1 - 0.0160439962250412*v) + 2.4514411052088 + 9.39237565262157/(v**4*log(sqrt(v**2) - 4.0106708960691))\n",
      "<lambdifygenerated-36875>:2: RuntimeWarning: invalid value encountered in sqrt\n",
      "  return -0.972023551438903*sqrt(1 - 0.0160439962250412*v) + 2.45144109030763 + 9.39237566752273/(v**4*log(sqrt(v**2) - 4.0106708960691))\n",
      "<lambdifygenerated-36876>:2: RuntimeWarning: invalid value encountered in sqrt\n",
      "  return -0.972023551438903*sqrt(1 - 0.0160439962250412*v) + 2.45144109030763 + 9.39237565262157/(v**4*log(sqrt(v**2) - 4.01067088116794))\n",
      "<lambdifygenerated-36877>:2: RuntimeWarning: invalid value encountered in sqrt\n",
      "  return -0.972023551438903*sqrt(1 - 0.0160439804537759*v) + 2.45144109030763 + 9.39237565262157/(v**4*log(sqrt(v**2) - 4.0106708960691))\n",
      "<lambdifygenerated-36878>:2: RuntimeWarning: invalid value encountered in sqrt\n",
      "  return -0.972023559103924*sqrt(1 - 0.0160439959720071*v) + 2.45144109030763 + 9.39237565262157/(v**4*log(sqrt(v**2) - 4.0106708960691))\n",
      "<lambdifygenerated-36891>:2: RuntimeWarning: invalid value encountered in sqrt\n",
      "  return -0.972023587166221*sqrt(1 - 0.00468966609684687*v) + 2.45129719916246 + 9.39237565262157/(v**4*log(sqrt(v**2) - 4.0106708960691))\n",
      "<lambdifygenerated-36892>:2: RuntimeWarning: invalid value encountered in sqrt\n",
      "  return -0.972023587166221*sqrt(1 - 0.00468966609684687*v) + 2.45129721406363 + 9.39237565262157/(v**4*log(sqrt(v**2) - 4.0106708960691))\n",
      "<lambdifygenerated-36893>:2: RuntimeWarning: invalid value encountered in sqrt\n",
      "  return -0.972023587166221*sqrt(1 - 0.00468966609684687*v) + 2.45129719916246 + 9.39237566752273/(v**4*log(sqrt(v**2) - 4.0106708960691))\n",
      "<lambdifygenerated-36894>:2: RuntimeWarning: invalid value encountered in sqrt\n",
      "  return -0.972023587166221*sqrt(1 - 0.00468966609684687*v) + 2.45129719916246 + 9.39237565262157/(v**4*log(sqrt(v**2) - 4.01067088116794))\n",
      "<lambdifygenerated-36895>:2: RuntimeWarning: invalid value encountered in sqrt\n",
      "  return -0.972023587166221*sqrt(1 - 0.00468965032558273*v) + 2.45129719916246 + 9.39237565262157/(v**4*log(sqrt(v**2) - 4.0106708960691))\n",
      "<lambdifygenerated-36896>:2: RuntimeWarning: invalid value encountered in sqrt\n",
      "  return -0.972023594831241*sqrt(1 - 0.00468966602288491*v) + 2.45129719916246 + 9.39237565262157/(v**4*log(sqrt(v**2) - 4.0106708960691))\n",
      "<lambdifygenerated-36927>:2: RuntimeWarning: invalid value encountered in sqrt\n",
      "  return -0.97202359609805*sqrt(1 - 0.00185108388399785*v) + 2.45126122637691 + 9.39237565262157/(v**4*log(sqrt(v**2) - 4.0106708960691))\n",
      "<lambdifygenerated-36928>:2: RuntimeWarning: invalid value encountered in sqrt\n",
      "  return -0.97202359609805*sqrt(1 - 0.00185108388399785*v) + 2.45126124127807 + 9.39237565262157/(v**4*log(sqrt(v**2) - 4.0106708960691))\n",
      "<lambdifygenerated-36929>:2: RuntimeWarning: invalid value encountered in sqrt\n",
      "  return -0.97202359609805*sqrt(1 - 0.00185108388399785*v) + 2.45126122637691 + 9.39237566752273/(v**4*log(sqrt(v**2) - 4.0106708960691))\n",
      "<lambdifygenerated-36930>:2: RuntimeWarning: invalid value encountered in sqrt\n",
      "  return -0.97202359609805*sqrt(1 - 0.00185108388399785*v) + 2.45126122637691 + 9.39237565262157/(v**4*log(sqrt(v**2) - 4.01067088116794))\n",
      "<lambdifygenerated-36931>:2: RuntimeWarning: invalid value encountered in sqrt\n",
      "  return -0.97202359609805*sqrt(1 - 0.001851068112734*v) + 2.45126122637691 + 9.39237565262157/(v**4*log(sqrt(v**2) - 4.0106708960691))\n",
      "<lambdifygenerated-36932>:2: RuntimeWarning: invalid value encountered in sqrt\n",
      "  return -0.97202360376307*sqrt(1 - 0.00185108385480392*v) + 2.45126122637691 + 9.39237565262157/(v**4*log(sqrt(v**2) - 4.0106708960691))\n",
      "<lambdifygenerated-36945>:2: RuntimeWarning: invalid value encountered in sqrt\n",
      "  return -0.972023600563964*sqrt(1 - 0.000431792824931864*v) + 2.45124323998424 + 9.39237565262157/(v**4*log(sqrt(v**2) - 4.0106708960691))\n",
      "<lambdifygenerated-36946>:2: RuntimeWarning: invalid value encountered in sqrt\n",
      "  return -0.972023600563964*sqrt(1 - 0.000431792824931864*v) + 2.4512432548854 + 9.39237565262157/(v**4*log(sqrt(v**2) - 4.0106708960691))\n",
      "<lambdifygenerated-36947>:2: RuntimeWarning: invalid value encountered in sqrt\n",
      "  return -0.972023600563964*sqrt(1 - 0.000431792824931864*v) + 2.45124323998424 + 9.39237566752273/(v**4*log(sqrt(v**2) - 4.0106708960691))\n",
      "<lambdifygenerated-36948>:2: RuntimeWarning: invalid value encountered in sqrt\n",
      "  return -0.972023600563964*sqrt(1 - 0.000431792824931864*v) + 2.45124323998424 + 9.39237565262157/(v**4*log(sqrt(v**2) - 4.01067088116794))\n",
      "<lambdifygenerated-36949>:2: RuntimeWarning: invalid value encountered in sqrt\n",
      "  return -0.972023600563964*sqrt(1 - 0.00043177705366816*v) + 2.45124323998424 + 9.39237565262157/(v**4*log(sqrt(v**2) - 4.0106708960691))\n",
      "<lambdifygenerated-36950>:2: RuntimeWarning: invalid value encountered in sqrt\n",
      "  return -0.972023608228985*sqrt(1 - 0.000431792818121946*v) + 2.45124323998424 + 9.39237565262157/(v**4*log(sqrt(v**2) - 4.0106708960691))\n",
      "<lambdifygenerated-36981>:2: RuntimeWarning: invalid value encountered in sqrt\n",
      "  return -0.972023601680443*sqrt(1 - 7.69700662307378e-5*v) + 2.4512387433861 + 9.39237565262157/(v**4*log(sqrt(v**2) - 4.0106708960691))\n",
      "<lambdifygenerated-36982>:2: RuntimeWarning: invalid value encountered in sqrt\n",
      "  return -0.972023601680443*sqrt(1 - 7.69700662307378e-5*v) + 2.45123875828726 + 9.39237565262157/(v**4*log(sqrt(v**2) - 4.0106708960691))\n",
      "<lambdifygenerated-36983>:2: RuntimeWarning: invalid value encountered in sqrt\n",
      "  return -0.972023601680443*sqrt(1 - 7.69700662307378e-5*v) + 2.4512387433861 + 9.39237566752273/(v**4*log(sqrt(v**2) - 4.0106708960691))\n",
      "<lambdifygenerated-36984>:2: RuntimeWarning: invalid value encountered in sqrt\n",
      "  return -0.972023601680443*sqrt(1 - 7.69700662307378e-5*v) + 2.4512387433861 + 9.39237565262157/(v**4*log(sqrt(v**2) - 4.01067088116794))\n",
      "<lambdifygenerated-36985>:2: RuntimeWarning: invalid value encountered in sqrt\n",
      "  return -0.972023601680443*sqrt(1 - 7.69542949670699e-5*v) + 2.4512387433861 + 9.39237565262157/(v**4*log(sqrt(v**2) - 4.0106708960691))\n",
      "<lambdifygenerated-36986>:2: RuntimeWarning: invalid value encountered in sqrt\n",
      "  return -0.972023609345463*sqrt(1 - 7.69700650168226e-5*v) + 2.4512387433861 + 9.39237565262157/(v**4*log(sqrt(v**2) - 4.0106708960691))\n",
      "<lambdifygenerated-37041>:2: RuntimeWarning: invalid value encountered in sqrt\n",
      "  return -1.1198078719497*sqrt(0.900387408537255 - v) + 1.94963399081102 + 9.39237565262157/(v**4*log(sqrt(v**2) - 4.0106708960691))\n",
      "<lambdifygenerated-37042>:2: RuntimeWarning: invalid value encountered in sqrt\n",
      "  return -1.1198078719497*sqrt(0.900387408537255 - v) + 1.94963400571218 + 9.39237565262157/(v**4*log(sqrt(v**2) - 4.0106708960691))\n",
      "<lambdifygenerated-37043>:2: RuntimeWarning: invalid value encountered in sqrt\n",
      "  return -1.1198078719497*sqrt(0.900387408537255 - v) + 1.94963399081102 + 9.39237566752273/(v**4*log(sqrt(v**2) - 4.0106708960691))\n",
      "<lambdifygenerated-37044>:2: RuntimeWarning: invalid value encountered in sqrt\n",
      "  return -1.1198078719497*sqrt(0.900387408537255 - v) + 1.94963399081102 + 9.39237565262157/(v**4*log(sqrt(v**2) - 4.01067088116794))\n",
      "<lambdifygenerated-37045>:2: RuntimeWarning: invalid value encountered in sqrt\n",
      "  return -1.11980786529626*sqrt(0.90038741923673 - v) + 1.94963399081102 + 9.39237565262157/(v**4*log(sqrt(v**2) - 4.0106708960691))\n",
      "<lambdifygenerated-37046>:2: RuntimeWarning: invalid value encountered in sqrt\n",
      "  return -1.1198078719497*sqrt(0.900387420420446 - v) + 1.94963399081102 + 9.39237565262157/(v**4*log(sqrt(v**2) - 4.0106708960691))\n",
      "<lambdifygenerated-37203>:2: RuntimeWarning: invalid value encountered in sqrt\n",
      "  return -1.1198078719497*sqrt(0.900387408537255 - v) + 1.94963399081102 + 9.39237565262157/(v**4*log(sqrt(v**2) - 4.0106708960691))\n",
      "<lambdifygenerated-37204>:2: RuntimeWarning: invalid value encountered in sqrt\n",
      "  return -1.01830456750322*sqrt(1 - 0.60464121020361*v) + 2.2004358036869 + 9.39237565262157/(v**4*log(sqrt(v**2) - 4.0106708960691))\n",
      "<lambdifygenerated-37205>:2: RuntimeWarning: invalid value encountered in sqrt\n",
      "  return -0.995433090409812*sqrt(1 - 0.316366992429658*v) + 2.32583671012485 + 9.39237565262157/(v**4*log(sqrt(v**2) - 4.0106708960691))\n",
      "<lambdifygenerated-37206>:2: RuntimeWarning: invalid value encountered in sqrt\n",
      "  return -0.983797977292737*sqrt(1 - 0.161941377426816*v) + 2.38853716334382 + 9.39237565262157/(v**4*log(sqrt(v**2) - 4.0106708960691))\n",
      "<lambdifygenerated-37207>:2: RuntimeWarning: invalid value encountered in sqrt\n",
      "  return -0.977928510396597*sqrt(1 - 0.0819396663638503*v) + 2.41988738995331 + 9.39237565262157/(v**4*log(sqrt(v**2) - 4.0106708960691))\n",
      "<lambdifygenerated-37208>:2: RuntimeWarning: invalid value encountered in sqrt\n",
      "  return -0.97498052652713*sqrt(1 - 0.0412120261432438*v) + 2.43556250325805 + 9.39237565262157/(v**4*log(sqrt(v**2) - 4.0106708960691))\n",
      "<lambdifygenerated-37209>:2: RuntimeWarning: invalid value encountered in sqrt\n",
      "  return -0.973503186916934*sqrt(1 - 0.0206626466696169*v) + 2.44340005991042 + 9.39237565262157/(v**4*log(sqrt(v**2) - 4.0106708960691))\n",
      "<lambdifygenerated-37210>:2: RuntimeWarning: invalid value encountered in sqrt\n",
      "  return -0.972763675746879*sqrt(1 - 0.0103410731756725*v) + 2.44731883823661 + 9.39237565262157/(v**4*log(sqrt(v**2) - 4.0106708960691))\n",
      "<lambdifygenerated-37211>:2: RuntimeWarning: invalid value encountered in sqrt\n",
      "  return -0.972393709260892*sqrt(1 - 0.0051685030450451*v) + 2.4492782273997 + 9.39237565262157/(v**4*log(sqrt(v**2) - 4.0106708960691))\n",
      "<lambdifygenerated-37212>:2: RuntimeWarning: invalid value encountered in sqrt\n",
      "  return -0.972208673222444*sqrt(1 - 0.00257926428369897*v) + 2.45025792198125 + 9.39237565262157/(v**4*log(sqrt(v**2) - 4.0106708960691))\n",
      "<lambdifygenerated-37213>:2: RuntimeWarning: invalid value encountered in sqrt\n",
      "  return -0.972116141995564*sqrt(1 - 0.00128390549495089*v) + 2.45074776927202 + 9.39237565262157/(v**4*log(sqrt(v**2) - 4.0106708960691))\n",
      "<lambdifygenerated-37214>:2: RuntimeWarning: invalid value encountered in sqrt\n",
      "  return -0.972069873079109*sqrt(1 - 0.000636041125373921*v) + 2.45099269291741 + 9.39237565262157/(v**4*log(sqrt(v**2) - 4.0106708960691))\n",
      "<lambdifygenerated-37215>:2: RuntimeWarning: invalid value encountered in sqrt\n",
      "  return -0.00252561780425296*v**4*exp(v*log(9.75776364799613*v) + 2.31906309719945*sqrt(-1/v)) + v\n",
      "<lambdifygenerated-37216>:2: RuntimeWarning: invalid value encountered in sqrt\n",
      "  return -0.00252561780014735*v**4*exp(v*log(9.75776364799613*v) + 2.31906309719945*sqrt(-1/v)) + v\n",
      "<lambdifygenerated-37217>:2: RuntimeWarning: invalid value encountered in sqrt\n",
      "  return -0.0025256178418876*v**4*exp(v*log(9.75776364799613*v) + 2.31906309719945*sqrt(-1/v)) + v\n",
      "<lambdifygenerated-37218>:2: RuntimeWarning: invalid value encountered in sqrt\n",
      "  return -0.00252561780425296*v**4*exp(v*log(9.75776366289729*v) + 2.31906309719945*sqrt(-1/v)) + v\n",
      "<lambdifygenerated-37219>:2: RuntimeWarning: invalid value encountered in sqrt\n",
      "  return -0.00252561780425296*v**4*exp(v*log(9.75776364799613*v) + 2.3190630939867*sqrt(-1/v)) + v\n",
      "<lambdifygenerated-37503>:2: RuntimeWarning: overflow encountered in exp\n",
      "  return 2.03819868019926*sqrt(0.240717114001353*v**2*(v + 8.52348003446186) + 0.240717114001353*v - 0.240717114001353*log(7.98109447602041/v)*log(exp(v)) + 1)\n",
      "<lambdifygenerated-37504>:2: RuntimeWarning: overflow encountered in exp\n",
      "  return 2.03819868385474*sqrt(0.240717113137909*v**2*(v + 8.52348003446186) + 0.240717113137909*v - 0.240717113137909*log(7.98109447602041/v)*log(exp(v)) + 1)\n",
      "<lambdifygenerated-37505>:2: RuntimeWarning: overflow encountered in exp\n",
      "  return 2.03819868019926*sqrt(0.240717114001353*v**2*(v + 8.52348004936302) + 0.240717114001353*v - 0.240717114001353*log(7.98109447602041/v)*log(exp(v)) + 1)\n",
      "<lambdifygenerated-37506>:2: RuntimeWarning: overflow encountered in exp\n",
      "  return 2.03819868019926*sqrt(0.240717114001353*v**2*(v + 8.52348003446186) + 0.240717114001353*v - 0.240717114001353*log(7.98109449092157/v)*log(exp(v)) + 1)\n",
      "<lambdifygenerated-37507>:2: RuntimeWarning: invalid value encountered in sqrt\n",
      "  return 1.86652925598081*sqrt(-0.28703205286789*v**2 - log(v)/v)\n",
      "<lambdifygenerated-37508>:2: RuntimeWarning: invalid value encountered in sqrt\n",
      "  return 1.86652925198913*sqrt(-0.287032054095558*v**2 - log(v)/v)\n",
      "<lambdifygenerated-37509>:2: RuntimeWarning: overflow encountered in exp\n",
      "  return exp(v)\n",
      "<lambdifygenerated-37742>:2: RuntimeWarning: invalid value encountered in log\n",
      "  return log(log(-2.18913008596429*v**2))\n",
      "<lambdifygenerated-37743>:2: RuntimeWarning: invalid value encountered in log\n",
      "  return log(log(-2.18913007106313*v**2))\n",
      "<lambdifygenerated-37748>:2: RuntimeWarning: invalid value encountered in log\n",
      "  return log(log(-0.320796001756209*v**2))\n",
      "<lambdifygenerated-37749>:2: RuntimeWarning: invalid value encountered in log\n",
      "  return log(log(-0.320795986855048*v**2))\n",
      "<lambdifygenerated-37766>:2: RuntimeWarning: invalid value encountered in log\n",
      "  return log(log(-0.0873230426789542*v**2))\n",
      "<lambdifygenerated-37767>:2: RuntimeWarning: invalid value encountered in log\n",
      "  return log(log(-0.087323027777793*v**2))\n"
     ]
    },
    {
     "name": "stdout",
     "output_type": "stream",
     "text": [
      "Model skipped. More model parameters than allowed (check max constant).\n",
      "Model skipped. More model parameters than allowed (check max constant).\n",
      "Model skipped. More model parameters than allowed (check max constant).\n",
      "Model skipped. More model parameters than allowed (check max constant).\n",
      "Model skipped. More model parameters than allowed (check max constant).\n"
     ]
    },
    {
     "name": "stderr",
     "output_type": "stream",
     "text": [
      "<lambdifygenerated-37778>:2: RuntimeWarning: invalid value encountered in log\n",
      "  return log(log(-0.0289548029149311*v**2))\n",
      "<lambdifygenerated-37779>:2: RuntimeWarning: invalid value encountered in log\n",
      "  return log(log(-0.0289547880137699*v**2))\n",
      "<lambdifygenerated-37790>:2: RuntimeWarning: invalid value encountered in log\n",
      "  return log(log(-0.0143627430149973*v**2))\n",
      "<lambdifygenerated-37791>:2: RuntimeWarning: invalid value encountered in log\n",
      "  return log(log(-0.0143627281138361*v**2))\n",
      "<lambdifygenerated-37796>:2: RuntimeWarning: invalid value encountered in log\n",
      "  return log(log(-0.00706671307517759*v**2))\n",
      "<lambdifygenerated-37797>:2: RuntimeWarning: invalid value encountered in log\n",
      "  return log(log(-0.00706669817401639*v**2))\n",
      "<lambdifygenerated-37802>:2: RuntimeWarning: invalid value encountered in log\n",
      "  return log(log(-0.00341869810780482*v**2))\n",
      "<lambdifygenerated-37803>:2: RuntimeWarning: invalid value encountered in log\n",
      "  return log(log(-0.00341868320664362*v**2))\n",
      "<lambdifygenerated-37808>:2: RuntimeWarning: invalid value encountered in log\n",
      "  return log(log(-0.00159469062475281*v**2))\n",
      "<lambdifygenerated-37809>:2: RuntimeWarning: invalid value encountered in log\n",
      "  return log(log(-0.00159467572359162*v**2))\n",
      "<lambdifygenerated-37814>:2: RuntimeWarning: invalid value encountered in log\n",
      "  return log(log(-0.000682686883385131*v**2))\n",
      "<lambdifygenerated-37815>:2: RuntimeWarning: invalid value encountered in log\n",
      "  return log(log(-0.000682671982223937*v**2))\n",
      "<lambdifygenerated-37820>:2: RuntimeWarning: invalid value encountered in log\n",
      "  return log(log(-0.000226685012741257*v**2))\n",
      "<lambdifygenerated-37821>:2: RuntimeWarning: invalid value encountered in log\n",
      "  return log(log(-0.000226670111580063*v**2))\n",
      "<lambdifygenerated-37826>:2: RuntimeWarning: invalid value encountered in log\n",
      "  return log(log(-4.64494496026369e-5*v**2))\n",
      "<lambdifygenerated-37827>:2: RuntimeWarning: invalid value encountered in log\n",
      "  return log(log(-4.6434548441443e-5*v**2))\n",
      "<lambdifygenerated-37838>:2: RuntimeWarning: invalid value encountered in log\n",
      "  return log(log(-1.39055882142358e-6*v**2))\n",
      "<lambdifygenerated-37839>:2: RuntimeWarning: invalid value encountered in log\n",
      "  return log(log(-1.37565766022973e-6*v**2))\n",
      "<lambdifygenerated-37866>:2: RuntimeWarning: invalid value encountered in log\n",
      "  return log(log(-0.948420661945431*v**2))\n",
      "<lambdifygenerated-37867>:2: RuntimeWarning: invalid value encountered in log\n",
      "  return log(log(-0.0142394485665243*v**2))\n",
      "<lambdifygenerated-37880>:2: RuntimeWarning: invalid value encountered in log\n",
      "  return log(log(-0.00694115783700155*v**2))\n",
      "<lambdifygenerated-37881>:2: RuntimeWarning: invalid value encountered in log\n",
      "  return log(log(-0.0032920124722402*v**2))\n",
      "<lambdifygenerated-37882>:2: RuntimeWarning: invalid value encountered in log\n",
      "  return log(log(-0.00146743978985953*v**2))\n",
      "<lambdifygenerated-37883>:2: RuntimeWarning: invalid value encountered in log\n",
      "  return log(log(-0.000555153448669188*v**2))\n",
      "<lambdifygenerated-37884>:2: RuntimeWarning: invalid value encountered in log\n",
      "  return -v + 1.03931912752198 + 1.33273198018632*log(5.21659623567746 - v)/v\n",
      "<lambdifygenerated-37885>:2: RuntimeWarning: invalid value encountered in log\n",
      "  return -v + 1.03931914242314 + 1.33273198018632*log(5.21659623567746 - v)/v\n",
      "<lambdifygenerated-37886>:2: RuntimeWarning: invalid value encountered in log\n",
      "  return -v + 1.03931912752198 + 1.33273199508748*log(5.21659623567746 - v)/v\n",
      "<lambdifygenerated-37887>:2: RuntimeWarning: invalid value encountered in log\n",
      "  return -v + 1.03931912752198 + 1.33273198018632*log(5.21659625057862 - v)/v\n",
      "<lambdifygenerated-38125>:2: RuntimeWarning: overflow encountered in exp\n",
      "  return -v*(v - 1.55950320256112)*log(-8.28188790667933*exp(4.77684396905231*v)) - 5.22597566594288*v\n",
      "<lambdifygenerated-38125>:2: RuntimeWarning: invalid value encountered in log\n",
      "  return -v*(v - 1.55950320256112)*log(-8.28188790667933*exp(4.77684396905231*v)) - 5.22597566594288*v\n",
      "<lambdifygenerated-38126>:2: RuntimeWarning: overflow encountered in exp\n",
      "  return -v*(v - 1.55950320256112)*log(-8.28188790667933*exp(4.77684396905231*v)) - 5.22597565104172*v\n",
      "<lambdifygenerated-38126>:2: RuntimeWarning: invalid value encountered in log\n",
      "  return -v*(v - 1.55950320256112)*log(-8.28188790667933*exp(4.77684396905231*v)) - 5.22597565104172*v\n",
      "<lambdifygenerated-38127>:2: RuntimeWarning: overflow encountered in exp\n",
      "  return -v*(v - 1.55950318765996)*log(-8.28188790667933*exp(4.77684396905231*v)) - 5.22597566594288*v\n",
      "<lambdifygenerated-38127>:2: RuntimeWarning: invalid value encountered in log\n",
      "  return -v*(v - 1.55950318765996)*log(-8.28188790667933*exp(4.77684396905231*v)) - 5.22597566594288*v\n",
      "<lambdifygenerated-38128>:2: RuntimeWarning: overflow encountered in exp\n",
      "  return -v*(v - 1.55950320256112)*log(-8.28188789177817*exp(4.77684396905231*v)) - 5.22597566594288*v\n",
      "<lambdifygenerated-38128>:2: RuntimeWarning: invalid value encountered in log\n",
      "  return -v*(v - 1.55950320256112)*log(-8.28188789177817*exp(4.77684396905231*v)) - 5.22597566594288*v\n",
      "<lambdifygenerated-38129>:2: RuntimeWarning: overflow encountered in exp\n",
      "  return -v*(v - 1.55950320256112)*log(-8.28188790667933*exp(4.77684398395347*v)) - 5.22597566594288*v\n",
      "<lambdifygenerated-38129>:2: RuntimeWarning: invalid value encountered in log\n",
      "  return -v*(v - 1.55950320256112)*log(-8.28188790667933*exp(4.77684398395347*v)) - 5.22597566594288*v\n"
     ]
    },
    {
     "name": "stdout",
     "output_type": "stream",
     "text": [
      "Model skipped. More model parameters than allowed (check max constant).\n"
     ]
    },
    {
     "name": "stderr",
     "output_type": "stream",
     "text": [
      "<lambdifygenerated-38415>:2: RuntimeWarning: overflow encountered in exp\n",
      "  return -4.24674749662001*v - exp(v) - 6.73549479773615\n",
      "<lambdifygenerated-38416>:2: RuntimeWarning: overflow encountered in exp\n",
      "  return -4.24674748171884*v - exp(v) - 6.73549479773615\n",
      "<lambdifygenerated-38417>:2: RuntimeWarning: overflow encountered in exp\n",
      "  return -4.24674749662001*v - exp(v) - 6.73549478283499\n"
     ]
    },
    {
     "data": {
      "text/plain": [
       "ModelBox: 1 models\n",
       "-> [1.14974026502787 - 2.37135586589332e-6*v], p = 1.4929919999999999e-05, parse trees = 442, valid = True, error = 0.08338169511209467, time = 0.18238091468811035"
      ]
     },
     "execution_count": 53,
     "metadata": {},
     "output_type": "execute_result"
    }
   ],
   "source": [
    "gramatika2 = \"E -> E '+' F [0.2] | E '-' F [0.2] | F [0.6] \\n\"\n",
    "gramatika2 += \"F -> F '*' T [0.2] | F '/' T [0.2] | T [0.6] \\n\"\n",
    "gramatika2 += \"T -> R [0.3] | V [0.4] | 'C' [0.3] \\n\"\n",
    "gramatika2 += \"R -> '(' E ')' [0.3] | 'sqrt' '(' E ')' [0.3] | 'exp' '(' E ')' [0.2] | 'log' '(' E ')' [0.2] \\n\"\n",
    "gramatika2 += \"V -> 'v' [1.0]\"\n",
    "gramatika2 = pg.GeneratorGrammar(gramatika2)\n",
    "\n",
    "podatki = generiraj_lorenz(100)\n",
    "ED = pg.EqDisco(data=podatki, \n",
    "                sample_size=50,\n",
    "                lhs_vars=[\"gama\"],\n",
    "                rhs_vars=[\"v\"],\n",
    "                generator = gramatika2)\n",
    "ED.generate_models()\n",
    "ED.fit_models()\n",
    "ED.get_results()"
   ]
  },
  {
   "attachments": {},
   "cell_type": "markdown",
   "metadata": {},
   "source": [
    "## 2. Preštevanje dreves in verjetnosti\n",
    "\n",
    "Za linearno gramatiko iz 1.2 ter vsako od gramatik iz 1.4. nariši:\n",
    "1. graf števila dreves z dano višino\n",
    "2. graf verjetnosti vseh dreves do vključno dane višine\n",
    "\n",
    "Če želiš, lahko sam implementiraš rekurzivne enačbe s predavanj. Alternativno lahko uporabiš ProGED-ovi metodi \"grammar.count_trees\" in \"grammar.count_coverage\". Obema je treba podati začetni neterminalni simbol, ki mora biti objekt nltk.Nonterminal.\n",
    "\n"
   ]
  },
  {
   "cell_type": "code",
   "execution_count": null,
   "metadata": {},
   "outputs": [],
   "source": [
    "from nltk import Nonterminal\n",
    "import matplotlib.pyplot as plt\n",
    "\n"
   ]
  },
  {
   "attachments": {},
   "cell_type": "markdown",
   "metadata": {},
   "source": [
    "## 3. Merske enote\n",
    "\n",
    "Upoštevanje predznanja o merskih enotah spremenljivk nam pogosto lahko močno zmanjša prostor enačb. \n",
    "ProGED nam to omogoča preko formalizma atributnih gramatik, ki jih pretvorimo v navadne konteksno-neodvisne gramatike. Za pogoste tipe gramatik ProGED že implementira njihove dimenzijsko-pravilne različice.\n",
    "Enote predstavimo z vektorji v izbrani bazi osnovnih enot (recimo SI). \n",
    "\n",
    "3.1 Poglej si spodnji primer za Newtonov zakon ter dopolni manjkajoče!\n",
    "\n",
    "Plonkec iz osnovne šole:\n",
    "- Newtonov zakon $ F=m a$\n",
    "- F je sila, z enoto kg*m/s^2\n",
    "- m je masa, z enoto kg\n",
    "- a je pospešek, z enoto m/s^2"
   ]
  },
  {
   "cell_type": "code",
   "execution_count": null,
   "metadata": {},
   "outputs": [],
   "source": [
    "from ProGED.generators.dimensions import construct_dimensional_polynomial_grammar\n",
    "\n",
    "podatki = generiraj_newton(100)\n",
    "\n",
    "spremenljivke = [\"m\", \"a\"]\n",
    "simboli_enot = [\"m\", \"s\", \"kg\"]\n",
    "enote_na_desni = # DOPOLNI\n",
    "enota_na_levi = # DOPOLNI\n",
    "\n",
    "grammar = construct_dimensional_polynomial_grammar(variables = spremenljivke,\n",
    "                                        units = enote_na_desni,\n",
    "                                        target_variable_unit = enota_na_levi,\n",
    "                                        unit_symbols = simboli_enot)\n",
    "\n",
    "grammar"
   ]
  },
  {
   "attachments": {},
   "cell_type": "markdown",
   "metadata": {},
   "source": [
    "Vidimo, da ima gramatika veliko več simbolov in produkcij, kot tiste, ki smo jih pisali na roko. Zdaj uporabimo EqDisco in zgenerirajmo množico enačb."
   ]
  },
  {
   "cell_type": "code",
   "execution_count": null,
   "metadata": {},
   "outputs": [],
   "source": [
    "ED = pg.EqDisco(data=podatki, \n",
    "                lhs_vars=[\"F\"],\n",
    "                rhs_vars=[\"m\", \"a\"],\n",
    "                sample_size=10,\n",
    "                generator = grammar)\n",
    "\n",
    "ED.generate_models()\n"
   ]
  },
  {
   "attachments": {},
   "cell_type": "markdown",
   "metadata": {},
   "source": [
    "3.2. Poglejmo še pod krov, torej atributno gramatiko, ki izraža pravila za računanje z merskimi enotami. Oglej si spodnjo atributno gramatiko za dimenzijsko-pravilne polinome ter premisli, kako bi napisal dimenzijsko-pravilno atributno verzijo gramatik, ki si jih sestavil v nalogi 1.4. "
   ]
  },
  {
   "cell_type": "code",
   "execution_count": null,
   "metadata": {},
   "outputs": [],
   "source": [
    "from ProGED.generators.dimensions import dimensional_attribute_grammar_to_pcfg\n",
    "from nltk import PCFG\n",
    "\n",
    "prods = []\n",
    "prods += [[\"P -> P '+' M\", 0.4, [\"uP1 - uP2\", \"uP1 - uM1\"]]]\n",
    "prods += [[\"P -> M\", 0.6, [\"uP1 - uM1\"]]]\n",
    "prods += [[\"M -> M '*' V\", 0.4, [\"-uM1 + uM2 + uV1\"]]]\n",
    "prods += [[\"M -> V\", 0.4, [\"uM1 - uV1\"]]]\n",
    "prods += [[\"M -> 'C'\", 0.2, [\"uM1\"]]]\n",
    "\n",
    "pcfg_start, pcfg_prods = dimensional_attribute_grammar_to_pcfg(prods, \n",
    "                                                               spremenljivke, \n",
    "                                                               enote_na_desni, \n",
    "                                                               enota_na_levi, \n",
    "                                                               append_vars = True, \n",
    "                                                               unit_symbols = simboli_enot)\n",
    "grammar = pg.GeneratorGrammar(PCFG(pcfg_start, pcfg_prods))\n",
    "grammar"
   ]
  }
 ],
 "metadata": {
  "kernelspec": {
   "display_name": "NSUenv",
   "language": "python",
   "name": "python3"
  },
  "language_info": {
   "codemirror_mode": {
    "name": "ipython",
    "version": 3
   },
   "file_extension": ".py",
   "mimetype": "text/x-python",
   "name": "python",
   "nbconvert_exporter": "python",
   "pygments_lexer": "ipython3",
   "version": "3.11.1"
  },
  "orig_nbformat": 4
 },
 "nbformat": 4,
 "nbformat_minor": 2
}
