{
 "cells": [
  {
   "attachments": {},
   "cell_type": "markdown",
   "metadata": {},
   "source": [
    "# Node2vec\n",
    "\n",
    "Danes bomo\n",
    "\n",
    "1. podatke predstavili kot graf,\n",
    "2. izračunali vpetje vseh vozlišč,\n",
    "3. uporabili vpetja vozlišč, ki pripadajo poslovnim obratom, za napovedovanje vrste obrata.\n",
    "\n",
    "## 1. Pretvorba v graf\n",
    "\n",
    "Uporabili bomo knjižnico `networkx` (ki jo naložimo z ukazom `pip install networkx`).\n",
    "Pri pretvorbi v graf moramo ugotviti, kaj so vozlišča in povezave grafa.\n",
    "\n",
    "Odgovoriti moramo na kar nekaj vprašanj, npr.\n",
    "\n",
    "- Kako predstavimo vrstice iz tabele `business` (stolpci `business_id`, `stars`, `review_count`, `category`)?\n",
    "  - Ali sploh smemo v graf vnesti informacijo o `category` (glede na dogajanje pri točki 2)?\n",
    "  - Kako predstaviti vrednosti za `review_count`?\n",
    "- Kako predstavimo vrstice iz tabele `attributes` (stolpci `business_id`, `name`, `value`)?\n",
    "  - Tukaj je namreč pripadajoča relacija trojiška.\n",
    "- Kako predstaviti vrstice iz tabele `hours` (stolpci `business_id`, `day`, `open time`, `close time`)?\n",
    "   - Dve trojiški relaciji, urejenost po času\n",
    "\n",
    "Če odgovorimo na vse to, bomo vedeli tudi, kako pretvoriti vrstice tabel `review` in `users`."
   ]
  },
  {
   "cell_type": "code",
   "execution_count": 39,
   "metadata": {},
   "outputs": [],
   "source": [
    "import os\n",
    "from typing import List\n",
    "import numpy as np\n",
    "import pandas as pd\n",
    "import networkx as nx\n",
    "from node2vec import Node2Vec\n",
    "from gensim.models import Word2Vec\n",
    "from sklearn.ensemble import RandomForestClassifier\n",
    "from sklearn.model_selection import train_test_split\n",
    "from sklearn.metrics import accuracy_score\n",
    "from sklearn.preprocessing import KBinsDiscretizer\n",
    "\n",
    "\n",
    "def pripona_datoteke(dim, dolzina, stevilo, p, q):\n",
    "    return f\"dim{dim}_dolzina{dolzina}_stevilo{stevilo}_p{p}_q{q}\""
   ]
  },
  {
   "cell_type": "markdown",
   "metadata": {},
   "source": [
    "### Igranje z networkx"
   ]
  },
  {
   "cell_type": "code",
   "execution_count": 40,
   "metadata": {},
   "outputs": [],
   "source": [
    "import networkx as nx\n",
    "\n",
    "g = nx.Graph()\n",
    "# naredi vozlisce, lahko mu dajemo se atributr (..., ime_atributa=vrednost_atributa, ...)\n",
    "g.add_node('oseba Maja')\n",
    "# ustvarjanje povezav\n",
    "g.add_edge('oseba Maja', 'moz karel')"
   ]
  },
  {
   "cell_type": "code",
   "execution_count": 41,
   "metadata": {},
   "outputs": [
    {
     "data": {
      "text/plain": [
       "EdgeView([('oseba Maja', 'moz karel')])"
      ]
     },
     "execution_count": 41,
     "metadata": {},
     "output_type": "execute_result"
    }
   ],
   "source": [
    "g.edges"
   ]
  },
  {
   "attachments": {},
   "cell_type": "markdown",
   "metadata": {},
   "source": [
    "# 1. Pretvorba v graf"
   ]
  },
  {
   "cell_type": "code",
   "execution_count": 42,
   "metadata": {},
   "outputs": [],
   "source": [
    "def diskretiziraj(podatki: pd.DataFrame, atributi: List[str]):\n",
    "    \"\"\"Diskretizira izbrane atribute, ki se nahajajo v podatkih.\"\"\"\n",
    "    pretvornik = KBinsDiscretizer(\n",
    "        n_bins=5,\n",
    "        encode=\"ordinal\",\n",
    "        strategy=\"quantile\"\n",
    "    )\n",
    "    nove_vrednosti = pretvornik.fit_transform(podatki[atributi])\n",
    "    for i, a in enumerate(atributi):\n",
    "        print(i, a, podatki[a].unique(), set(nove_vrednosti[:, i]))\n",
    "        podatki[a] = nove_vrednosti[:, i]"
   ]
  },
  {
   "attachments": {},
   "cell_type": "markdown",
   "metadata": {},
   "source": [
    "## 1. 1 Pretvorba tabele business\n",
    "\n",
    "Večina dela je že narejenega. Popravi kodo tako, da bomo lahko vključili še kakšen numeričen atribut, ki je morda koristen."
   ]
  },
  {
   "cell_type": "code",
   "execution_count": 43,
   "metadata": {},
   "outputs": [],
   "source": [
    "\n",
    "\n",
    "def posodobi_z_business(graf: nx.Graph):\n",
    "    business = pd.read_csv(\"yelp_business.txt\", sep=\"\\t\")\n",
    "    ok_atributi = [\n",
    "        # nekoristno: full_address, city, state, open\n",
    "        # zaenkrat neprimerno za graf: latitude, longitude, review_count\n",
    "        # prevovedano: category\n",
    "        \"stars\", \"review_count\"\n",
    "    ]\n",
    "    diskretiziraj(business, [\"review_count\"])\n",
    "    for _, vrsta in business.iterrows():\n",
    "        vozlisce_b = f\"biznis_{vrsta['business_id']}\"\n",
    "        vozlisca_a = [f\"biznis_atribut_{a}_{vrsta[a]}\" for a in ok_atributi]\n",
    "        povezave = [(vozlisce_b, voz_a) for voz_a in vozlisca_a]\n",
    "        for od, do in povezave:\n",
    "            graf.add_edge(od, do)"
   ]
  },
  {
   "attachments": {},
   "cell_type": "markdown",
   "metadata": {},
   "source": [
    "## 1.2 Pretvorba tabele attributes"
   ]
  },
  {
   "cell_type": "code",
   "execution_count": 44,
   "metadata": {},
   "outputs": [],
   "source": [
    "def posodobi_z_attributes(graf: nx.Graph):\n",
    "    \"\"\"Trojiške relacije zahtevajo ustanovitev 'posebnih vozlišč'\"\"\"\n",
    "    attributes = pd.read_csv(\"yelp_attributes.txt\", sep=\"\\t\")\n",
    "        \n",
    "    for _, vrsta in attributes.iterrows():\n",
    "        vozlisce_b = f\"biznis_{vrsta['business_id']}\"\n",
    "        vozlisce_ime_att = f\"atribut_{vrsta['name']}\"\n",
    "        vozlisce_ime_vrednost_att = f\"atribut_vrednost_{vrsta['name']}_{vrsta['value']}\"\n",
    "        povezave = [\n",
    "            (vozlisce_b, vozlisce_ime_att),\n",
    "            (vozlisce_ime_att, vozlisce_ime_vrednost_att),\n",
    "            (vozlisce_b, vozlisce_ime_vrednost_att)\n",
    "        ]\n",
    "        for od, do in povezave:\n",
    "            graf.add_edge(od, do)\n",
    "    "
   ]
  },
  {
   "attachments": {},
   "cell_type": "markdown",
   "metadata": {},
   "source": [
    "## 1.3 Pretvorba tabele hours"
   ]
  },
  {
   "cell_type": "code",
   "execution_count": 45,
   "metadata": {},
   "outputs": [],
   "source": [
    "def posodobi_z_hours(graf: nx.Graph):\n",
    "    hours = pd.read_csv(\"yelp_hours.txt\", sep=\"\\t\")\n",
    "    for _, vrsta in hours.iterrows():\n",
    "        vozlisce_b = f\"biznis_{vrsta['business_id']}\"\n",
    "        vozlisce_dan = f\"dan_{vrsta['day']}\"\n",
    "        vozlisce_dan_odpri = f\"dan_odpri_{vrsta['day']}_{vrsta['open time']}\"\n",
    "        vozlisce_dan_zapri = f\"dan_zapri_{vrsta['day']}_{vrsta['close time']}\"\n",
    "        povezave = [\n",
    "            (vozlisce_b, vozlisce_dan),\n",
    "            (vozlisce_b, vozlisce_dan_odpri),\n",
    "            (vozlisce_b, vozlisce_dan_zapri),\n",
    "            (vozlisce_dan, vozlisce_dan_odpri),\n",
    "            (vozlisce_dan, vozlisce_dan_zapri)\n",
    "        ]\n",
    "        for od, do in povezave:\n",
    "            graf.add_edge(od, do)\n"
   ]
  },
  {
   "attachments": {},
   "cell_type": "markdown",
   "metadata": {},
   "source": [
    "## 1.4 Pretvorba tabele review"
   ]
  },
  {
   "cell_type": "code",
   "execution_count": 46,
   "metadata": {},
   "outputs": [],
   "source": [
    "def posodobi_z_review(graf: nx.Graph):\n",
    "    reviews = pd.read_csv(\"yelp_review.txt\", sep=\"\\t\")\n",
    "    pass"
   ]
  },
  {
   "attachments": {},
   "cell_type": "markdown",
   "metadata": {},
   "source": [
    "## 1.5 Pretvoraba tabele users"
   ]
  },
  {
   "cell_type": "code",
   "execution_count": 47,
   "metadata": {},
   "outputs": [],
   "source": [
    "def posodobi_z_users(graf: nx.Graph):\n",
    "    users = pd.read_csv(\"yelp_users.txt\", sep=\"\\t\").fillna(-1.0)\n",
    "    pass\n"
   ]
  },
  {
   "cell_type": "code",
   "execution_count": 48,
   "metadata": {},
   "outputs": [],
   "source": [
    "def yelp_to_graph():\n",
    "    graf = nx.Graph()\n",
    "    posodobi_z_business(graf)\n",
    "    posodobi_z_attributes(graf)\n",
    "    posodobi_z_review(graf)\n",
    "    posodobi_z_hours(graf)\n",
    "    posodobi_z_users(graf)\n",
    "    return graf"
   ]
  },
  {
   "attachments": {},
   "cell_type": "markdown",
   "metadata": {},
   "source": [
    "## 2. Izračun vpetij\n",
    "\n",
    "Uporabili bomo knjižnico `node2vec` (ki jo naložimo z ukazom `pip install node2vec`).\n",
    "Algoritem temelji na algoritmu `word2vec`, ki je implementiran v knjižnici `gensim`,\n",
    "ki se bo naložila v sklopu nameščanja knjižnice `node2vec`.\n",
    "\n",
    "Algoritem, kot je vidno spodaj, ima kar nekaj parametrov."
   ]
  },
  {
   "cell_type": "code",
   "execution_count": 49,
   "metadata": {},
   "outputs": [],
   "source": [
    "def pridobi_vlozitev(\n",
    "        graf: nx.Graph,\n",
    "        dim=32,\n",
    "        dolzina_sprehoda=10,\n",
    "        st_sprehodov=200,\n",
    "        p=2,\n",
    "        q=1\n",
    "):\n",
    "    podrobnosti = pripona_datoteke(dim, dolzina_sprehoda, st_sprehodov, p, q)\n",
    "    datoteka_model = f\"node2vec_{podrobnosti}.model\"\n",
    "    datoteka_vektorji = f\"node2vec_{podrobnosti}.csv\"\n",
    "    if not os.path.exists(datoteka_model):\n",
    "        # Precompute probabilities and generate walks\n",
    "        node2vec = Node2Vec(\n",
    "            graf,\n",
    "            dimensions=dim,\n",
    "            walk_length=dolzina_sprehoda,\n",
    "            num_walks=st_sprehodov,\n",
    "            p=p,\n",
    "            q=q,\n",
    "            workers=4\n",
    "        )\n",
    "        # Embed nodes\n",
    "        model = node2vec.fit(window=3, min_count=1, batch_words=50)\n",
    "        # Save for later use\n",
    "        model.wv.save_word2vec_format(datoteka_vektorji)\n",
    "        model.save(datoteka_model)\n",
    "    else:\n",
    "        model = Word2Vec.load(datoteka_model)\n",
    "    # Look for most similar nodes\n",
    "    vozlisca_za_analizo = [\n",
    "        'atribut_Alcohol',\n",
    "        'dan_Monday'\n",
    "    ]\n",
    "    for v in vozlisca_za_analizo:\n",
    "        print(f\"Vozlišču {v} so najbolj podobna\")\n",
    "        for sosed, podobnost in model.wv.most_similar(v):\n",
    "            print(f\"    {sosed} (podobnost: {podobnost:.3f})\")"
   ]
  },
  {
   "attachments": {},
   "cell_type": "markdown",
   "metadata": {},
   "source": [
    "# 3. Naredimo tabelo za učenje\n",
    "\n",
    "- Iz `.csv`-ja preberemo upodobitve\n",
    "- Iz tabele `business` poberemo vrednosti ciljne spremenljivke"
   ]
  },
  {
   "cell_type": "code",
   "execution_count": 50,
   "metadata": {},
   "outputs": [],
   "source": [
    "def naredi_tabelo(\n",
    "        dim=32,\n",
    "        dolzina_sprehoda=10,\n",
    "        st_sprehodov=200,\n",
    "        p=2,\n",
    "        q=1\n",
    "):\n",
    "    businesses = pd.read_csv(\"yelp_business.txt\", sep=\"\\t\")\n",
    "    biznisi = {f\"biznis_{b}\": i for i, b in enumerate(businesses[\"business_id\"])}\n",
    "    category = np.array(businesses[\"category\"])\n",
    "    pripona = pripona_datoteke(dim, dolzina_sprehoda, st_sprehodov, p, q)\n",
    "    datoteka_vektorjev = f\"node2vec_{pripona}.csv\"\n",
    "    with open(datoteka_vektorjev) as f:\n",
    "        n_rows = len(biznisi)\n",
    "        _, n_col = map(int, f.readline().strip().split(\" \"))\n",
    "        matrix = np.zeros((n_rows, n_col))\n",
    "        for row in f:\n",
    "            row = row.split(\" \")\n",
    "            if row[0] in biznisi:\n",
    "                e = [float(x) for x in row[1:]]\n",
    "                matrix[biznisi[row[0]]] = np.array(e)\n",
    "    return matrix, category"
   ]
  },
  {
   "attachments": {},
   "cell_type": "markdown",
   "metadata": {},
   "source": [
    "### Naučimo se modelov"
   ]
  },
  {
   "cell_type": "code",
   "execution_count": 51,
   "metadata": {},
   "outputs": [
    {
     "name": "stdout",
     "output_type": "stream",
     "text": [
      "0 review_count [ 281   11  171   17  494   35   28   71  375    8   47   38   26    4\n",
      "   44    5   25   15   12   14   84   19   13    3   18   10   20    7\n",
      "  280  173   21   63    6    9 1314 1062   39  707   53   22   30   31\n",
      "  274   36  456 1110   24  445  436  275 1355   73   88   49 1085  523\n",
      "   61  144   62   45  104  817  345  810  702  874   60  460   34  562\n",
      " 1289  747 1809 1876 2004  297  962  370 4084 1215 1413 2419  980  531\n",
      "  406  660 2404 1088  485 1497  462 1052 1046  755  114 2791  616 1071\n",
      " 1338  448  745  412  218  578  110  832  720  503  398  187  637 2201\n",
      "  560  820   69   23  234  256  642  533  124  905   66  788   16  105\n",
      "  204  207  519   79   29  743  253   81  109  102  492  154   37   42\n",
      "  889  878  508  288 1076  106  308 3655   40  407  658  454  319   83\n",
      "  772   41   58  718  502 1132   33  147  705  833 1019  790  395  430\n",
      "  383  216  703 1336 2682  837  694  386  646  995  611  361  380  100\n",
      "  663  255  717  655   50 1759  251   48   64  824  321 1657  355 1127\n",
      "  293   57  113  230  313  402  122 1523 3408  735 1830  760  495  626\n",
      "  550 1035  208   55  334  463  524   85 1230   74  650 2369   27   91\n",
      "  185   78   52 1890  142  394  279  384  278  424  130   46   32  282\n",
      "  393  700  222  115   90   65  111] {0.0, 1.0, 2.0, 3.0, 4.0}\n",
      "Končne statistike: 1240, 29028\n"
     ]
    },
    {
     "data": {
      "application/vnd.jupyter.widget-view+json": {
       "model_id": "5571850b517446c6886d65594b668c35",
       "version_major": 2,
       "version_minor": 0
      },
      "text/plain": [
       "Computing transition probabilities:   0%|          | 0/1240 [00:00<?, ?it/s]"
      ]
     },
     "metadata": {},
     "output_type": "display_data"
    },
    {
     "name": "stderr",
     "output_type": "stream",
     "text": [
      "Generating walks (CPU: 1): 100%|██████████| 50/50 [00:04<00:00, 10.67it/s]\n",
      "Generating walks (CPU: 2): 100%|██████████| 50/50 [00:04<00:00, 10.69it/s]\n",
      "Generating walks (CPU: 3): 100%|██████████| 50/50 [00:04<00:00, 10.65it/s]\n",
      "Generating walks (CPU: 4): 100%|██████████| 50/50 [00:04<00:00, 10.79it/s]\n"
     ]
    },
    {
     "name": "stdout",
     "output_type": "stream",
     "text": [
      "Vozlišču atribut_Alcohol so najbolj podobna\n",
      "    atribut_vrednost_touristy_false (podobnost: 0.993)\n",
      "    atribut_trendy (podobnost: 0.992)\n",
      "    atribut_casual (podobnost: 0.990)\n",
      "    atribut_vrednost_divey_false (podobnost: 0.988)\n",
      "    atribut_Has TV (podobnost: 0.988)\n",
      "    atribut_classy (podobnost: 0.987)\n",
      "    atribut_lunch (podobnost: 0.987)\n",
      "    atribut_hipster (podobnost: 0.986)\n",
      "    atribut_vrednost_dessert_false (podobnost: 0.986)\n",
      "    atribut_divey (podobnost: 0.986)\n",
      "Vozlišču dan_Monday so najbolj podobna\n",
      "    dan_Tuesday (podobnost: 0.972)\n",
      "    dan_Wednesday (podobnost: 0.968)\n",
      "    dan_Thursday (podobnost: 0.941)\n",
      "    dan_Friday (podobnost: 0.925)\n",
      "    dan_Saturday (podobnost: 0.736)\n",
      "    dan_zapri_Monday_13:00:00 (podobnost: 0.728)\n",
      "    dan_odpri_Monday_14:00:00 (podobnost: 0.712)\n",
      "    dan_zapri_Monday_16:30:00 (podobnost: 0.689)\n",
      "    dan_zapri_Monday_12:30:00 (podobnost: 0.679)\n",
      "    dan_odpri_Wednesday_14:00:00 (podobnost: 0.664)\n",
      "Točnost: 0.8860759493670886\n"
     ]
    }
   ],
   "source": [
    "yelp_graf = yelp_to_graph()\n",
    "print(f\"Končne statistike: {len(yelp_graf.nodes)}, {len(yelp_graf.edges)}\")\n",
    "pridobi_vlozitev(yelp_graf)\n",
    "xs, y = naredi_tabelo()\n",
    "x0, x1, y0, y1 = train_test_split(\n",
    "    xs,\n",
    "    y,\n",
    "    test_size=0.25,\n",
    "    random_state=1234,\n",
    "    stratify=y\n",
    ")\n",
    "rf = RandomForestClassifier()  # n_estimators=300, max_features=1.0)\n",
    "rf.fit(x0, y0)\n",
    "y_hat = rf.predict(x1)\n",
    "print(\"Točnost:\", accuracy_score(y1, y_hat))"
   ]
  }
 ],
 "metadata": {
  "kernelspec": {
   "display_name": "venv",
   "language": "python",
   "name": "python3"
  },
  "language_info": {
   "codemirror_mode": {
    "name": "ipython",
    "version": 3
   },
   "file_extension": ".py",
   "mimetype": "text/x-python",
   "name": "python",
   "nbconvert_exporter": "python",
   "pygments_lexer": "ipython3",
   "version": "3.11.1"
  },
  "orig_nbformat": 4
 },
 "nbformat": 4,
 "nbformat_minor": 2
}
