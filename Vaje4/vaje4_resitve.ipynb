{
 "cells": [
  {
   "attachments": {},
   "cell_type": "markdown",
   "metadata": {},
   "source": [
    "# Vaje 4 - optimizacija hiperparametrov s knjižnico hyperopt"
   ]
  },
  {
   "attachments": {},
   "cell_type": "markdown",
   "metadata": {},
   "source": [
    "A.1 Hyperopt je nekoliko bolj zapletena optimizacija, zato bomo za začetek poskusili najti x, ki minimizira funkcijo\n",
    "   optimalne f(x) = x^2. Kandidate za ta x bomo iskali na intervalu\n",
    "   a) [-4, 4]\n",
    "   b) [4, 8].\n",
    "Oglejte si se druge moznosti zrebanja po prostoru: https://github.com/hyperopt/hyperopt/wiki/FMin (razdelek 2.1)"
   ]
  },
  {
   "cell_type": "code",
   "execution_count": 52,
   "metadata": {},
   "outputs": [
    {
     "name": "stdout",
     "output_type": "stream",
     "text": [
      "100%|██████████| 50/50 [00:00<00:00, 140.83trial/s, best loss: 16.027318607995404]\n",
      "{'x': 4.003413369612911} 16.027318607995404\n"
     ]
    }
   ],
   "source": [
    "from sklearn.ensemble import RandomForestRegressor\n",
    "from sklearn.linear_model import LinearRegression\n",
    "from sklearn.svm import SVR\n",
    "from hyperopt import hp, tpe, rand, fmin, Trials, space_eval\n",
    "from hyperopt import pyll, base\n",
    "import numpy as np\n",
    "\n",
    "prostorA = {\"x\": hp.uniform(\"x\", -4, 4)}\n",
    "prostorB = {\"x\": hp.uniform(\"x\", 4, 8)}\n",
    "\n",
    "\n",
    "def kriterijska_funkcija(parametri):\n",
    "    x = parametri[\"x\"]\n",
    "    return x ** 2\n",
    "\n",
    "\n",
    "prostor = prostorB\n",
    "N = 50\n",
    "\n",
    "trials = Trials()\n",
    "best = fmin(fn=kriterijska_funkcija,\n",
    "            space=prostor,\n",
    "            algo=tpe.suggest,  # rand.suggest,\n",
    "            max_evals=N,\n",
    "            trials=trials)\n",
    "\n",
    "best = space_eval(prostor, best)\n",
    "best_value = kriterijska_funkcija(best)\n",
    "# vse vrednosti paramtrov in kriterijske funkcije, ki smo jih preizkusili\n",
    "xs = [trial[\"misc\"][\"vals\"][\"x\"][0] for trial in trials.trials]\n",
    "ys = [trial[\"result\"][\"loss\"] for trial in trials.trials]\n",
    "print(best, best_value)"
   ]
  },
  {
   "attachments": {},
   "cell_type": "markdown",
   "metadata": {},
   "source": [
    "A.2 Pogosto je treba najti več kot en optimalni parameter. Minimiziraj funkcijo $f(x, y) = (x - y)^2 + (y - 1)^2$.\n",
    "   Prostora ne preiskuj enakomerno, ampak z normalno porazdelitvijo."
   ]
  },
  {
   "cell_type": "code",
   "execution_count": 56,
   "metadata": {},
   "outputs": [
    {
     "name": "stdout",
     "output_type": "stream",
     "text": [
      "100%|██████████| 100/100 [00:00<00:00, 163.30trial/s, best loss: 0.0013624144551192083]\n",
      "{'x': 1.041887218845584, 'y': 1.0053688718036493} 0.0013624144551192083\n"
     ]
    }
   ],
   "source": [
    "prostor_xy = {\"x\": hp.normal(\"x\", 0, 3), \"y\": hp.normal(\"y\", 0, 3)}\n",
    "\n",
    "def kriterijska_funkcija_1(parametri):\n",
    "    x = parametri[\"x\"]\n",
    "    y = parametri[\"y\"]\n",
    "    return (x - y) ** 2 + (y - 1) ** 2.\n",
    "\n",
    "N = 100\n",
    "trials = Trials()\n",
    "best = fmin(fn=kriterijska_funkcija_1,\n",
    "            space=prostor_xy,\n",
    "            algo=tpe.suggest,  # rand.suggest\n",
    "            max_evals=N,\n",
    "            trials=trials)\n",
    "\n",
    "best = space_eval(prostor_xy, best)\n",
    "best_value = kriterijska_funkcija_1(best)\n",
    "print(best, best_value)"
   ]
  },
  {
   "attachments": {},
   "cell_type": "markdown",
   "metadata": {},
   "source": [
    "A.3. Včasih moramo izvesti tudi diskretno izbiro, npr. ko izbiramo algoritem. Za spodnje podatke najdi najprimernejsi\n",
    "   algoritem. Izbiraj med kNN, odlocitvenim drevesom in metodo podpornih vektorjev."
   ]
  },
  {
   "cell_type": "code",
   "execution_count": 86,
   "metadata": {},
   "outputs": [],
   "source": [
    "n_primerov = 1000\n",
    "n_znacilk = 5\n",
    "\n",
    "x = np.random.rand(n_primerov, n_znacilk)\n",
    "y = np.dot(x, list(range(n_znacilk)))\n",
    "\n",
    "povprecje = np.mean(y)\n",
    "pozitivni = y >= povprecje\n",
    "y[pozitivni] = 1\n",
    "y[~pozitivni] = 0"
   ]
  },
  {
   "cell_type": "code",
   "execution_count": 91,
   "metadata": {},
   "outputs": [
    {
     "name": "stdout",
     "output_type": "stream",
     "text": [
      "100%|██████████| 10/10 [00:00<00:00, 37.69trial/s, best loss: 0.050000000000000044]\n",
      "[{'algo': [0]}, {'algo': [1]}, {'algo': [2]}, {'algo': [2]}, {'algo': [1]}, {'algo': [0]}, {'algo': [2]}, {'algo': [1]}, {'algo': [1]}, {'algo': [2]}]\n",
      "[0.09999999999999998, 0.135, 0.050000000000000044, 0.050000000000000044, 0.12, 0.09999999999999998, 0.050000000000000044, 0.14, 0.135, 0.050000000000000044]\n",
      "{'algo': 'svm'} 0.050000000000000044\n"
     ]
    }
   ],
   "source": [
    "from sklearn.model_selection import train_test_split\n",
    "from sklearn.neighbors import KNeighborsClassifier\n",
    "from sklearn.tree import DecisionTreeClassifier\n",
    "from sklearn.svm import SVC\n",
    "from sklearn.metrics import accuracy_score\n",
    "\n",
    "prostor_algo = {\"algo\": hp.choice(\"algo\", [\"knn\", \"drevo\", \"svm\"])}\n",
    "\n",
    "np.random.seed(0)\n",
    "x_ucna, x_testna, y_ucna, y_testna = train_test_split(x, y, test_size=0.2)\n",
    "\n",
    "\n",
    "def kriterijska_funkcija_algo(parametri):\n",
    "    a = parametri[\"algo\"]\n",
    "    if a == \"knn\":\n",
    "        model = KNeighborsClassifier()\n",
    "    elif a == \"drevo\":\n",
    "        model = DecisionTreeClassifier()\n",
    "    elif a == \"svm\":\n",
    "        model = SVC()\n",
    "    else:\n",
    "        raise ValueError(f\"Napacen algoritem: {a}\")\n",
    "    model.fit(x_ucna, y_ucna)\n",
    "    y_napoved = model.predict(x_testna)\n",
    "    return 1 - accuracy_score(y_testna, y_napoved)\n",
    "\n",
    "N = 10\n",
    "trials = Trials()\n",
    "best = fmin(fn=kriterijska_funkcija_algo,\n",
    "            space=prostor_algo,\n",
    "            algo=tpe.suggest,  # rand.suggest\n",
    "            max_evals=N,\n",
    "            trials=trials)\n",
    "\n",
    "best = space_eval(prostor_algo, best)\n",
    "best_value = kriterijska_funkcija_algo(best)\n",
    "\n",
    "xs = [trial[\"misc\"][\"vals\"] for trial in trials]\n",
    "acc = [trial[\"result\"][\"loss\"] for trial in trials]\n",
    "print(xs)\n",
    "print(acc)\n",
    "print(best, best_value)\n"
   ]
  },
  {
   "attachments": {},
   "cell_type": "markdown",
   "metadata": {},
   "source": [
    "3. Poleg samega algoritma želimo iskati tudi optimalne vrednosti hiperparametrov. Seveda so hiperparametri odvisni od\n",
    "   samega algoritma, zato je preiskovani prostor treba definirati gnezdeno, kot kaze primer.\n",
    "   Razsiri preiskovani prostor tako, da dodas se kaksen parameter. Priporocamo, da jih poimenujes tako, kot so\n",
    "   poimenovani pripadajoci argumenti v konstruktorju za dani model (npr. eden od parametrov za drevo je max_depth,\n",
    "   ki pove, katera je najvecja dovoljena globina drevesa)\n",
    "\n",
    "   Razsiri gnezdeni_prostor_spodaj."
   ]
  },
  {
   "cell_type": "code",
   "execution_count": 3,
   "metadata": {},
   "outputs": [],
   "source": [
    "gnezdeni_prostor = {\n",
    "    \"algo\": hp.choice('algo', [\n",
    "        {\n",
    "            'ime': 'drevo',\n",
    "            'max_depth': hp.choice('max_depth', [2, 4, 8, 16, 32]),\n",
    "            'criterion': hp.choice('criterion', [\"gini\", \"entropy\"]),\n",
    "            'min_samples_split': hp.qloguniform('min_samples_split', 1, 8, 1)\n",
    "            # dodaj se kak parameter :)\n",
    "        },\n",
    "        {\n",
    "            'ime': 'knn',\n",
    "            'n_neighbors': hp.choice(\"n_neighbors\", [1, 2, 3, 4, 5, 10, 15])\n",
    "        },\n",
    "        {\n",
    "            'ime': 'svm',\n",
    "            'C': hp.lognormal('C', 0, 1),\n",
    "            'kernel': hp.choice('kernel', [\n",
    "                {\n",
    "                    'tip': 'linear'  # linearno\n",
    "                },\n",
    "                {\n",
    "                    'tip': 'rbf',  # radialno\n",
    "                    'gamma': hp.lognormal('gamma', 0, 1)\n",
    "                },\n",
    "                {\n",
    "                    'tip': 'poly',  # polinomsko\n",
    "                    'degree': hp.choice(\"degree\", [1, 2, 3])\n",
    "                }\n",
    "            ]),\n",
    "        },\n",
    "    ])\n",
    "}"
   ]
  },
  {
   "attachments": {},
   "cell_type": "markdown",
   "metadata": {},
   "source": [
    "4. Kako dobre so prednastavljene vrednosti? Primerjaj rezultate, ki jih dobis s preiskovanjem prostorov\n",
    "   - prostor_algo (tu bodo pri algoritmih vedno uporabljene prednastavljene vrednosti)\n",
    "   - gnezdeni_prostor\n",
    "\n",
    "   Kateri algoritem (in katera konfiguracija parametrov) je najboljsa za dane podatke?\n",
    "   Preizkusi na vseh treh moznih podatkovjih."
   ]
  },
  {
   "cell_type": "code",
   "execution_count": 93,
   "metadata": {},
   "outputs": [
    {
     "name": "stdout",
     "output_type": "stream",
     "text": [
      "100%|██████████| 10/10 [00:00<00:00, 28.56trial/s, best loss: 0.13]\n",
      "100%|██████████| 500/500 [00:24<00:00, 20.79trial/s, best loss: 0.08999999999999997]\n",
      "Privzete vrednosti\n",
      "{'algo': 'svm'} 0.13\n",
      "\n",
      "Optimizirane vrednosti\n",
      "{'algo': {'criterion': 'entropy', 'ime': 'drevo', 'max_depth': 32, 'min_samples_split': 512.0}} 0.08999999999999997\n"
     ]
    }
   ],
   "source": [
    "\n",
    "def izracunaj_y(xs, tip_podatkov):\n",
    "    if tip_podatkov not in [1, 2, 3]:\n",
    "        raise ValueError(\"Tip podatkov mora biti element [1, 2, 3].\")\n",
    "    if tip_podatkov == 1:\n",
    "        r = list(range(xs.shape[1]))\n",
    "        cs = np.array(r).reshape((-1, 1))\n",
    "        ys = np.dot(xs, cs).reshape((-1,))\n",
    "        poz = ys >= np.mean(ys)\n",
    "        ys = np.array([\"a\" if p else \"b\" for p in poz])\n",
    "    elif tip_podatkov == 2:\n",
    "        group1 = xs[:, 1] > 0.5\n",
    "        group2 = (xs[:, 1] <= 0.5) & (xs[:, 2] > 0.2)\n",
    "        group3 = (xs[:, 1] <= 0.5) & (xs[:, 2] <= 0.2)\n",
    "        ys = np.zeros(xs.shape[0], dtype=str)\n",
    "        ys[group1] = \"a\"\n",
    "        ys[group2] = \"b\"\n",
    "        ys[group3] = \"c\"\n",
    "    else:\n",
    "        circle = np.sum(np.square(xs), axis=1) > 0.4\n",
    "        ys = np.zeros(xs.shape[0], dtype=str)\n",
    "        ys[circle] = \"a\"\n",
    "        ys[~circle] = \"b\"\n",
    "    return ys\n",
    "\n",
    "\n",
    "def pripravi_podatke(n_ucna, n_test, n_znacilke, p_sum, tip_podatkov):\n",
    "    x = np.random.rand(n_ucna + n_test, n_znacilke)\n",
    "    y = izracunaj_y(x, tip_podatkov)\n",
    "    vrednosti = list(set(y))\n",
    "    for i in range(len(y)):\n",
    "        # zamenjamo vrednost\n",
    "        if np.random.rand(1) < p_sum:\n",
    "            i0 = vrednosti.index(y[i])\n",
    "            y[i] = vrednosti[(i0 + 1) % len(vrednosti)]\n",
    "    x_ucna = x[:n_ucna]\n",
    "    y_ucna = y[:n_ucna]\n",
    "    x_test = x[n_ucna:]\n",
    "    y_test = y[n_ucna:]\n",
    "    return x_ucna, x_test, y_ucna, y_test\n",
    "\n",
    "\n",
    "x_ucna, x_testna, y_ucna, y_testna = pripravi_podatke(1000, 200, 5, 0.1, 2)\n",
    "\n",
    "def kriterijska_funkcija_privzete(parametri):\n",
    "    a = parametri[\"algo\"]\n",
    "    if a == \"knn\":\n",
    "        model = KNeighborsClassifier()\n",
    "    elif a == \"drevo\":\n",
    "        model = DecisionTreeClassifier()\n",
    "    elif a == \"svm\":\n",
    "        model = SVC()\n",
    "    else:\n",
    "        raise ValueError(f\"Napacen algoritem: {a}\")\n",
    "    model.fit(x_ucna, y_ucna)\n",
    "    y_napoved = model.predict(x_testna)\n",
    "    return 1 - accuracy_score(y_testna, y_napoved)\n",
    "\n",
    "def kriterijska_funkcija_razsirjeno(parametri):\n",
    "    a = parametri[\"algo\"]\n",
    "    ime_algoritma = a[\"ime\"]\n",
    "    if ime_algoritma == \"knn\":\n",
    "        model = KNeighborsClassifier(n_neighbors=a[\"n_neighbors\"])\n",
    "    elif ime_algoritma == \"drevo\":\n",
    "        model = DecisionTreeClassifier(criterion=a[\"criterion\"], \n",
    "                                       max_depth=a[\"max_depth\"], \n",
    "                                       min_samples_split=int(a[\"min_samples_split\"]))\n",
    "    elif ime_algoritma == \"svm\":\n",
    "        C = a[\"C\"]\n",
    "        kernel = a[\"kernel\"][\"tip\"]\n",
    "        # gamma in degree moramo definirati v vseh treh primerih: tam, kjer nista vazni, ju damo na 1\n",
    "        neumna_vrednost = 1\n",
    "        if kernel == \"rbf\":\n",
    "            gamma = a[\"kernel\"][\"gamma\"]\n",
    "            degree = neumna_vrednost\n",
    "        elif kernel == \"linear\":\n",
    "            degree = neumna_vrednost\n",
    "            gamma = neumna_vrednost\n",
    "        else:\n",
    "            gamma = neumna_vrednost\n",
    "            degree = a[\"kernel\"][\"degree\"]\n",
    "        model = SVC(kernel=kernel, gamma=gamma, C=C, degree=degree)\n",
    "    else:\n",
    "        raise ValueError(\"Napacne nastavitve!\")\n",
    "    model.fit(x_ucna, y_ucna)\n",
    "    y_hat = model.predict(x_testna)\n",
    "    return 1 - accuracy_score(y_testna, y_hat)\n",
    "\n",
    "\n",
    "\n",
    "trials_privzete = Trials()\n",
    "best_privzete = fmin(fn=kriterijska_funkcija_privzete,\n",
    "            space=prostor_algo,\n",
    "            algo=tpe.suggest,\n",
    "            max_evals=10,\n",
    "            trials=trials_privzete)\n",
    "best_privzete = space_eval(prostor_algo, best_privzete)\n",
    "best_value_privzete = kriterijska_funkcija_privzete(best_privzete)\n",
    "\n",
    "trials = Trials()\n",
    "best = fmin(fn=kriterijska_funkcija_razsirjeno,\n",
    "            space=gnezdeni_prostor,\n",
    "            algo=tpe.suggest,\n",
    "            max_evals=500,\n",
    "            trials=trials)\n",
    "best = space_eval(gnezdeni_prostor, best)\n",
    "best_value = kriterijska_funkcija_razsirjeno(best)\n",
    "\n",
    "\n",
    "print(\"Privzete vrednosti\")\n",
    "print(best_privzete, best_value_privzete)\n",
    "print(\"\\nOptimizirane vrednosti\")\n",
    "print(best, best_value)\n",
    "\n"
   ]
  },
  {
   "cell_type": "code",
   "execution_count": null,
   "metadata": {},
   "outputs": [],
   "source": []
  }
 ],
 "metadata": {
  "kernelspec": {
   "display_name": "base",
   "language": "python",
   "name": "python3"
  },
  "language_info": {
   "codemirror_mode": {
    "name": "ipython",
    "version": 3
   },
   "file_extension": ".py",
   "mimetype": "text/x-python",
   "name": "python",
   "nbconvert_exporter": "python",
   "pygments_lexer": "ipython3",
   "version": "3.7.4"
  },
  "orig_nbformat": 4
 },
 "nbformat": 4,
 "nbformat_minor": 2
}