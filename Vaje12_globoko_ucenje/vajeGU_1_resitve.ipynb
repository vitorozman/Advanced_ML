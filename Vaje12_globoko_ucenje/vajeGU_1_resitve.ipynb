{
 "cells": [
  {
   "attachments": {},
   "cell_type": "markdown",
   "metadata": {},
   "source": [
    "# Globoko učenje, vaje 1\n",
    "## 1. Nevronske mreže s knjižnico pytorch"
   ]
  },
  {
   "attachments": {},
   "cell_type": "markdown",
   "metadata": {},
   "source": [
    "### 1.1 Instalacija\n",
    "PyTorch je trenutno verjetno najpopularnejša knjižnica za delo z nevronskimi mrežami. Za instalacijo najprej aktivirajmo pythonovo okolje, ki ga uporabljamo za vaje (navigiramo v mapo okolja, podmapa Scripts, ter v ukazni vrstici kličemo **activate**). Instalirajmo osnoven paket pytorcha ter različico za grafovske nevronske mreže: **pip install torch torch-geometric**."
   ]
  },
  {
   "attachments": {},
   "cell_type": "markdown",
   "metadata": {},
   "source": [
    "### 1.2 Nalaganje podatkov\n",
    "Vajam so priložene datoteke s podatki o znanstvenih člankih. Vsak od njih je opisan s frekvencami posameznih besed (bag-of-words pristop), ki so podane v datoteki **podatki1_x.txt**. Vsak članek je kategoriziran v eno izmed sedmih znanstvenih področij. Razredi so podani v **podatki1_y.txt**. Poleg tega so podatki že razdeljeni v učno in testno množico. Datoteka \"podatki1_train_mask.txt\" podaja binarne vrednosti, ki povedo, ali je primer v učni množici.\n",
    "\n",
    "Naloži vse tri, najlažje z uporabo **np.loadtxt**, ter si jih oglej."
   ]
  },
  {
   "cell_type": "code",
   "execution_count": 1,
   "metadata": {},
   "outputs": [],
   "source": [
    "import numpy as np\n",
    "\n",
    "X = np.loadtxt(\"podatki1_x.txt\")\n",
    "y = np.loadtxt(\"podatki1_y.txt\")\n",
    "train = np.loadtxt(\"podatki1_train_mask.txt\")\n",
    "\n",
    "n_znacilk = X.shape[1]\n",
    "n_razredov = len(np.unique(y))"
   ]
  },
  {
   "attachments": {},
   "cell_type": "markdown",
   "metadata": {},
   "source": [
    "Pytorch za predstavitev podatkov uporablja svoj razred Tensor (**torch.tensor**), v katerega moramo pretvoriti svoje podatke. Prav tako moramo zagotoviti, da so podatki pravega tipa - značilke so realna števila (**float**), razredi so celoštevilski (**long**), učna in testna maska pa sta binarni (**bool**). Poskrbi za ustrezno pretvorbo podatkov."
   ]
  },
  {
   "cell_type": "code",
   "execution_count": null,
   "metadata": {},
   "outputs": [],
   "source": [
    "import torch\n",
    "\n",
    "x_data = torch.tensor(X).float()\n",
    "y_data = torch.tensor(y).long()\n",
    "train_mask = torch.tensor(train).bool()\n",
    "test_mask = torch.tensor(np.logical_not(train)).bool()\n"
   ]
  },
  {
   "attachments": {},
   "cell_type": "markdown",
   "metadata": {},
   "source": [
    "### 1.3 Sestavljanje nevronske mreže\n",
    "\n",
    "Mrežo implementiramo kot razred, ki deduje po **torch.nn.Module**. Definirati mora metodi **__init__**, v kateri inicializiramo vse gradnike, ter **forward** ki opisuje potek izračuna v naši mreži. Ključni elementi:\n",
    "- Linear: polno povezana plast, osnovni gradnik navadnih nevronskih mrež. Podati ji moramo dimenzije vhoda in izhoda, pri čemer se mora izhod n-te plasti ujemati z vhodom n+1-te plasti. Vhod prve plasti je število značilk, izhod zadnje plasti pa število razredov.\n",
    "- relu: Rectified Linear Unit - aktivacijska funkcija, ki mreži daje nelinearnost. Aktivacijske funkcije postavljamo za posamezne plasti, pomembno pa je, da je ne postavimo pred izhod, saj bi nam pokvarila napovedi.\n",
    "- dropout: element, ki pri treniranju zavrže del nevronov v posamezni plasti (delež p), s čimer se borimo proti preprileganju.\n",
    "\n",
    "Dopolni definicijo nevronske mreže!"
   ]
  },
  {
   "cell_type": "code",
   "execution_count": 23,
   "metadata": {},
   "outputs": [],
   "source": [
    "from torch.nn import Linear\n",
    "import torch.nn.functional as F\n",
    "\n",
    "\n",
    "class MLP(torch.nn.Module):\n",
    "    def __init__(self, n_skritih):\n",
    "        super().__init__()\n",
    "        torch.manual_seed(12345)\n",
    "        self.lin1 = Linear(n_znacilk, n_skritih)\n",
    "        self.lin2 = Linear(n_skritih, n_skritih)\n",
    "        self.lin3 = Linear(n_skritih, n_razredov)\n",
    "\n",
    "    def forward(self, x):\n",
    "        x = self.lin1(x)\n",
    "        x = x.relu()\n",
    "        x = F.dropout(x, p=0.5, training=self.training)\n",
    "        x = self.lin2(x)\n",
    "        x = x.relu()\n",
    "        x = F.dropout(x, p=0.5, training=self.training)\n",
    "        x = self.lin3(x)\n",
    "        return x\n"
   ]
  },
  {
   "attachments": {},
   "cell_type": "markdown",
   "metadata": {},
   "source": [
    "### 1.4 Treniranje nevronske mreže\n",
    "\n",
    "V knjižnici pytorch moramo učno zanko napisati sami. Za začetek potrebujemo naslednje elemente:\n",
    "- model (instanca mreže, ki smo jo definirali zgoraj)\n",
    "- kriterijska funkcija, ki na podlagi napovedi mreže in pravih vrednosti izračuna napako. Uporabili bomo prečno entropijo (**torch.nn.CrossEntropyLoss**).\n",
    "- optimizator. Uporabili bomo Adam (**torch.optim.Adam**). Podati mu moramo parametre mreže, ki jih dobimo z **model.parameters()**, dobro pa je definirati tudi hitrost učenja (npr. **lr=0.01**) in parameter L2 regularizacije (npr. **weight_decay=0.0005**). "
   ]
  },
  {
   "cell_type": "code",
   "execution_count": 31,
   "metadata": {},
   "outputs": [],
   "source": [
    "model = MLP(n_skritih=16)\n",
    "kriterijska_funkcija = torch.nn.CrossEntropyLoss()  \n",
    "optimizator = torch.optim.Adam(model.parameters(), lr=0.01, weight_decay=5e-4)  "
   ]
  },
  {
   "attachments": {},
   "cell_type": "markdown",
   "metadata": {},
   "source": [
    "Koraki učne zanke so sledeči:\n",
    "1. s klicem funkcije **zero_grad()** optimizatorja postavimo odvode na nič\n",
    "2. učne podatke pošljemo skozi mrežo (**model(podatki)**) ter si shranimo rezultat\n",
    "3. na podlagi rezultata in pravih vrednosti izračunamo napako s kriterijsko funkcijo\n",
    "4. izračunamo odvode s klicem **backward()** napake\n",
    "5. posodobimo parametre mreže na podlagi odvodov s klicem **step()** optimizatorja\n",
    "\n",
    "Pomembno je še, da pred začetkom treniranja modelu povemo, da je čas za treniranje s klicem model.train(). Razlog je, da se dropout uporablja samo med treniranjem, ne pa med evaluacijo in uporabo mreže.\n",
    "\n",
    "Dopolni!"
   ]
  },
  {
   "cell_type": "code",
   "execution_count": 34,
   "metadata": {},
   "outputs": [
    {
     "name": "stdout",
     "output_type": "stream",
     "text": [
      "Epoch: 010, Loss: 1.7228\n",
      "Epoch: 020, Loss: 1.2460\n",
      "Epoch: 030, Loss: 0.9749\n",
      "Epoch: 040, Loss: 0.8719\n",
      "Epoch: 050, Loss: 0.8392\n",
      "Epoch: 060, Loss: 0.8115\n",
      "Epoch: 070, Loss: 0.6376\n",
      "Epoch: 080, Loss: 0.5263\n",
      "Epoch: 090, Loss: 0.5820\n",
      "Epoch: 100, Loss: 0.5041\n",
      "Epoch: 110, Loss: 0.4689\n",
      "Epoch: 120, Loss: 0.6011\n",
      "Epoch: 130, Loss: 0.6125\n",
      "Epoch: 140, Loss: 0.4876\n",
      "Epoch: 150, Loss: 0.4457\n",
      "Epoch: 160, Loss: 0.4897\n",
      "Epoch: 170, Loss: 0.4987\n",
      "Epoch: 180, Loss: 0.4558\n",
      "Epoch: 190, Loss: 0.4637\n",
      "Epoch: 200, Loss: 0.4475\n"
     ]
    }
   ],
   "source": [
    "def train():\n",
    "      optimizator.zero_grad()  \n",
    "      out = model(x_data[train_mask])  \n",
    "      napaka = kriterijska_funkcija(out, y_data[train_mask]) \n",
    "      napaka.backward()  \n",
    "      optimizator.step() \n",
    "      return napaka\n",
    "\n",
    "\n",
    "model.train()\n",
    "for epoch in range(1, 201):\n",
    "    loss = train()\n",
    "    if epoch%10 == 0:\n",
    "      print(f'Epoch: {epoch:03d}, Loss: {loss:.4f}')"
   ]
  },
  {
   "attachments": {},
   "cell_type": "markdown",
   "metadata": {},
   "source": [
    "### 1.5 Evaluacija nevronske mreže\n",
    "\n",
    "Ko smo mrežo natrenirali, želimo izračunati še njeno napako na testni množici. Pri tem:\n",
    "- prej mreži povemo, da je čas za evaluacijo s klicem **model.eval()**,\n",
    "- pošljemo testne podatke skozi mrežo in si shranimo rezultat\n",
    "\n",
    "Oglej si izhod iz mreže in premisli, kaj pomeni. Potem izračunaj testno natačnost. V pomoč ti bo funkcija **argmax(dim=1)** rezultata."
   ]
  },
  {
   "cell_type": "code",
   "execution_count": 27,
   "metadata": {},
   "outputs": [
    {
     "name": "stdout",
     "output_type": "stream",
     "text": [
      "Testna natancnost: 0.5152\n"
     ]
    }
   ],
   "source": [
    "model.eval()\n",
    "out = model(x_data)\n",
    "pred = out.argmax(dim=1) \n",
    "test_correct = pred[test_mask] == y_data[test_mask]  \n",
    "test_acc = int(test_correct.sum()) / int(test_mask.sum())  \n",
    "\n",
    "print(f'Testna natancnost: {test_acc:.4f}')"
   ]
  },
  {
   "attachments": {},
   "cell_type": "markdown",
   "metadata": {},
   "source": [
    "Kako dobra je natančnost mreže? Za primerjavo izračunaj še testno napako modela, ki vedno napove najpogostejši razred, ali pa naključnega."
   ]
  },
  {
   "cell_type": "code",
   "execution_count": 46,
   "metadata": {},
   "outputs": [
    {
     "name": "stdout",
     "output_type": "stream",
     "text": [
      "Natancnost naivnega:  0.12889408099688474\n"
     ]
    }
   ],
   "source": [
    "najpogostejsi = np.argmax(np.bincount(y_data[train_mask]))\n",
    "pravilni = najpogostejsi == y_data[test_mask]\n",
    "print(\"Natancnost naivnega: \", int(pravilni.sum())/int(test_mask.sum()))"
   ]
  },
  {
   "attachments": {},
   "cell_type": "markdown",
   "metadata": {},
   "source": [
    "## 2. Grafovske nevronske mreže s knjižnico torch-geometric"
   ]
  },
  {
   "attachments": {},
   "cell_type": "markdown",
   "metadata": {},
   "source": [
    "Za grafovske nevronske mreže bomo uprabili paket **torch-geometric**, krajše imenovan pyG. Delali bomo z istimi podatki o znanstvenih člankih, vendar bomo tokrat uporabili še informacijo o citatih, ki je podana v obliki grafa. Vsak članek je vozlišče na grafu, vozlišča pa sta povezana, če je eden izmed člankov citiral drugega. Ideja je, so članki, ki se citirajo, verjetno iz istega področja. \n",
    "\n",
    "### 2.1 Nalaganje podatkov\n",
    "\n",
    "Uporabili bomo iste podatke kot prej, le da tokrat potrebujemo še **podatki1_povezave.txt**, ki ga lahko prav tako naložiš z **np.loadtxt**. Oglej si, v kakšni obliki so povezave podane, potem pa jih spremeni v torch.tensor celoštevilskega tipa."
   ]
  },
  {
   "cell_type": "code",
   "execution_count": 4,
   "metadata": {},
   "outputs": [
    {
     "data": {
      "text/plain": [
       "tensor([[   0,    0,    0,  ..., 2707, 2707, 2707],\n",
       "        [ 633, 1862, 2582,  ...,  598, 1473, 2706]])"
      ]
     },
     "execution_count": 4,
     "metadata": {},
     "output_type": "execute_result"
    }
   ],
   "source": [
    "povezave = np.loadtxt(\"podatki1_povezave.txt\")\n",
    "povezave = torch.tensor(povezave).long()\n",
    "\n",
    "povezave"
   ]
  },
  {
   "attachments": {},
   "cell_type": "markdown",
   "metadata": {},
   "source": [
    "Zdaj sicer imamo vse kar potrebujemo, ampak za ilustracijo poglejmo še pyG-jev objekt Data, ki nam lahko pove kup uporabnih informacij o grafu."
   ]
  },
  {
   "cell_type": "code",
   "execution_count": 35,
   "metadata": {},
   "outputs": [
    {
     "name": "stdout",
     "output_type": "stream",
     "text": [
      "Število vozlišč: 2708\n",
      "Število povezav: 10556\n",
      "Povprečno število povezav na vozlišče: 3.90\n",
      "Izolirana vozlišča: False\n",
      "Self-loops: False\n",
      "Neusmerjen: True\n"
     ]
    }
   ],
   "source": [
    "from torch_geometric.data import Data\n",
    "\n",
    "\n",
    "data = Data(x=x_data, y=y_data, edge_index=povezave)\n",
    "\n",
    "print(f'Število vozlišč: {data.num_nodes}')\n",
    "print(f'Število povezav: {data.num_edges}')\n",
    "print(f'Povprečno število povezav na vozlišče: {data.num_edges / data.num_nodes:.2f}')\n",
    "print(f'Izolirana vozlišča: {data.has_isolated_nodes()}')\n",
    "print(f'Self-loops: {data.has_self_loops()}')\n",
    "print(f'Neusmerjen: {data.is_undirected()}')"
   ]
  },
  {
   "attachments": {},
   "cell_type": "markdown",
   "metadata": {},
   "source": [
    "### 2.2 Sestavljanje grafovske nevronske mreže\n",
    "\n",
    "Definicija mreže bo zelo podobna tisti v 1.3. Namesto polno povezanih linearnih plasti bomo uporabili grafovske konvolucijske plasti **GCNConv**, ki jih inicializiramo enako kot prej. Razlika pa je, da jim pri izračunu poleg značilk podamo tudi povezave grafa.\n",
    "\n",
    "Dopolni!"
   ]
  },
  {
   "cell_type": "code",
   "execution_count": 53,
   "metadata": {},
   "outputs": [],
   "source": [
    "from torch_geometric.nn import GCNConv\n",
    "import torch.nn.functional as F\n",
    "\n",
    "class GCN(torch.nn.Module):\n",
    "    def __init__(self, n_skritih):\n",
    "        super().__init__()\n",
    "        torch.manual_seed(0)\n",
    "        self.conv1 = GCNConv(n_znacilk, n_skritih)\n",
    "        self.conv2 = GCNConv(n_skritih, n_razredov)\n",
    "\n",
    "    def forward(self, x, edge_index):\n",
    "        x = self.conv1(x, edge_index)\n",
    "        x = x.relu()\n",
    "        x = F.dropout(x, p=0.5, training=self.training)\n",
    "        x = self.conv2(x, edge_index)\n",
    "        return x\n"
   ]
  },
  {
   "attachments": {},
   "cell_type": "markdown",
   "metadata": {},
   "source": [
    "### 2.3 Treniranje grafovske nevronske mreže\n",
    "\n",
    "Koda za naše grafovske nevronske mreže je skoraj enaka kot pri navadni nevronski mreži, le da mreži podamo še graf. Pomembna razlika pa je, da moramo tokrat modelu podati vse podatke za izračun, ne samo učne množice, sicer ne more uporabiti celotnega grafa in vrže napako. Seveda pa pri izračunu napake upoštevamo samo učno množico.\n",
    "\n",
    "Natreniraj svojo grafovsko nevronsko mrežo!"
   ]
  },
  {
   "attachments": {},
   "cell_type": "markdown",
   "metadata": {},
   "source": [
    "### 2.3 Treniranje grafovske nevronske mreže"
   ]
  },
  {
   "cell_type": "code",
   "execution_count": 55,
   "metadata": {},
   "outputs": [
    {
     "name": "stdout",
     "output_type": "stream",
     "text": [
      "Epoch: 010, Loss: 0.0239\n",
      "Epoch: 020, Loss: 0.0239\n",
      "Epoch: 030, Loss: 0.0239\n",
      "Epoch: 040, Loss: 0.0239\n",
      "Epoch: 050, Loss: 0.0239\n",
      "Epoch: 060, Loss: 0.0239\n",
      "Epoch: 070, Loss: 0.0239\n",
      "Epoch: 080, Loss: 0.0239\n",
      "Epoch: 090, Loss: 0.0239\n",
      "Epoch: 100, Loss: 0.0239\n",
      "Epoch: 110, Loss: 0.0239\n",
      "Epoch: 120, Loss: 0.0239\n",
      "Epoch: 130, Loss: 0.0239\n",
      "Epoch: 140, Loss: 0.0239\n",
      "Epoch: 150, Loss: 0.0239\n",
      "Epoch: 160, Loss: 0.0239\n",
      "Epoch: 170, Loss: 0.0239\n",
      "Epoch: 180, Loss: 0.0239\n",
      "Epoch: 190, Loss: 0.0239\n",
      "Epoch: 200, Loss: 0.0239\n"
     ]
    }
   ],
   "source": [
    "model = GCN(n_skritih=16)\n",
    "kriterijska_funkcija = torch.nn.CrossEntropyLoss()  \n",
    "optimizator = torch.optim.Adam(model.parameters(), lr=0.01, weight_decay=5e-4)  \n",
    "\n",
    "def train():\n",
    "      optimizator.zero_grad()  \n",
    "      rezultat = model(x_data, povezave) \n",
    "      napaka = kriterijska_funkcija(rezultat[train_mask], y_data[train_mask]) \n",
    "      napaka.backward()  \n",
    "      optimizator.step()  \n",
    "      return napaka\n",
    "\n",
    "model.train()\n",
    "for epoch in range(1, 201):\n",
    "    loss = train()\n",
    "    if epoch%10 == 0:\n",
    "      print(f'Epoch: {epoch:03d}, Loss: {loss:.4f}')"
   ]
  },
  {
   "attachments": {},
   "cell_type": "markdown",
   "metadata": {},
   "source": [
    "### 2.4 Evaluacija grafovske nevronske mreže\n",
    "\n",
    "Izračunaj testno napako nove mreže podobno kot prej. Je informacija o citatih izboljšala rezultat?"
   ]
  },
  {
   "cell_type": "code",
   "execution_count": 56,
   "metadata": {},
   "outputs": [
    {
     "name": "stdout",
     "output_type": "stream",
     "text": [
      "Test Accuracy: 0.8084\n"
     ]
    }
   ],
   "source": [
    "model.eval()\n",
    "out = model(x_data, povezave)\n",
    "pred = out.argmax(dim=1) \n",
    "test_correct = pred[test_mask] == y_data[test_mask]  \n",
    "test_acc = int(test_correct.sum()) / int(test_mask.sum())  \n",
    "\n",
    "print(f'Test Accuracy: {test_acc:.4f}')"
   ]
  },
  {
   "attachments": {},
   "cell_type": "markdown",
   "metadata": {},
   "source": [
    "## 3 Arhitekture mrež in hiperparametri\n",
    "\n",
    "Arhitekura mreže ter razni hiperparametri imajo velik vpliv na delovanje. Pogosto jih moramo optimizirati v zahtevnih računskih eksperimentih, podobno kot smo to počeli v DN1. Da dobiš občutek, kaj se dogaja, se vrni k obema mrežama ter poskusi:\n",
    "- dodati tretjo linearno plast v navadno nevronsko mrežo,\n",
    "- dodati tretjo konvolucijsko plast v grafovsko nevronsko mrežo,\n",
    "- dodati linearno plast na konec grafovske nevronske mreže.\n",
    "\n",
    "Potem preizkusi še vpliv parametrov:\n",
    "- število nevronov v linearni ali konvolucijski plasti\n",
    "- verjetnost v dropout plasti\n",
    "- izbira aktivacijske funkcije (https://pytorch.org/docs/stable/nn.html#non-linear-activations-weighted-sum-nonlinearity)\n",
    "- parameter hitrosti učenja v optimizatorju\n",
    "- parameter L2 regularizacije v optimizatorju\n",
    "- število epohov"
   ]
  },
  {
   "attachments": {},
   "cell_type": "markdown",
   "metadata": {},
   "source": [
    "## Dodatno\n",
    "\n",
    "Današnje vaje so bile prirejene iz drugega učnega zvezka pyG-jeve dokumentacije: https://pytorch-geometric.readthedocs.io/en/latest/get_started/colabs.html\n",
    "\n",
    "Napovedovali kategorije posameznih vozlišč v grafu. Drugačen tip problema, ki se pogosto rešuje z grafovskimi nevronskimi mrežami, je napovedovanje kategorije celotnega grafa, pri čemer so naši podatki sestavljeni iz množice grafov. Primer je napovedovanje lastosti molekul, ki jih lahko opišemo kot povezave med atomi (vozlišči). Reševanje takega problema naslavlja tretji zvezek v zgornji dokumentaciji.\n",
    "\n",
    "Če te tematika zanima, lahko nadaljuješ s pyG-jevimi učnimi zvezki."
   ]
  }
 ],
 "metadata": {
  "kernelspec": {
   "display_name": "base2",
   "language": "python",
   "name": "python3"
  },
  "language_info": {
   "codemirror_mode": {
    "name": "ipython",
    "version": 3
   },
   "file_extension": ".py",
   "mimetype": "text/x-python",
   "name": "python",
   "nbconvert_exporter": "python",
   "pygments_lexer": "ipython3",
   "version": "3.10.4"
  },
  "orig_nbformat": 4
 },
 "nbformat": 4,
 "nbformat_minor": 2
}
