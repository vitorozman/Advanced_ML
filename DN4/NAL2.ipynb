{
 "cells": [
  {
   "attachments": {},
   "cell_type": "markdown",
   "metadata": {},
   "source": [
    "Modifying "
   ]
  },
  {
   "cell_type": "code",
   "execution_count": 2,
   "metadata": {},
   "outputs": [],
   "source": [
    "import numpy as np\n",
    "import pandas as pd\n",
    "\n",
    "import ProGED as pg\n",
    "\n",
    "from DN4_2_podatky import * "
   ]
  },
  {
   "cell_type": "code",
   "execution_count": 9,
   "metadata": {},
   "outputs": [
    {
     "name": "stdout",
     "output_type": "stream",
     "text": [
      "ModelBox: 3 models\n",
      "-> [x2*x4], p = 5.120000000000003e-05, parse trees = 1, valid = True, error = 43.30284691772874, time = 0\n",
      "-> [x4], p = 0.003200000000000001, parse trees = 1, valid = True, error = 22.52230705623742, time = 0\n",
      "-> [x2 + x3], p = 9.216000000000005e-05, parse trees = 1, valid = True, error = 28.333090768512253, time = 0\n",
      "   N  N-valid         P   P-valid  N-success  P-success\n",
      "0  3        3  0.003343  0.003343          0          0\n",
      "[E -> F [0.1], F -> F '*' T [0.2], F -> T [0.4], T -> V [0.4], V -> 'x2' [0.2], T -> V [0.4], V -> 'x4' [0.2]]\n"
     ]
    }
   ],
   "source": [
    "from nltk import Nonterminal\n",
    "\n",
    "np.random.seed(1234)\n",
    "\n",
    "grammar = \"E -> E '+' F [0.9]| E '-' F [0]| F [0.1] \\n\"\n",
    "grammar += \"F -> F '*' T [0.2]| F '/' T [0.4]| T [0.4] \\n\"\n",
    "grammar += \"T -> V [0.4]| '('E')' [0.3]| 'sin' '('E')'[0.3] \\n\"\n",
    "grammar += \"V -> 'x1' [0.2]| 'x2' [0.2]| 'x3' [0.2] | 'x4' [0.2] | 'x5' [0.2]\"\n",
    "\n",
    "\n",
    "grammar = pg.GeneratorGrammar(grammar)\n",
    "podatki = generiraj_enacbo_1(100)\n",
    "ED = pg.EqDisco(data=podatki, \n",
    "                sample_size=3,\n",
    "                lhs_vars=[\"y\"],\n",
    "                rhs_vars=[\"x1\", \"x2\", \"x3\", \"x4\", \"x5\"],\n",
    "                #verbosity=1,\n",
    "                generator = grammar)\n",
    "#pg.Model\n",
    "ED.generate_models()\n",
    "mm = ED.fit_models()\n",
    "#print(mm[2].get_params())\n",
    "print(ED.get_stats())\n",
    "\n",
    "#print(ED.get_results(1))\n",
    "#print(grammar)\n",
    "hji = list(range(1,11))\n",
    "#print(grammar.count_trees(Nonterminal(\"E\"), 1))\n",
    "drevesa = [grammar.count_trees(Nonterminal(\"E\"), h) for h in range(1, 11)]\n",
    "#print(drevesa)\n",
    "#print(Nonterminal(\"E\"))\n",
    "print(grammar.code_to_expression(ED.models[0].info['code'])[1])\n",
    "#print(mm[0].get_error())"
   ]
  },
  {
   "cell_type": "code",
   "execution_count": 9,
   "metadata": {},
   "outputs": [
    {
     "name": "stdout",
     "output_type": "stream",
     "text": [
      "[E -> E '+' F [0.9], E -> E '-' F [0], E -> F [0.1], F -> F '*' T [0.2], F -> F '/' T [0.4], F -> T [0.4], T -> V [0.4], T -> '(' E ')' [0.3], T -> 'sin' '(' E ')' [0.3], V -> 'x1' [0.2], V -> 'x2' [0.2], V -> 'x3' [0.2], V -> 'x4' [0.2], V -> 'x5' [0.2]]\n"
     ]
    }
   ],
   "source": [
    "#print(ED.models[0].info['code'])\n",
    "path = grammar.code_to_expression(ED.models[0].info['code'])[1]\n",
    "gg = grammar.grammar.productions()\n",
    "print(gg)\n",
    "\n",
    "\n",
    "#print(grammar.grammar.productions()[0])"
   ]
  },
  {
   "cell_type": "code",
   "execution_count": null,
   "metadata": {},
   "outputs": [],
   "source": [
    "def update_prob(gram, path, rate) -> str:\n",
    "    \"\"\"\n",
    "    The function get \n",
    "        gram grammar object ... our given grammar\n",
    "        path grammar object ... winer or loser path \n",
    "        rate int ... rate how much shoud probability of given path shoud be updated\n",
    "\n",
    "        Return new grammar string with new probabilites\n",
    "    \"\"\"\n",
    "    pass\n",
    "\n",
    "def get_distibution_of_variable(gram) -> dict:\n",
    "    \n",
    "    pass\n"
   ]
  },
  {
   "cell_type": "code",
   "execution_count": 5,
   "metadata": {},
   "outputs": [
    {
     "data": {
      "image/png": "[encoded data removed]",
      "text/plain": [
       "<Figure size 640x480 with 1 Axes>"
      ]
     },
     "metadata": {},
     "output_type": "display_data"
    }
   ],
   "source": [
    "import networkx as nx\n",
    "import matplotlib.pyplot as plt\n",
    "\n",
    "# Create an empty graph\n",
    "G = nx.Graph()\n",
    "\n",
    "# Add nodes\n",
    "G.add_node(\"A\")\n",
    "G.add_node(\"B\")\n",
    "G.add_node(\"C\")\n",
    "G.add_node(\"D\")\n",
    "G.add_node(\"E\")\n",
    "\n",
    "# Add edges\n",
    "G.add_edge(\"A\", \"B\")\n",
    "G.add_edge(\"A\", \"C\")\n",
    "G.add_edge(\"C\", \"D\")\n",
    "G.add_edge(\"C\", \"E\")\n",
    "\n",
    "# Draw the graph\n",
    "pos = nx.spring_layout(G)\n",
    "nx.draw_networkx(G, pos)\n",
    "plt.show()"
   ]
  },
  {
   "cell_type": "code",
   "execution_count": 6,
   "metadata": {},
   "outputs": [
    {
     "name": "stdout",
     "output_type": "stream",
     "text": [
      "- A\n",
      "  - B\n",
      "  - C\n",
      "    - D\n"
     ]
    }
   ],
   "source": [
    "import matplotlib.pyplot as plt\n",
    "\n",
    "# Define a custom tree structure\n",
    "class TreeNode:\n",
    "    def __init__(self, data):\n",
    "        self.data = data\n",
    "        self.children = []\n",
    "\n",
    "    def add_child(self, child):\n",
    "        self.children.append(child)\n",
    "\n",
    "# Create the tree\n",
    "root = TreeNode(\"A\")\n",
    "root.add_child(TreeNode(\"B\"))\n",
    "root.add_child(TreeNode(\"C\"))\n",
    "root.children[1].add_child(TreeNode(\"D\"))\n",
    "\n",
    "# Visualize the tree using Matplotlib\n",
    "def visualize_tree(node, level=0):\n",
    "    print(\"  \" * level + \"- \" + node.data)\n",
    "    for child in node.children:\n",
    "        visualize_tree(child, level + 1)\n",
    "\n",
    "visualize_tree(root)"
   ]
  }
 ],
 "metadata": {
  "kernelspec": {
   "display_name": "venv",
   "language": "python",
   "name": "python3"
  },
  "language_info": {
   "codemirror_mode": {
    "name": "ipython",
    "version": 3
   },
   "file_extension": ".py",
   "mimetype": "text/x-python",
   "name": "python",
   "nbconvert_exporter": "python",
   "pygments_lexer": "ipython3",
   "version": "3.11.1"
  },
  "orig_nbformat": 4
 },
 "nbformat": 4,
 "nbformat_minor": 2
}
