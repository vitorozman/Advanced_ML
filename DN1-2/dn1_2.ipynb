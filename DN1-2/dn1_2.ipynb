{
 "cells": [
  {
   "attachments": {},
   "cell_type": "markdown",
   "metadata": {},
   "source": [
    "# Domaca naloga 1.2\n",
    "\n",
    "Avtomatizirana izbira najbosega modela in nastavitev hiper parametrov.\n"
   ]
  },
  {
   "cell_type": "code",
   "execution_count": 1,
   "metadata": {},
   "outputs": [],
   "source": [
    "import pandas as pd\n",
    "import numpy as np\n",
    "\n",
    "from hyperopt import hp, tpe, rand, fmin, Trials, space_eval\n",
    "from hyperopt import pyll, base\n",
    "\n",
    "import warnings\n",
    "\n",
    "# ne izpisuje opozoril\n",
    "warnings.simplefilter(action='ignore', category=FutureWarning)\n",
    "warnings.simplefilter(action='ignore', category=UserWarning)\n",
    "warnings.simplefilter(action='ignore', category=RuntimeWarning)\n",
    "\n",
    "data = pd.read_csv('podatki.csv')\n",
    "X = data.drop('y', axis=1)\n",
    "Y = data['y']\n",
    "clas = Y.unique()\n",
    "Y = Y.replace(clas[0], 0)\n",
    "Y = Y.replace(clas[1], 1)\n",
    "\n",
    "#print(Y)\n",
    "\n",
    "from sklearn.model_selection import train_test_split\n",
    "from sklearn.preprocessing import StandardScaler\n",
    "\n",
    "X_train, X_test, y_train, y_test = train_test_split(X, Y, test_size=0.2, random_state=42)\n",
    "\n",
    "scaler = StandardScaler()\n",
    "X_train_sc = scaler.fit_transform(X_train)\n",
    "X_train_sc = pd.DataFrame(X_train_sc,columns=X.columns)\n",
    "X_test_sc = scaler.transform(X_test)\n",
    "X_test_sc = pd.DataFrame(X_test_sc,columns=X.columns)\n",
    "\n"
   ]
  },
  {
   "attachments": {},
   "cell_type": "markdown",
   "metadata": {},
   "source": [
    "Prvi poskus se je izkazal da zadeva predolgo melje zato sem se odlocil za mansanje dimenzij podatkov. Izbral sem pristop **feature_importances_** tako da sem izbral prvih 7 najpomebnejsih znacilk, ker je pri tej znacilki AUC presegel vrednost 0.8."
   ]
  },
  {
   "cell_type": "code",
   "execution_count": 2,
   "metadata": {},
   "outputs": [
    {
     "name": "stdout",
     "output_type": "stream",
     "text": [
      "cv = 0.863463708557602\n",
      "test = 0.7438640654499685\n",
      "cv = 0.8569429683217973\n",
      "test = 0.6790650406504065\n",
      "cv = 0.890874744172675\n",
      "test = 0.702527646129542\n",
      "cv = 0.9126591789581873\n",
      "test = 0.7174418604651163\n",
      "cv = 0.9186002122358963\n",
      "test = 0.7957535885167464\n",
      "cv = 0.9173449704734751\n",
      "test = 0.7499074074074075\n",
      "cv = 0.9276619113121081\n",
      "test = 0.8087182823682498\n",
      "7\n",
      "Index(['x1', 'x5', 'x3', 'x2', 'x4', 'x21', 'x27'], dtype='object')\n"
     ]
    }
   ],
   "source": [
    "from sklearn.ensemble import RandomForestClassifier\n",
    "from sklearn.metrics import roc_auc_score\n",
    "from sklearn.model_selection import cross_validate\n",
    "\n",
    "\n",
    "np.random.seed(0)\n",
    "\n",
    "rfo = RandomForestClassifier().fit(X_train, y_train)\n",
    "\n",
    "col_name = X.columns\n",
    "imprf = rfo.feature_importances_\n",
    "\n",
    "\n",
    "sortind = np.argsort(-imprf)\n",
    "sort_imprf = imprf[sortind]\n",
    "sort_name = col_name[sortind]\n",
    "#print(X_train[sort_name[0:0]])\n",
    "\n",
    "for i in range(1, len(sort_name)):\n",
    "    x_train = X_train[sort_name[0:i]]\n",
    "    x_test = X_test[sort_name[0:i]]\n",
    "    rf_imp = RandomForestClassifier()\n",
    "    cv = cross_validate(rf_imp, x_train, y_train, cv=5,\n",
    "                        scoring=('roc_auc'),\n",
    "                        return_train_score=True)\n",
    "    rf_imp.fit(x_train, y_train)\n",
    "    pred = rf_imp.predict(x_test)\n",
    "    print(f\"cv = {np.mean(cv['test_score'])}\")\n",
    "    print(f\"test = {roc_auc_score(pred, y_test)}\")\n",
    "    if roc_auc_score(pred, y_test) > 0.8:\n",
    "        print(i)\n",
    "        break\n",
    "    \n",
    "print(sort_name[0:i])\n"
   ]
  },
  {
   "cell_type": "code",
   "execution_count": 3,
   "metadata": {},
   "outputs": [],
   "source": [
    "gnezdeni_prostor = {\n",
    "    \"algo\": hp.choice('algo', [\n",
    "        {\n",
    "            'name': 'rf',\n",
    "            'max_depth': hp.choice('max_depth', list(range(2, 50, 5))),\n",
    "            'min_samples_split' : hp.choice('min_samples_split', list(range(1, 20, 2))),\n",
    "            'min_samples_leaf' : hp.choice('min_samples_leaf', [1, 2, 3])\n",
    "\n",
    "        },\n",
    "        {\n",
    "            'name': 'knn',\n",
    "            'n_neighbors' : hp.choice('n_neighbors', list(range(2, 30, 2)))\n",
    "        },\n",
    "        {\n",
    "            'name': 'svm',\n",
    "            'C': hp.choice('C', [1.0, 10.0]),\n",
    "            'kernel': hp.choice('kernel', [\n",
    "                {\n",
    "                    'type': 'linear'  # linearno\n",
    "                },\n",
    "                {\n",
    "                    'type': 'sigmoid'\n",
    "                },\n",
    "                {\n",
    "                    'type': 'poly'\n",
    "                }\n",
    "            ]),\n",
    "        },\n",
    "    ])\n",
    "}\n"
   ]
  },
  {
   "cell_type": "code",
   "execution_count": 4,
   "metadata": {},
   "outputs": [
    {
     "name": "stdout",
     "output_type": "stream",
     "text": [
      "100%|██████████| 500/500 [02:14<00:00,  3.73trial/s, best loss: 0.06291755946636424]\n",
      "{'algo': 0, 'max_depth': 1, 'min_samples_leaf': 0, 'min_samples_split': 6}\n"
     ]
    }
   ],
   "source": [
    "from sklearn.neighbors import KNeighborsClassifier\n",
    "from sklearn.svm import SVC\n",
    "from sklearn.ensemble import RandomForestClassifier\n",
    "\n",
    "from sklearn.metrics import roc_auc_score\n",
    "from sklearn.model_selection import cross_validate\n",
    "\n",
    "np.random.seed(0)\n",
    "\n",
    "i = 7\n",
    "#Xi_train = X_train[sort_name[0:i]]\n",
    "#Xi_test =  X_test[sort_name[0:i]]\n",
    "\n",
    "Xi_train_sc = X_train_sc[sort_name[0:i]]\n",
    "Xi_test_sc =  X_test_sc[sort_name[0:i]]\n",
    "\n",
    "def kriteri_fn(params):\n",
    "    a = params[\"algo\"]\n",
    "    algo_name = a[\"name\"]\n",
    "    if algo_name == \"knn\":\n",
    "        model = KNeighborsClassifier(n_neighbors=a[\"n_neighbors\"])\n",
    "\n",
    "    elif algo_name == \"rf\":\n",
    "        model = RandomForestClassifier(max_depth=a['max_depth'], \n",
    "                                       min_samples_split=a['min_samples_split'], \n",
    "                                       min_samples_leaf=a['min_samples_leaf'])\n",
    "\n",
    "    elif algo_name == \"svm\":\n",
    "        kernel = a[\"kernel\"][\"type\"]\n",
    "        C = a['C']\n",
    "        model = SVC(kernel=kernel, C=C)\n",
    "    else:\n",
    "        raise ValueError(\"Wrong setings!\")\n",
    "    \n",
    "    cv = cross_validate(model, Xi_train_sc, y_train, cv=5,\n",
    "                        scoring=('roc_auc'),\n",
    "                        return_train_score=True)\n",
    "\n",
    "    return 1 - np.mean(cv['test_score'])\n",
    "\n",
    "\n",
    "trials = Trials()\n",
    "best = fmin(\n",
    "            fn = kriteri_fn,\n",
    "            space = gnezdeni_prostor,\n",
    "            algo = tpe.suggest,\n",
    "            max_evals = 500,\n",
    "            trials = trials\n",
    "            )\n",
    "print(best)\n",
    "best_m = space_eval(gnezdeni_prostor, best)\n",
    "best_value = kriteri_fn(best_m)\n",
    "\n",
    "\n"
   ]
  },
  {
   "cell_type": "code",
   "execution_count": 5,
   "metadata": {},
   "outputs": [
    {
     "name": "stdout",
     "output_type": "stream",
     "text": [
      "Best algo with params {'algo': 0, 'max_depth': 1, 'min_samples_leaf': 0, 'min_samples_split': 6}\n"
     ]
    }
   ],
   "source": [
    "print(f\"Best algo with params {best}\")"
   ]
  },
  {
   "cell_type": "code",
   "execution_count": 10,
   "metadata": {},
   "outputs": [],
   "source": [
    "print(trials.trials)\n",
    "s = [print(trials.trials[i]) for i in range(len(trials.results))]\n",
    "\n"
   ]
  },
  {
   "cell_type": "code",
   "execution_count": null,
   "metadata": {},
   "outputs": [],
   "source": []
  },
  {
   "attachments": {},
   "cell_type": "markdown",
   "metadata": {},
   "source": [
    "Sedaj pa se nataniram model z vsemi znacilkami in izracunanimi parametri"
   ]
  },
  {
   "cell_type": "code",
   "execution_count": 14,
   "metadata": {},
   "outputs": [
    {
     "name": "stdout",
     "output_type": "stream",
     "text": [
      "AUC on cv = 0.9321965804448158\n",
      "AUC on test = 0.8385222083852221\n"
     ]
    }
   ],
   "source": [
    "\n",
    "Xi_train = X_train[sort_name[0:10]]\n",
    "Xi_test =  X_test[sort_name[0:10]]\n",
    "\n",
    "np.random.seed(0)\n",
    "\n",
    "bestmodel = RandomForestClassifier(max_depth=7, min_samples_leaf=1, min_samples_split=6)\n",
    "cv = cross_validate(bestmodel, Xi_train, y_train, cv=5,\n",
    "                        scoring=('roc_auc'),\n",
    "                        return_train_score=True)\n",
    "\n",
    "bestmodel.fit(Xi_train, y_train)\n",
    "pred = bestmodel.predict(Xi_test)\n",
    "\n",
    "print(f\"AUC on cv = {np.mean(cv['test_score'])}\")\n",
    "print(f\"AUC on test = {roc_auc_score(pred, y_test)}\")\n",
    "\n"
   ]
  }
 ],
 "metadata": {
  "kernelspec": {
   "display_name": "venv",
   "language": "python",
   "name": "python3"
  },
  "language_info": {
   "codemirror_mode": {
    "name": "ipython",
    "version": 3
   },
   "file_extension": ".py",
   "mimetype": "text/x-python",
   "name": "python",
   "nbconvert_exporter": "python",
   "pygments_lexer": "ipython3",
   "version": "3.11.1"
  },
  "orig_nbformat": 4
 },
 "nbformat": 4,
 "nbformat_minor": 2
}
