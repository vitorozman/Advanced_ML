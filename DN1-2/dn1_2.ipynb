{
 "cells": [
  {
   "attachments": {},
   "cell_type": "markdown",
   "metadata": {},
   "source": [
    "# Domaca naloga 1.2\n",
    "\n",
    "Avtomatizirana izbira najbosega modela in nastavitev hiper parametrov.\n"
   ]
  },
  {
   "cell_type": "code",
   "execution_count": 43,
   "metadata": {},
   "outputs": [
    {
     "name": "stdout",
     "output_type": "stream",
     "text": [
      "           x1        x2        x3        x4        x5        x6        x7  \\\n",
      "0   -0.448816 -0.564758 -0.537651 -0.538668 -0.853073 -0.118410 -0.296610   \n",
      "1   -0.448816 -1.159262  2.267118  0.382119  1.375031  0.427472  0.155352   \n",
      "2   -0.448816  0.703517 -0.537651 -0.538668 -0.853073 -0.245620 -0.597918   \n",
      "3   -0.448816 -0.445857 -0.537651 -0.334049 -0.853073 -0.046392  0.004698   \n",
      "4   -0.448816  2.685197 -0.537651 -0.743288 -0.853073 -0.221292 -0.899227   \n",
      "..        ...       ...       ...       ...       ...       ...       ...   \n",
      "957  0.778359 -0.604392 -0.329890 -0.231739  0.652085 -0.114657 -0.145956   \n",
      "958 -0.244287  0.029746 -0.329890 -0.334049  1.969098 -0.195753 -0.899227   \n",
      "959  0.982888 -0.445857  0.605033  1.405217  1.071178  0.085540  0.607315   \n",
      "960 -0.448816 -0.089155 -0.537651 -0.743288 -0.853073 -0.175297  0.155352   \n",
      "961  0.164771 -0.961094  0.501153  0.382119  0.945591 -0.048934  0.004698   \n",
      "\n",
      "           x8        x9       x10  ...       x21       x22       x23  \\\n",
      "0   -0.537756 -0.450256 -0.645473  ... -0.411380 -0.456714 -0.361903   \n",
      "1    0.721156  0.170611  0.018277  ...  0.340089  0.587825 -0.015301   \n",
      "2   -0.606424 -0.231126 -0.290444  ... -0.530033 -0.462649 -0.354478   \n",
      "3   -0.423309 -0.340691 -0.433073  ... -0.292727 -0.320212 -0.331330   \n",
      "4   -0.858206 -0.486778 -0.784397  ... -0.846441 -0.545738 -0.372803   \n",
      "..        ...       ...       ...  ...       ...       ...       ...   \n",
      "957 -0.148638 -0.231126 -0.201532  ...  0.063232 -0.278668 -0.310349   \n",
      "958 -0.629313 -0.632864 -0.846141  ... -0.727788 -0.551673 -0.373743   \n",
      "959  0.652488  0.389741  0.598672  ...  0.458742  0.439453  0.104367   \n",
      "960 -0.606424 -0.413734 -0.379355  ... -0.450931 -0.427040 -0.346468   \n",
      "961  0.194702 -0.413734  0.172637  ...  0.102783 -0.017533 -0.197332   \n",
      "\n",
      "          x24       x25       x26       x27       x28       x29       x30  \n",
      "0   -0.363627 -0.361904 -0.269489 -0.528123 -0.928468 -0.572267 -0.431378  \n",
      "1    0.410035 -0.015301  1.272188  0.044978  0.934277  0.116745 -0.431378  \n",
      "2   -0.381866 -0.354479  1.272188 -0.528123 -0.928468 -0.572267 -0.431378  \n",
      "3   -0.267277 -0.331329 -0.793659  0.044978  0.934277  0.116745  0.011037  \n",
      "4   -0.423685 -0.372804 -0.269489 -0.528123 -0.928468 -0.572267 -0.431378  \n",
      "..        ...       ...       ...       ...       ...       ...       ...  \n",
      "957 -0.255869 -0.310349 -1.040327  0.331529  0.934277  0.461251 -0.431378  \n",
      "958 -0.426239 -0.373744  1.272188 -0.528123 -0.928468 -0.572267 -0.431378  \n",
      "959  0.287027  0.104369 -1.379496  1.047906  0.934277  1.150264  0.453453  \n",
      "960 -0.341102 -0.346467  1.272188 -0.098297  1.865650 -0.227761 -0.431378  \n",
      "961 -0.081271 -0.197333 -0.269489 -0.241572  0.934277 -0.227761 -0.210170  \n",
      "\n",
      "[962 rows x 30 columns]\n"
     ]
    }
   ],
   "source": [
    "import pandas as pd\n",
    "import numpy as np\n",
    "\n",
    "from hyperopt import hp, tpe, rand, fmin, Trials, space_eval\n",
    "from hyperopt import pyll, base\n",
    "\n",
    "import warnings\n",
    "\n",
    "# ne izpisuje opozoril\n",
    "warnings.simplefilter(action='ignore', category=FutureWarning)\n",
    "\n",
    "\n",
    "data = pd.read_csv('podatki.csv')\n",
    "X = data.drop('y', axis=1)\n",
    "Y = data['y']\n",
    "clas = Y.unique()\n",
    "Y = Y.replace(clas[0], 0)\n",
    "Y = Y.replace(clas[1], 1)\n",
    "\n",
    "#print(Y)\n",
    "\n",
    "from sklearn.model_selection import train_test_split\n",
    "from sklearn.preprocessing import StandardScaler\n",
    "\n",
    "X_train, X_test, y_train, y_test = train_test_split(X, Y, test_size=0.2, random_state=42)\n",
    "\n",
    "scaler = StandardScaler()\n",
    "X_train_sc = scaler.fit_transform(X_train)\n",
    "X_train_sc = pd.DataFrame(X_train_sc,columns=X.columns)\n",
    "X_test_sc = scaler.transform(X_test)\n",
    "X_test_sc = pd.DataFrame(X_test_sc,columns=X.columns)\n",
    "\n",
    "print(X_train_sc)"
   ]
  },
  {
   "attachments": {},
   "cell_type": "markdown",
   "metadata": {},
   "source": [
    "Prvi poskus se je izkazal da zadeva predolgo melje zato sem se odlocil za mansanje dimenzij podatkov. Izbral sem pristop **feature_importances_** tako da sem izbral prvih 7 najpomebnejsih znacilk, ker je pri tej znacilki AUC presegel vrednost 0.8."
   ]
  },
  {
   "cell_type": "code",
   "execution_count": 44,
   "metadata": {},
   "outputs": [
    {
     "name": "stdout",
     "output_type": "stream",
     "text": [
      "cv = 0.863463708557602\n",
      "test = 0.7438640654499685\n",
      "cv = 0.8569429683217973\n",
      "test = 0.6790650406504065\n",
      "cv = 0.890874744172675\n",
      "test = 0.702527646129542\n",
      "cv = 0.9126591789581873\n",
      "test = 0.7174418604651163\n",
      "cv = 0.9186002122358963\n",
      "test = 0.7957535885167464\n",
      "cv = 0.9173449704734751\n",
      "test = 0.7499074074074075\n",
      "cv = 0.9276619113121081\n",
      "test = 0.8087182823682498\n",
      "7\n",
      "Index(['x1', 'x5', 'x3', 'x2', 'x4', 'x21', 'x27'], dtype='object')\n"
     ]
    }
   ],
   "source": [
    "from sklearn.ensemble import RandomForestClassifier\n",
    "from sklearn.metrics import roc_auc_score\n",
    "from sklearn.model_selection import cross_validate\n",
    "\n",
    "\n",
    "np.random.seed(0)\n",
    "\n",
    "rfo = RandomForestClassifier().fit(X_train, y_train)\n",
    "\n",
    "col_name = X.columns\n",
    "imprf = rfo.feature_importances_\n",
    "\n",
    "\n",
    "sortind = np.argsort(-imprf)\n",
    "sort_imprf = imprf[sortind]\n",
    "sort_name = col_name[sortind]\n",
    "#print(X_train[sort_name[0:0]])\n",
    "\n",
    "for i in range(1, len(sort_name)):\n",
    "    x_train = X_train[sort_name[0:i]]\n",
    "    x_test = X_test[sort_name[0:i]]\n",
    "    rf_imp = RandomForestClassifier()\n",
    "    cv = cross_validate(rf_imp, x_train, y_train, cv=5,\n",
    "                        scoring=('roc_auc'),\n",
    "                        return_train_score=True)\n",
    "    rf_imp.fit(x_train, y_train)\n",
    "    pred = rf_imp.predict(x_test)\n",
    "    print(f\"cv = {np.mean(cv['test_score'])}\")\n",
    "    print(f\"test = {roc_auc_score(pred, y_test)}\")\n",
    "    if roc_auc_score(pred, y_test) > 0.8:\n",
    "        print(i)\n",
    "        break\n",
    "    \n",
    "print(sort_name[0:i])\n"
   ]
  },
  {
   "cell_type": "code",
   "execution_count": 49,
   "metadata": {},
   "outputs": [
    {
     "name": "stdout",
     "output_type": "stream",
     "text": [
      "[ 0  4  2  1  3 20 26]\n",
      "           x1        x5        x3        x2        x4       x21       x27\n",
      "0   -0.244287 -0.068979 -0.329890 -0.525125 -0.334049 -0.213625  0.044978\n",
      "1   -0.448816 -0.853073 -0.537651 -0.287323 -0.640978 -0.688237 -0.528123\n",
      "2   -0.448816  0.558013  0.085631 -1.000728 -0.538668 -0.292727 -0.528123\n",
      "3   -0.244287  0.685951  1.228315 -0.247689  0.586739  0.656497  1.764283\n",
      "4   -0.039758  0.424430  1.539956 -0.644025  1.712146  1.566170  1.764283\n",
      "..        ...       ...       ...       ...       ...       ...       ...\n",
      "236  8.754996  1.462048  1.332195 -0.723293  2.530624  3.504168  3.340312\n",
      "237  0.164771 -0.180925 -0.537651  0.426082 -0.538668 -0.015870 -0.528123\n",
      "238  2.414592  0.640326  2.163238 -0.604392 -0.027120  3.108658 -0.528123\n",
      "239 -0.448816 -0.853073 -0.537651 -0.723293 -0.538668 -0.569584 -0.528123\n",
      "240 -0.448816 -0.853073 -0.537651 -0.287323 -0.436359 -0.530033 -0.241572\n",
      "\n",
      "[241 rows x 7 columns]\n"
     ]
    }
   ],
   "source": [
    "print(sortind[0:i])\n",
    "#print(X_test_sc[:,sortind[0:i]])\n",
    "print(X_test_sc[sort_name[0:i]])"
   ]
  },
  {
   "cell_type": "code",
   "execution_count": 50,
   "metadata": {},
   "outputs": [],
   "source": [
    "gnezdeni_prostor = {\n",
    "    \"algo\": hp.choice('algo', [\n",
    "        {\n",
    "            'name': 'rf',\n",
    "            'max_depth': hp.choice('max_depth', list(range(2, 50, 5))),\n",
    "            'min_samples_split' : hp.choice('min_samples_split', list(range(1, 20, 2))),\n",
    "            'min_samples_leaf' : hp.choice('min_samples_leaf', [1, 2, 3])\n",
    "\n",
    "        },\n",
    "        {\n",
    "            'name': 'knn',\n",
    "            'n_neighbors' : hp.choice('n_neighbors', list(range(2, 30, 2)))\n",
    "        },\n",
    "        {\n",
    "            'name': 'svm',\n",
    "            'C': hp.choice('C', [1.0, 10.0]),\n",
    "            'kernel': hp.choice('kernel', [\n",
    "                {\n",
    "                    'type': 'linear'  # linearno\n",
    "                },\n",
    "                {\n",
    "                    'type': 'sigmoid'\n",
    "                },\n",
    "                {\n",
    "                    'type': 'poly'\n",
    "                }\n",
    "            ]),\n",
    "        },\n",
    "    ])\n",
    "}\n"
   ]
  },
  {
   "cell_type": "code",
   "execution_count": 58,
   "metadata": {},
   "outputs": [
    {
     "name": "stdout",
     "output_type": "stream",
     "text": [
      "100%|██████████| 100/100 [00:22<00:00,  4.44trial/s, best loss: 0.06384257732235832]\n"
     ]
    }
   ],
   "source": [
    "from sklearn.neighbors import KNeighborsClassifier\n",
    "from sklearn.svm import SVC\n",
    "from sklearn.ensemble import RandomForestClassifier\n",
    "\n",
    "from sklearn.metrics import roc_auc_score\n",
    "from sklearn.model_selection import cross_validate\n",
    "\n",
    "\n",
    "i = 7\n",
    "#Xi_train = X_train[sort_name[0:i]]\n",
    "#Xi_test =  X_test[sort_name[0:i]]\n",
    "\n",
    "Xi_train_sc = X_train_sc[sort_name[0:i]]\n",
    "Xi_test_sc =  X_test_sc[sort_name[0:i]]\n",
    "\n",
    "def kriteri_fn(params):\n",
    "    a = params[\"algo\"]\n",
    "    algo_name = a[\"name\"]\n",
    "    if algo_name == \"knn\":\n",
    "        model = KNeighborsClassifier(n_neighbors=a[\"n_neighbors\"])\n",
    "\n",
    "    elif algo_name == \"rf\":\n",
    "        model = RandomForestClassifier(max_depth=a['max_depth'], \n",
    "                                       min_samples_split=a['min_samples_split'], \n",
    "                                       min_samples_leaf=a['min_samples_leaf'])\n",
    "\n",
    "    elif algo_name == \"svm\":\n",
    "        kernel = a[\"kernel\"][\"type\"]\n",
    "        C = a['C']\n",
    "        model = SVC(kernel=kernel, C=C)\n",
    "    else:\n",
    "        raise ValueError(\"Wrong setings!\")\n",
    "    \n",
    "    cv = cross_validate(model, Xi_train_sc, y_train, cv=5,\n",
    "                        scoring=('roc_auc'),\n",
    "                        return_train_score=True)\n",
    "\n",
    "    #model.fit(X_train, y_train)\n",
    "    #pred = model.predict(X_test)\n",
    "    #return 1 - roc_auc_score(y_test, pred) \n",
    "    return 1 - np.mean(cv['test_score'])\n",
    "\n",
    "\n",
    "trials = Trials()\n",
    "best = fmin(\n",
    "            fn = kriteri_fn,\n",
    "            space = gnezdeni_prostor,\n",
    "            algo = tpe.suggest,\n",
    "            max_evals = 100,\n",
    "            trials = trials\n",
    "            )\n",
    "\n",
    "best = space_eval(gnezdeni_prostor, best)\n",
    "best_value = kriteri_fn(best)\n",
    "\n",
    "\n"
   ]
  },
  {
   "cell_type": "code",
   "execution_count": 59,
   "metadata": {},
   "outputs": [
    {
     "name": "stdout",
     "output_type": "stream",
     "text": [
      "Best algo with params {'algo': {'max_depth': 7, 'min_samples_leaf': 2, 'min_samples_split': 5, 'name': 'rf'}}\n",
      "Best score 0.0659539539319427\n"
     ]
    }
   ],
   "source": [
    "print(f\"Best algo with params {best}\")\n",
    "print(f\"Best score {best_value}\")"
   ]
  },
  {
   "attachments": {},
   "cell_type": "markdown",
   "metadata": {},
   "source": [
    "Sedaj pa se nataniram model z vsemi znacilkami in izracunanimi parametri"
   ]
  },
  {
   "cell_type": "code",
   "execution_count": 69,
   "metadata": {},
   "outputs": [
    {
     "name": "stdout",
     "output_type": "stream",
     "text": [
      "AUC on cv = 0.9347978383863558\n",
      "AUC on test = 0.8298701298701299\n"
     ]
    }
   ],
   "source": [
    "\n",
    "Xi_train = X_train[sort_name[0:10]]\n",
    "Xi_test =  X_test[sort_name[0:10]]\n",
    "\n",
    "np.random.seed(0)\n",
    "\n",
    "bestmodel = RandomForestClassifier(max_depth=7, min_samples_leaf=2, min_samples_split=5)\n",
    "cv = cross_validate(bestmodel, Xi_train, y_train, cv=5,\n",
    "                        scoring=('roc_auc'),\n",
    "                        return_train_score=True)\n",
    "\n",
    "bestmodel.fit(Xi_train, y_train)\n",
    "pred = bestmodel.predict(Xi_test)\n",
    "\n",
    "print(f\"AUC on cv = {np.mean(cv['test_score'])}\")\n",
    "print(f\"AUC on test = {roc_auc_score(pred, y_test)}\")\n",
    "\n"
   ]
  }
 ],
 "metadata": {
  "kernelspec": {
   "display_name": "venv",
   "language": "python",
   "name": "python3"
  },
  "language_info": {
   "codemirror_mode": {
    "name": "ipython",
    "version": 3
   },
   "file_extension": ".py",
   "mimetype": "text/x-python",
   "name": "python",
   "nbconvert_exporter": "python",
   "pygments_lexer": "ipython3",
   "version": "3.11.1"
  },
  "orig_nbformat": 4
 },
 "nbformat": 4,
 "nbformat_minor": 2
}
