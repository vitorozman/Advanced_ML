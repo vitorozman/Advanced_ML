{
 "cells": [
  {
   "attachments": {},
   "cell_type": "markdown",
   "metadata": {},
   "source": [
    "# Domača naloga 1.1\n",
    "\n",
    "Rocna izbira metode in portimizacija hiper parametrov \n",
    "\n",
    "Za rocno iskanje najboljsega modela sem izbral KNN, SVM in RANDOM FOREST. Podatke sem najprej razdelil v razmerju 1:4 na testne in ucne. Na ucnih sem preverjal tocnost modela z auc metriko (ploscino pod roc krvuljo) z metodo cross validation. Potem pa sem testeral model se na testnih podatkih. Opisan potopek sem najprej izvedel na nepreciscenih podatkih, potem pa se na precisceninih(skaliranih)\n"
   ]
  },
  {
   "cell_type": "code",
   "execution_count": 5,
   "metadata": {},
   "outputs": [],
   "source": [
    "import pandas as pd\n",
    "import numpy as np\n",
    "import warnings\n",
    "\n",
    "# ne izpisuje opozoril\n",
    "warnings.simplefilter(action='ignore', category=FutureWarning)\n",
    "\n",
    "\n",
    "data = pd.read_csv('podatki.csv')\n",
    "X = data.drop('y', axis=1)\n",
    "Y = data['y']\n",
    "clas = Y.unique()\n",
    "Y = Y.replace(clas[0], 0)\n",
    "Y = Y.replace(clas[1], 1)\n",
    "\n",
    "#print(Y)\n",
    "\n",
    "from sklearn.model_selection import train_test_split\n",
    "from sklearn.preprocessing import StandardScaler\n",
    "\n",
    "X_train, X_test, y_train, y_test = train_test_split(X, Y, test_size=0.2, random_state=42)\n",
    "\n",
    "scaler = StandardScaler()\n",
    "X_train_sc = scaler.fit_transform(X_train)\n",
    "X_test_sc = scaler.transform(X_test)\n"
   ]
  },
  {
   "attachments": {},
   "cell_type": "markdown",
   "metadata": {},
   "source": [
    "## KNN\n",
    "\n",
    "Pri knn sem preveril st. sosedov od 1-30"
   ]
  },
  {
   "cell_type": "code",
   "execution_count": 8,
   "metadata": {},
   "outputs": [],
   "source": [
    "\n",
    "from sklearn.neighbors import KNeighborsClassifier\n",
    "from sklearn.metrics import roc_auc_score\n",
    "from sklearn.model_selection import cross_validate\n",
    "\n",
    "\n",
    "\n",
    "dt = {'k':[], 'auc_cv':[], 'auc_test':[], 'auc_cv_sc':[], 'auc_test_sc':[]}\n",
    "KNN = pd.DataFrame(dt)\n",
    "\n",
    "k_all = list(range(1, 31))\n",
    "\n",
    "for k in k_all:\n",
    "    # not scaled\n",
    "    knn = KNeighborsClassifier(n_neighbors=k)\n",
    "    cv = cross_validate(knn, X_train, y_train, cv=5,\n",
    "    scoring=('roc_auc'),\n",
    "    return_train_score=True)\n",
    "    knn.fit(X_train,y_train)\n",
    "    pred = knn.predict(X_test)\n",
    "    # scaled\n",
    "    knn_sc = KNeighborsClassifier(n_neighbors=k)\n",
    "    cv_sc = cross_validate(knn_sc, X_train_sc, y_train, cv=5,\n",
    "    scoring=('roc_auc'),\n",
    "    return_train_score=True)\n",
    "    knn_sc.fit(X_train_sc, y_train)\n",
    "    pred_sc = knn_sc.predict(X_test_sc)\n",
    "\n",
    "    dtk = pd.DataFrame({'k':[k], 'auc_cv':[np.mean(cv['test_score'])], 'auc_test':[roc_auc_score(y_test, pred)],\n",
    "                        'auc_cv_sc':[np.mean(cv_sc['test_score'])], 'auc_test_sc':[roc_auc_score(y_test, pred_sc)]})\n",
    "    KNN = KNN.append(dtk)\n",
    "#print(orgKNN)\n",
    "\n"
   ]
  },
  {
   "cell_type": "code",
   "execution_count": 28,
   "metadata": {},
   "outputs": [
    {
     "name": "stdout",
     "output_type": "stream",
     "text": [
      "       k    auc_cv  auc_test  auc_cv_sc  auc_test_sc\n",
      "0    1.0  0.577462  0.601246   0.752869     0.791277\n",
      "1    2.0  0.585999  0.495154   0.802345     0.652648\n",
      "2    3.0  0.599292  0.573728   0.833607     0.731222\n",
      "3    4.0  0.600421  0.474299   0.848437     0.694358\n",
      "4    5.0  0.604668  0.520509   0.851298     0.705694\n",
      "5    6.0  0.606421  0.502163   0.856470     0.687349\n",
      "6    7.0  0.604492  0.516009   0.851171     0.703531\n",
      "7    8.0  0.609300  0.509173   0.850480     0.654984\n",
      "8    9.0  0.616101  0.516009   0.858678     0.671166\n",
      "9   10.0  0.619169  0.490654   0.862626     0.636466\n",
      "10  11.0  0.628854  0.490654   0.865310     0.671166\n",
      "11  12.0  0.637134  0.497664   0.866931     0.617947\n",
      "12  13.0  0.651255  0.495327   0.865489     0.671166\n",
      "13  14.0  0.647035  0.497664   0.867470     0.654984\n",
      "14  15.0  0.647745  0.497664   0.867298     0.652648\n",
      "15  16.0  0.643978  0.500000   0.868503     0.641139\n",
      "16  17.0  0.645473  0.500000   0.872357     0.652648\n",
      "17  18.0  0.645376  0.500000   0.876057     0.620284\n",
      "18  19.0  0.646091  0.500000   0.875555     0.638802\n",
      "19  20.0  0.643129  0.500000   0.876704     0.641139\n",
      "20  21.0  0.647429  0.500000   0.877890     0.636466\n",
      "21  22.0  0.651312  0.500000   0.878805     0.638802\n",
      "22  23.0  0.647612  0.500000   0.877812     0.638802\n",
      "23  24.0  0.647117  0.500000   0.877126     0.641139\n",
      "24  25.0  0.645142  0.500000   0.874229     0.641139\n",
      "25  26.0  0.644800  0.500000   0.874232     0.643475\n",
      "26  27.0  0.646355  0.500000   0.874677     0.643475\n",
      "27  28.0  0.645522  0.500000   0.877034     0.624957\n",
      "28  29.0  0.644875  0.500000   0.873302     0.622620\n",
      "29  30.0  0.648914  0.500000   0.873011     0.622620\n"
     ]
    }
   ],
   "source": [
    "KNN = KNN.reset_index().drop('index', axis=1)\n",
    "\n",
    "print(KNN)\n",
    "\n",
    "KNN.to_csv('model_scores/bestKNN.csv')"
   ]
  },
  {
   "cell_type": "code",
   "execution_count": 33,
   "metadata": {},
   "outputs": [
    {
     "name": "stdout",
     "output_type": "stream",
     "text": [
      "Best AUC of cv 0.6513123605827611 with k=22 and corresponding test 0.5\n",
      "Best AUC of cv scaled 0.8788046786369016 with k=22 and corresponding test 0.6388023537556248\n"
     ]
    }
   ],
   "source": [
    "bestknn = KNN.idxmax()\n",
    "#print(bestknn['auc_cv'])\n",
    "print(f\"Best AUC of cv {KNN['auc_cv'][bestknn['auc_cv']]} with k={bestknn['auc_cv']+1} and corresponding test AUC {KNN['auc_test'][bestknn['auc_cv']]}\")\n",
    "print(f\"Best AUC of cv scaled {KNN['auc_cv_sc'][bestknn['auc_cv_sc']]} with k={bestknn['auc_cv_sc']+1} and corresponding test AUC {KNN['auc_test_sc'][bestknn['auc_cv_sc']]}\")\n",
    "\n"
   ]
  },
  {
   "attachments": {},
   "cell_type": "markdown",
   "metadata": {},
   "source": [
    "## SVM\n",
    "\n",
    "Pri podpornih vektorjih sem preveril linearno, polinomsko in sigmoidno jedo. Za paramater komplesnosti `C` sem stestiral 1 in 10"
   ]
  },
  {
   "cell_type": "code",
   "execution_count": null,
   "metadata": {},
   "outputs": [],
   "source": [
    "from sklearn.svm import SVC\n",
    "\n",
    "\n",
    "dtsvm = {'kernel':[], 'C':[], 'auc_cv':[], 'auc_test':[], 'auc_cv_sc':[], 'auc_test_sc':[]}\n",
    "SVM = pd.DataFrame(dtsvm)\n",
    "\n",
    "c_all = [1,10]\n",
    "kernels = ['linear', 'poly', 'sigmoid']\n",
    "\n",
    "for c in c_all:\n",
    "    for kernel in kernels:\n",
    "        # not scaled\n",
    "        svm = SVC(kernel=kernel, C=c, random_state=42)\n",
    "        cv = cross_validate(svm, X_train, y_train, cv=5,\n",
    "            scoring=('roc_auc'),\n",
    "            return_train_score=True)\n",
    "        svm.fit(X_train,y_train)\n",
    "        pred = svm.predict(X_test)\n",
    "\n",
    "        # scaled\n",
    "        svm_sc = SVC(kernel=kernel, C=c, random_state=42)\n",
    "        cv_sc = cross_validate(svm_sc, X_train_sc, y_train, cv=5,\n",
    "            scoring=('roc_auc'),\n",
    "            return_train_score=True)\n",
    "        svm_sc.fit(X_train_sc, y_train)\n",
    "        pred_sc = svm_sc.predict(X_test_sc)\n",
    "\n",
    "        dti = pd.DataFrame({'kernel':[kernel],'C':[c] , 'auc_cv':[np.mean(cv['test_score'])], 'auc_test':[roc_auc_score(y_test, pred)],\n",
    "                            'auc_cv_sc':[np.mean(cv_sc['test_score'])], 'auc_test_sc':[roc_auc_score(y_test, pred_sc)]})\n",
    "        SVM = SVM.append(dti)\n"
   ]
  },
  {
   "cell_type": "code",
   "execution_count": 32,
   "metadata": {},
   "outputs": [
    {
     "name": "stdout",
     "output_type": "stream",
     "text": [
      "    kernel     C    auc_cv  auc_test  auc_cv_sc  auc_test_sc\n",
      "0   linear   1.0  0.785345  0.745067   0.882919     0.705867\n",
      "1     poly   1.0  0.598600  0.518519   0.872821     0.620284\n",
      "2  sigmoid   1.0  0.369386  0.541364   0.661341     0.652302\n",
      "3   linear  10.0  0.773971  0.691848   0.885612     0.708204\n",
      "4     poly  10.0  0.471172  0.537037   0.840054     0.652648\n",
      "5  sigmoid  10.0  0.368012  0.541364   0.616342     0.693839\n"
     ]
    }
   ],
   "source": [
    "SVM = SVM.reset_index().drop('index', axis=1)\n",
    "print(SVM)\n",
    "SVM.to_csv('model_scores/bestSVM.csv')"
   ]
  },
  {
   "cell_type": "code",
   "execution_count": 41,
   "metadata": {},
   "outputs": [
    {
     "name": "stdout",
     "output_type": "stream",
     "text": [
      "\n",
      "Best AUC of cv 0.7853449199799003 \n",
      "with C=1.0 kernel=linear\n",
      "and corresponding test AUC 0.7450674974039461\n",
      "\n",
      "Best AUC of cv scaled 0.885611754089776 \n",
      "with C=10.0 kernel=linear \n",
      "and corresponding test AUC 0.7082035306334372\n"
     ]
    }
   ],
   "source": [
    "bestsvm = SVM.drop('kernel', axis=1).idxmax()\n",
    "#print(bestsvm)\n",
    "print(f\"\"\"\n",
    "Best AUC of cv {SVM['auc_cv'][bestsvm['auc_cv']]} \n",
    "with C={SVM['C'][bestsvm['auc_cv']]} kernel={SVM['kernel'][bestsvm['auc_cv']]}\n",
    "and corresponding test AUC {SVM['auc_test'][bestsvm['auc_cv']]}\"\"\")\n",
    "print(f\"\"\"\n",
    "Best AUC of cv scaled {SVM['auc_cv_sc'][bestsvm['auc_cv_sc']]} \n",
    "with C={SVM['C'][bestsvm['auc_cv_sc']]} kernel={SVM['kernel'][bestsvm['auc_cv_sc']]} \n",
    "and corresponding test AUC {SVM['auc_test_sc'][bestsvm['auc_cv_sc']]}\"\"\")\n"
   ]
  },
  {
   "attachments": {},
   "cell_type": "markdown",
   "metadata": {},
   "source": [
    "## Random forest\n",
    "\n",
    "Optimizacija hiperparametrov: izbira max_depth = [2, 7, 12, 17, 22, 27, 32, 37, 42, 47] in min_samples_split = [1, 3, 5, 7, 9, 11, 13, 15, 17, 19]"
   ]
  },
  {
   "cell_type": "code",
   "execution_count": 12,
   "metadata": {},
   "outputs": [],
   "source": [
    "from sklearn.ensemble import RandomForestClassifier\n",
    "\n",
    "\n",
    "dt = {'max_depth':[],'min_samples_split':[], 'auc_cv':[], 'auc_test':[], 'auc_cv_sc':[], 'auc_test_sc':[]}\n",
    "RF = pd.DataFrame(dt)\n",
    "\n",
    "max_depths = list(range(2, 50, 5))\n",
    "min_sampls = list(range(1, 20, 2))\n",
    "\n",
    "\n",
    "for max_d in max_depths:\n",
    "    for min_s in min_sampls:\n",
    "        # not scaled\n",
    "        rf = RandomForestClassifier(max_depth=max_d,min_samples_split=min_s)\n",
    "        cv = cross_validate(rf, X_train, y_train, cv=5,\n",
    "        scoring=('roc_auc'),\n",
    "        return_train_score=True)\n",
    "        rf.fit(X_train,y_train)\n",
    "        pred = rf.predict(X_test)\n",
    "        # scaled\n",
    "        rf_sc = RandomForestClassifier(max_depth=max_d,min_samples_split=min_s)\n",
    "        cv_sc = cross_validate(rf_sc, X_train_sc, y_train, cv=5,\n",
    "        scoring=('roc_auc'),\n",
    "        return_train_score=True)\n",
    "        rf_sc.fit(X_train_sc, y_train)\n",
    "        pred_sc = rf_sc.predict(X_test_sc)\n",
    "\n",
    "        dti = pd.DataFrame({'max_depth':[max_d],'min_samples_split':[min_s], \n",
    "                            'auc_cv':[np.mean(cv['test_score'])], 'auc_test':[roc_auc_score(y_test, pred)],\n",
    "                            'auc_cv_sc':[np.mean(cv_sc['test_score'])], 'auc_test_sc':[roc_auc_score(y_test, pred_sc)]})\n",
    "        RF = RF.append(dti)"
   ]
  },
  {
   "cell_type": "code",
   "execution_count": 39,
   "metadata": {},
   "outputs": [
    {
     "name": "stdout",
     "output_type": "stream",
     "text": [
      "    max_depth  min_samples_split    auc_cv  auc_test  auc_cv_sc  auc_test_sc\n",
      "0         2.0                1.0  0.882948  0.500000   0.882112     0.500000\n",
      "1         2.0                3.0  0.877291  0.500000   0.879778     0.500000\n",
      "2         2.0                5.0  0.882490  0.500000   0.883998     0.500000\n",
      "3         2.0                7.0  0.878572  0.500000   0.883029     0.500000\n",
      "4         2.0                9.0  0.878305  0.500000   0.882696     0.500000\n",
      "..        ...                ...       ...       ...        ...          ...\n",
      "95       47.0               11.0  0.926973  0.643475   0.926054     0.694358\n",
      "96       47.0               13.0  0.929814  0.659657   0.926484     0.673503\n",
      "97       47.0               15.0  0.927204  0.661994   0.923801     0.694358\n",
      "98       47.0               17.0  0.922884  0.694358   0.922863     0.675839\n",
      "99       47.0               19.0  0.928968  0.678176   0.920293     0.675839\n",
      "\n",
      "[100 rows x 6 columns]\n"
     ]
    }
   ],
   "source": [
    "RF = RF.reset_index().drop('index', axis=1)\n",
    "print(RF)\n",
    "RF.to_csv('model_scores/bestRF.csv')"
   ]
  },
  {
   "cell_type": "code",
   "execution_count": 43,
   "metadata": {},
   "outputs": [
    {
     "name": "stdout",
     "output_type": "stream",
     "text": [
      "\n",
      "Best AUC of cv 0.933307194764305 \n",
      "with max_depth=32.0 min_samples_split=5.0\n",
      "and corresponding test AUC 0.6966943579093112\n",
      "\n",
      "Best AUC of cv scaled 0.9322728420308515 \n",
      "with max_depth=27.0 min_samples_split=1.0 \n",
      "and corresponding test AUC 0.7337313949463482\n"
     ]
    }
   ],
   "source": [
    "bestrf = RF.idxmax()\n",
    "#print(bestrf)\n",
    "print(f\"\"\"\n",
    "Best AUC of cv {RF['auc_cv'][bestrf['auc_cv']]} \n",
    "with max_depth={RF['max_depth'][bestrf['auc_cv']]} min_samples_split={RF['min_samples_split'][bestrf['auc_cv']]}\n",
    "and corresponding test AUC {RF['auc_test'][bestrf['auc_cv']]}\"\"\")\n",
    "print(f\"\"\"\n",
    "Best AUC of cv scaled {RF['auc_cv_sc'][bestrf['auc_cv_sc']]} \n",
    "with max_depth={RF['max_depth'][bestrf['auc_cv_sc']]} min_samples_split={RF['min_samples_split'][bestrf['auc_cv_sc']]} \n",
    "and corresponding test AUC {RF['auc_test_sc'][bestrf['auc_cv_sc']]}\"\"\")"
   ]
  },
  {
   "attachments": {},
   "cell_type": "markdown",
   "metadata": {},
   "source": [
    "### Izbira najbolsega modela\n",
    "\n",
    "Njaboljsi model sem izbral na podlagi najboljsega rezultata metrike AUC (ploscina pod ROC krivuljo). Izkazalo se je da je skaliranje podatkov pripomoglo k boljsim rezultatom, razen pri RF so bili rezultati dokaj podobni."
   ]
  },
  {
   "cell_type": "code",
   "execution_count": 56,
   "metadata": {},
   "outputs": [
    {
     "name": "stdout",
     "output_type": "stream",
     "text": [
      "\n",
      "Best model is RF \n",
      "with AUC score 0.9322728420308515 \n",
      "and params max_depth=27.0 & min_samples_split=1.0\n"
     ]
    }
   ],
   "source": [
    "models = pd.DataFrame(data={\n",
    "    'model':['KNN', 'SVM', 'RF'],\n",
    "    'bestAUC':[KNN['auc_cv_sc'][bestknn['auc_cv_sc']], \n",
    "               SVM['auc_cv_sc'][bestsvm['auc_cv_sc']], \n",
    "               RF['auc_cv_sc'][bestrf['auc_cv_sc']]],\n",
    "    'params':[f\"{KNN['k'][bestknn['auc_cv_sc']]}\", \n",
    "              f\"C={SVM['C'][bestsvm['auc_cv_sc']]} & kernel={SVM['kernel'][bestsvm['auc_cv_sc']]}\", \n",
    "              f\"max_depth={RF['max_depth'][bestrf['auc_cv_sc']]} & min_samples_split={RF['min_samples_split'][bestrf['auc_cv_sc']]}\"]\n",
    "        }\n",
    "    ).set_index('model')\n",
    "\n",
    "bestmodel = models.drop('params', axis=1).idxmax()\n",
    "print(f\"\"\"\n",
    "Best model is {bestmodel['bestAUC']} \n",
    "with AUC score {models['bestAUC'][bestmodel['bestAUC']]} \n",
    "and params {models['params'][bestmodel['bestAUC']]}\"\"\")"
   ]
  }
 ],
 "metadata": {
  "kernelspec": {
   "display_name": "venv",
   "language": "python",
   "name": "python3"
  },
  "language_info": {
   "codemirror_mode": {
    "name": "ipython",
    "version": 3
   },
   "file_extension": ".py",
   "mimetype": "text/x-python",
   "name": "python",
   "nbconvert_exporter": "python",
   "pygments_lexer": "ipython3",
   "version": "3.11.1"
  },
  "orig_nbformat": 4
 },
 "nbformat": 4,
 "nbformat_minor": 2
}
